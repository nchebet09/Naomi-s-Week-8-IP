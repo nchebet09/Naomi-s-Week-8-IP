{
  "nbformat": 4,
  "nbformat_minor": 0,
  "metadata": {
    "colab": {
      "name": "Naomi's Week 8 IP, Moringa School August 6th",
      "provenance": [],
      "collapsed_sections": [],
      "toc_visible": true,
      "authorship_tag": "ABX9TyMCzIgn/FSehCMGTBF3k03x",
      "include_colab_link": true
    },
    "kernelspec": {
      "name": "python3",
      "display_name": "Python 3"
    }
  },
  "cells": [
    {
      "cell_type": "markdown",
      "metadata": {
        "id": "view-in-github",
        "colab_type": "text"
      },
      "source": [
        "<a href=\"https://colab.research.google.com/github/nchebet09/Naomi-s-Week-8-IP/blob/master/Naomi's_Week_8_IP%2C_Moringa_School_August_6th.ipynb\" target=\"_parent\"><img src=\"https://colab.research.google.com/assets/colab-badge.svg\" alt=\"Open In Colab\"/></a>"
      ]
    },
    {
      "cell_type": "markdown",
      "metadata": {
        "id": "OlQWHgV1rvjZ",
        "colab_type": "text"
      },
      "source": [
        "## Documentation"
      ]
    },
    {
      "cell_type": "markdown",
      "metadata": {
        "id": "Ut7XFDzWr1WD",
        "colab_type": "text"
      },
      "source": [
        "### a.) Specifying the question\n",
        "\n",
        "Do the patient's previous symptoms indicate that the patient has hypothyroid?"
      ]
    },
    {
      "cell_type": "markdown",
      "metadata": {
        "id": "c2RMG1a-sbrb",
        "colab_type": "text"
      },
      "source": [
        "### b.) Metrics for success\n",
        "\n",
        "Successfully creating a model that can predict if the patient's previous symptoms indicate that the patient has hypothyroid. To achieve this, we will test our data on different models focusing on decision trees and support vector machines where we will use accuracy scores to evaluate the models."
      ]
    },
    {
      "cell_type": "markdown",
      "metadata": {
        "id": "5FQhyhOMsUok",
        "colab_type": "text"
      },
      "source": [
        "### c.) Understanding the business context\n",
        "\n",
        "As a data scientist you are given health data from Nairobi hospital about hypothyroidism. Hypothyroidism is a condition in which thyroid gland does not produce enough of certain crucial hormones. Some of these hormones are triiodothyronine (T3) and thyroxine (T4). The hormones have a big impact on health, affecting the aspects of metabolism and control of vital functions such as body temperature and heart rate. \n",
        "\n",
        "As a data scientist, you have been given the responsibility of creating the best model that would predict whether or not the patient's symptoms indicate if that patient has hypothyroid based on the given dataset.\n",
        "\n",
        "The dataset given contains 3,163 records and 26 columns. The columns are shown below:\n",
        "\n",
        "#### **Dataset columns**\n",
        "\n",
        "1. status — hypothyroid positive or negative\n",
        "2. age — age of patient\n",
        "3. sex — gender of patient\n",
        "4. on_thyroxine — is the patient using thyroxine or not\n",
        "5. query_on_thyroxine — \n",
        "6. on_antithyroid_medication\n",
        "7. thyroid_surgery — have had thyroid surgery or not\n",
        "8. query_hypothyroid\n",
        "9. query_hyperthyroid — a condition of producing too much thyroid hormone\n",
        "10. pregnant — some women could develop hypthyroidism during or after prograncy\n",
        "11. sick\n",
        "12. tumor\n",
        "13. lithium — medication used to treat certain psychiatric disorders can contribute to hypothyroidism\n",
        "14. goitre — does the patient have goitre or not?\n",
        "15. TSH_measured\n",
        "16. TSH — thyroid Stimulating Hormone (test for hypothyroidism, you measure the level of TSH) failure of pituitary gland to produce enough TSH could lead to Hypothyroidism\n",
        "17. T3_measured — measure of T3 (yes or no)\n",
        "18. T3 — triiodothyronine (hormone produced by thyroid gland)\n",
        "19. TT4_measured\n",
        "20. TT4 — total thyroxine\n",
        "21. T4U_measured\n",
        "22. T4U\n",
        "23. FTI_measured\n",
        "24. FTI — free thyroxine index\n",
        "25. TBG_measured\n",
        "26. TBG — Thyroxine_binding globulin"
      ]
    },
    {
      "cell_type": "markdown",
      "metadata": {
        "id": "JocWe3PCsj9N",
        "colab_type": "text"
      },
      "source": [
        "### d.) Experimental design\n",
        "\n",
        "The approach for this project will include:\n",
        "\n",
        "1. Reading material online to better understand hypothyroidism\n",
        "\n",
        "2. Reading and Initial Data Exploration\n",
        "\n",
        "3. Data cleaning\n",
        "\n",
        "4. EDA\n",
        "\n",
        "5. Impelementing the solution with decision trees and support vector machines\n",
        "\n",
        "6. Challenging the solution\n",
        "7. Conclusion"
      ]
    },
    {
      "cell_type": "markdown",
      "metadata": {
        "id": "W_gWoKN_BWPs",
        "colab_type": "text"
      },
      "source": [
        "## Importing libraries"
      ]
    },
    {
      "cell_type": "code",
      "metadata": {
        "id": "4LVQSWM_Bfci",
        "colab_type": "code",
        "colab": {}
      },
      "source": [
        "import pandas as pd\n",
        "import numpy as np\n",
        "import seaborn as sns\n",
        "import matplotlib.pyplot as plt\n",
        "\n",
        "from sklearn.model_selection import train_test_split\n",
        "from sklearn.ensemble import RandomForestClassifier\n",
        "from sklearn import metrics\n",
        "from sklearn.metrics import confusion_matrix\n",
        "\n",
        "from sklearn.ensemble import GradientBoostingClassifier\n",
        "from sklearn.tree import DecisionTreeClassifier\n",
        "from sklearn.svm import SVC\n",
        "from sklearn.metrics import confusion_matrix, accuracy_score\n",
        "import seaborn as sns; sns.set(font_scale=1.2)\n",
        "\n",
        "import warnings\n",
        "warnings.filterwarnings('ignore')"
      ],
      "execution_count": 118,
      "outputs": []
    },
    {
      "cell_type": "markdown",
      "metadata": {
        "id": "w0WvX_NcBJ7l",
        "colab_type": "text"
      },
      "source": [
        "## Reading and Initial Data Exploration"
      ]
    },
    {
      "cell_type": "code",
      "metadata": {
        "id": "eAI6YailA7HI",
        "colab_type": "code",
        "colab": {
          "base_uri": "https://localhost:8080/",
          "height": 223
        },
        "outputId": "c87ef038-4f53-47fe-aaa2-363ac7b0347a"
      },
      "source": [
        "# loading data and previewing the first 5 rows\n",
        "\n",
        "thyroid_df = pd.read_csv('hypothyroid.csv')\n",
        "thyroid_df.head()"
      ],
      "execution_count": null,
      "outputs": [
        {
          "output_type": "execute_result",
          "data": {
            "text/html": [
              "<div>\n",
              "<style scoped>\n",
              "    .dataframe tbody tr th:only-of-type {\n",
              "        vertical-align: middle;\n",
              "    }\n",
              "\n",
              "    .dataframe tbody tr th {\n",
              "        vertical-align: top;\n",
              "    }\n",
              "\n",
              "    .dataframe thead th {\n",
              "        text-align: right;\n",
              "    }\n",
              "</style>\n",
              "<table border=\"1\" class=\"dataframe\">\n",
              "  <thead>\n",
              "    <tr style=\"text-align: right;\">\n",
              "      <th></th>\n",
              "      <th>status</th>\n",
              "      <th>age</th>\n",
              "      <th>sex</th>\n",
              "      <th>on_thyroxine</th>\n",
              "      <th>query_on_thyroxine</th>\n",
              "      <th>on_antithyroid_medication</th>\n",
              "      <th>thyroid_surgery</th>\n",
              "      <th>query_hypothyroid</th>\n",
              "      <th>query_hyperthyroid</th>\n",
              "      <th>pregnant</th>\n",
              "      <th>sick</th>\n",
              "      <th>tumor</th>\n",
              "      <th>lithium</th>\n",
              "      <th>goitre</th>\n",
              "      <th>TSH_measured</th>\n",
              "      <th>TSH</th>\n",
              "      <th>T3_measured</th>\n",
              "      <th>T3</th>\n",
              "      <th>TT4_measured</th>\n",
              "      <th>TT4</th>\n",
              "      <th>T4U_measured</th>\n",
              "      <th>T4U</th>\n",
              "      <th>FTI_measured</th>\n",
              "      <th>FTI</th>\n",
              "      <th>TBG_measured</th>\n",
              "      <th>TBG</th>\n",
              "    </tr>\n",
              "  </thead>\n",
              "  <tbody>\n",
              "    <tr>\n",
              "      <th>0</th>\n",
              "      <td>hypothyroid</td>\n",
              "      <td>72</td>\n",
              "      <td>M</td>\n",
              "      <td>f</td>\n",
              "      <td>f</td>\n",
              "      <td>f</td>\n",
              "      <td>f</td>\n",
              "      <td>f</td>\n",
              "      <td>f</td>\n",
              "      <td>f</td>\n",
              "      <td>f</td>\n",
              "      <td>f</td>\n",
              "      <td>f</td>\n",
              "      <td>f</td>\n",
              "      <td>y</td>\n",
              "      <td>30</td>\n",
              "      <td>y</td>\n",
              "      <td>0.60</td>\n",
              "      <td>y</td>\n",
              "      <td>15</td>\n",
              "      <td>y</td>\n",
              "      <td>1.48</td>\n",
              "      <td>y</td>\n",
              "      <td>10</td>\n",
              "      <td>n</td>\n",
              "      <td>?</td>\n",
              "    </tr>\n",
              "    <tr>\n",
              "      <th>1</th>\n",
              "      <td>hypothyroid</td>\n",
              "      <td>15</td>\n",
              "      <td>F</td>\n",
              "      <td>t</td>\n",
              "      <td>f</td>\n",
              "      <td>f</td>\n",
              "      <td>f</td>\n",
              "      <td>f</td>\n",
              "      <td>f</td>\n",
              "      <td>f</td>\n",
              "      <td>f</td>\n",
              "      <td>f</td>\n",
              "      <td>f</td>\n",
              "      <td>f</td>\n",
              "      <td>y</td>\n",
              "      <td>145</td>\n",
              "      <td>y</td>\n",
              "      <td>1.70</td>\n",
              "      <td>y</td>\n",
              "      <td>19</td>\n",
              "      <td>y</td>\n",
              "      <td>1.13</td>\n",
              "      <td>y</td>\n",
              "      <td>17</td>\n",
              "      <td>n</td>\n",
              "      <td>?</td>\n",
              "    </tr>\n",
              "    <tr>\n",
              "      <th>2</th>\n",
              "      <td>hypothyroid</td>\n",
              "      <td>24</td>\n",
              "      <td>M</td>\n",
              "      <td>f</td>\n",
              "      <td>f</td>\n",
              "      <td>f</td>\n",
              "      <td>f</td>\n",
              "      <td>f</td>\n",
              "      <td>f</td>\n",
              "      <td>f</td>\n",
              "      <td>f</td>\n",
              "      <td>f</td>\n",
              "      <td>f</td>\n",
              "      <td>f</td>\n",
              "      <td>y</td>\n",
              "      <td>0</td>\n",
              "      <td>y</td>\n",
              "      <td>0.20</td>\n",
              "      <td>y</td>\n",
              "      <td>4</td>\n",
              "      <td>y</td>\n",
              "      <td>1</td>\n",
              "      <td>y</td>\n",
              "      <td>0</td>\n",
              "      <td>n</td>\n",
              "      <td>?</td>\n",
              "    </tr>\n",
              "    <tr>\n",
              "      <th>3</th>\n",
              "      <td>hypothyroid</td>\n",
              "      <td>24</td>\n",
              "      <td>F</td>\n",
              "      <td>f</td>\n",
              "      <td>f</td>\n",
              "      <td>f</td>\n",
              "      <td>f</td>\n",
              "      <td>f</td>\n",
              "      <td>f</td>\n",
              "      <td>f</td>\n",
              "      <td>f</td>\n",
              "      <td>f</td>\n",
              "      <td>f</td>\n",
              "      <td>f</td>\n",
              "      <td>y</td>\n",
              "      <td>430</td>\n",
              "      <td>y</td>\n",
              "      <td>0.40</td>\n",
              "      <td>y</td>\n",
              "      <td>6</td>\n",
              "      <td>y</td>\n",
              "      <td>1.04</td>\n",
              "      <td>y</td>\n",
              "      <td>6</td>\n",
              "      <td>n</td>\n",
              "      <td>?</td>\n",
              "    </tr>\n",
              "    <tr>\n",
              "      <th>4</th>\n",
              "      <td>hypothyroid</td>\n",
              "      <td>77</td>\n",
              "      <td>M</td>\n",
              "      <td>f</td>\n",
              "      <td>f</td>\n",
              "      <td>f</td>\n",
              "      <td>f</td>\n",
              "      <td>f</td>\n",
              "      <td>f</td>\n",
              "      <td>f</td>\n",
              "      <td>f</td>\n",
              "      <td>f</td>\n",
              "      <td>f</td>\n",
              "      <td>f</td>\n",
              "      <td>y</td>\n",
              "      <td>7.30</td>\n",
              "      <td>y</td>\n",
              "      <td>1.20</td>\n",
              "      <td>y</td>\n",
              "      <td>57</td>\n",
              "      <td>y</td>\n",
              "      <td>1.28</td>\n",
              "      <td>y</td>\n",
              "      <td>44</td>\n",
              "      <td>n</td>\n",
              "      <td>?</td>\n",
              "    </tr>\n",
              "  </tbody>\n",
              "</table>\n",
              "</div>"
            ],
            "text/plain": [
              "        status age sex on_thyroxine  ... FTI_measured FTI TBG_measured TBG\n",
              "0  hypothyroid  72   M            f  ...            y  10            n   ?\n",
              "1  hypothyroid  15   F            t  ...            y  17            n   ?\n",
              "2  hypothyroid  24   M            f  ...            y   0            n   ?\n",
              "3  hypothyroid  24   F            f  ...            y   6            n   ?\n",
              "4  hypothyroid  77   M            f  ...            y  44            n   ?\n",
              "\n",
              "[5 rows x 26 columns]"
            ]
          },
          "metadata": {
            "tags": []
          },
          "execution_count": 2
        }
      ]
    },
    {
      "cell_type": "code",
      "metadata": {
        "id": "VM8rjnF1CcjC",
        "colab_type": "code",
        "colab": {
          "base_uri": "https://localhost:8080/",
          "height": 223
        },
        "outputId": "bde30fc4-0432-42a1-f36a-433088177689"
      },
      "source": [
        "# previewing the tail\n",
        "\n",
        "thyroid_df.tail()"
      ],
      "execution_count": null,
      "outputs": [
        {
          "output_type": "execute_result",
          "data": {
            "text/html": [
              "<div>\n",
              "<style scoped>\n",
              "    .dataframe tbody tr th:only-of-type {\n",
              "        vertical-align: middle;\n",
              "    }\n",
              "\n",
              "    .dataframe tbody tr th {\n",
              "        vertical-align: top;\n",
              "    }\n",
              "\n",
              "    .dataframe thead th {\n",
              "        text-align: right;\n",
              "    }\n",
              "</style>\n",
              "<table border=\"1\" class=\"dataframe\">\n",
              "  <thead>\n",
              "    <tr style=\"text-align: right;\">\n",
              "      <th></th>\n",
              "      <th>status</th>\n",
              "      <th>age</th>\n",
              "      <th>sex</th>\n",
              "      <th>on_thyroxine</th>\n",
              "      <th>query_on_thyroxine</th>\n",
              "      <th>on_antithyroid_medication</th>\n",
              "      <th>thyroid_surgery</th>\n",
              "      <th>query_hypothyroid</th>\n",
              "      <th>query_hyperthyroid</th>\n",
              "      <th>pregnant</th>\n",
              "      <th>sick</th>\n",
              "      <th>tumor</th>\n",
              "      <th>lithium</th>\n",
              "      <th>goitre</th>\n",
              "      <th>TSH_measured</th>\n",
              "      <th>TSH</th>\n",
              "      <th>T3_measured</th>\n",
              "      <th>T3</th>\n",
              "      <th>TT4_measured</th>\n",
              "      <th>TT4</th>\n",
              "      <th>T4U_measured</th>\n",
              "      <th>T4U</th>\n",
              "      <th>FTI_measured</th>\n",
              "      <th>FTI</th>\n",
              "      <th>TBG_measured</th>\n",
              "      <th>TBG</th>\n",
              "    </tr>\n",
              "  </thead>\n",
              "  <tbody>\n",
              "    <tr>\n",
              "      <th>3158</th>\n",
              "      <td>negative</td>\n",
              "      <td>58</td>\n",
              "      <td>F</td>\n",
              "      <td>f</td>\n",
              "      <td>f</td>\n",
              "      <td>f</td>\n",
              "      <td>f</td>\n",
              "      <td>f</td>\n",
              "      <td>f</td>\n",
              "      <td>f</td>\n",
              "      <td>f</td>\n",
              "      <td>f</td>\n",
              "      <td>f</td>\n",
              "      <td>f</td>\n",
              "      <td>y</td>\n",
              "      <td>5.80</td>\n",
              "      <td>y</td>\n",
              "      <td>1.70</td>\n",
              "      <td>y</td>\n",
              "      <td>86</td>\n",
              "      <td>y</td>\n",
              "      <td>0.91</td>\n",
              "      <td>y</td>\n",
              "      <td>95</td>\n",
              "      <td>n</td>\n",
              "      <td>?</td>\n",
              "    </tr>\n",
              "    <tr>\n",
              "      <th>3159</th>\n",
              "      <td>negative</td>\n",
              "      <td>29</td>\n",
              "      <td>F</td>\n",
              "      <td>f</td>\n",
              "      <td>f</td>\n",
              "      <td>f</td>\n",
              "      <td>f</td>\n",
              "      <td>f</td>\n",
              "      <td>f</td>\n",
              "      <td>f</td>\n",
              "      <td>f</td>\n",
              "      <td>f</td>\n",
              "      <td>f</td>\n",
              "      <td>f</td>\n",
              "      <td>y</td>\n",
              "      <td>0.80</td>\n",
              "      <td>y</td>\n",
              "      <td>1.80</td>\n",
              "      <td>y</td>\n",
              "      <td>99</td>\n",
              "      <td>y</td>\n",
              "      <td>1.01</td>\n",
              "      <td>y</td>\n",
              "      <td>98</td>\n",
              "      <td>n</td>\n",
              "      <td>?</td>\n",
              "    </tr>\n",
              "    <tr>\n",
              "      <th>3160</th>\n",
              "      <td>negative</td>\n",
              "      <td>77</td>\n",
              "      <td>M</td>\n",
              "      <td>f</td>\n",
              "      <td>f</td>\n",
              "      <td>f</td>\n",
              "      <td>f</td>\n",
              "      <td>f</td>\n",
              "      <td>f</td>\n",
              "      <td>f</td>\n",
              "      <td>f</td>\n",
              "      <td>f</td>\n",
              "      <td>f</td>\n",
              "      <td>f</td>\n",
              "      <td>y</td>\n",
              "      <td>1.20</td>\n",
              "      <td>y</td>\n",
              "      <td>0.60</td>\n",
              "      <td>y</td>\n",
              "      <td>71</td>\n",
              "      <td>y</td>\n",
              "      <td>0.68</td>\n",
              "      <td>y</td>\n",
              "      <td>104</td>\n",
              "      <td>n</td>\n",
              "      <td>?</td>\n",
              "    </tr>\n",
              "    <tr>\n",
              "      <th>3161</th>\n",
              "      <td>negative</td>\n",
              "      <td>74</td>\n",
              "      <td>F</td>\n",
              "      <td>f</td>\n",
              "      <td>f</td>\n",
              "      <td>f</td>\n",
              "      <td>f</td>\n",
              "      <td>f</td>\n",
              "      <td>f</td>\n",
              "      <td>f</td>\n",
              "      <td>f</td>\n",
              "      <td>f</td>\n",
              "      <td>f</td>\n",
              "      <td>f</td>\n",
              "      <td>y</td>\n",
              "      <td>1.30</td>\n",
              "      <td>y</td>\n",
              "      <td>0.10</td>\n",
              "      <td>y</td>\n",
              "      <td>65</td>\n",
              "      <td>y</td>\n",
              "      <td>0.48</td>\n",
              "      <td>y</td>\n",
              "      <td>137</td>\n",
              "      <td>n</td>\n",
              "      <td>?</td>\n",
              "    </tr>\n",
              "    <tr>\n",
              "      <th>3162</th>\n",
              "      <td>negative</td>\n",
              "      <td>56</td>\n",
              "      <td>F</td>\n",
              "      <td>t</td>\n",
              "      <td>f</td>\n",
              "      <td>f</td>\n",
              "      <td>f</td>\n",
              "      <td>f</td>\n",
              "      <td>f</td>\n",
              "      <td>f</td>\n",
              "      <td>f</td>\n",
              "      <td>f</td>\n",
              "      <td>f</td>\n",
              "      <td>f</td>\n",
              "      <td>y</td>\n",
              "      <td>0</td>\n",
              "      <td>y</td>\n",
              "      <td>1.80</td>\n",
              "      <td>y</td>\n",
              "      <td>139</td>\n",
              "      <td>y</td>\n",
              "      <td>0.97</td>\n",
              "      <td>y</td>\n",
              "      <td>143</td>\n",
              "      <td>n</td>\n",
              "      <td>?</td>\n",
              "    </tr>\n",
              "  </tbody>\n",
              "</table>\n",
              "</div>"
            ],
            "text/plain": [
              "        status age sex on_thyroxine  ... FTI_measured  FTI TBG_measured TBG\n",
              "3158  negative  58   F            f  ...            y   95            n   ?\n",
              "3159  negative  29   F            f  ...            y   98            n   ?\n",
              "3160  negative  77   M            f  ...            y  104            n   ?\n",
              "3161  negative  74   F            f  ...            y  137            n   ?\n",
              "3162  negative  56   F            t  ...            y  143            n   ?\n",
              "\n",
              "[5 rows x 26 columns]"
            ]
          },
          "metadata": {
            "tags": []
          },
          "execution_count": 3
        }
      ]
    },
    {
      "cell_type": "code",
      "metadata": {
        "id": "TkjI_v69B8bR",
        "colab_type": "code",
        "colab": {
          "base_uri": "https://localhost:8080/",
          "height": 35
        },
        "outputId": "01728927-8e3c-4ac3-ac66-d5b31520b832"
      },
      "source": [
        "# checking for the shape\n",
        "\n",
        "thyroid_df.shape\n",
        "\n",
        "# our dataset has 3,163 records and 26 columns"
      ],
      "execution_count": null,
      "outputs": [
        {
          "output_type": "execute_result",
          "data": {
            "text/plain": [
              "(3163, 26)"
            ]
          },
          "metadata": {
            "tags": []
          },
          "execution_count": 4
        }
      ]
    },
    {
      "cell_type": "code",
      "metadata": {
        "id": "WCQdIwP_CJT4",
        "colab_type": "code",
        "colab": {
          "base_uri": "https://localhost:8080/",
          "height": 123
        },
        "outputId": "ca801dcc-0d26-4ed2-9867-91db27370062"
      },
      "source": [
        "# previewing column names\n",
        "\n",
        "thyroid_df.columns"
      ],
      "execution_count": null,
      "outputs": [
        {
          "output_type": "execute_result",
          "data": {
            "text/plain": [
              "Index(['status', 'age', 'sex', 'on_thyroxine', 'query_on_thyroxine',\n",
              "       'on_antithyroid_medication', 'thyroid_surgery', 'query_hypothyroid',\n",
              "       'query_hyperthyroid', 'pregnant', 'sick', 'tumor', 'lithium', 'goitre',\n",
              "       'TSH_measured', 'TSH', 'T3_measured', 'T3', 'TT4_measured', 'TT4',\n",
              "       'T4U_measured', 'T4U', 'FTI_measured', 'FTI', 'TBG_measured', 'TBG'],\n",
              "      dtype='object')"
            ]
          },
          "metadata": {
            "tags": []
          },
          "execution_count": 5
        }
      ]
    },
    {
      "cell_type": "code",
      "metadata": {
        "id": "cn3AtZOOeq8x",
        "colab_type": "code",
        "colab": {
          "base_uri": "https://localhost:8080/",
          "height": 492
        },
        "outputId": "4950e28b-3af6-44fa-9308-cc8fd742b441"
      },
      "source": [
        "# checking for data types\n",
        "\n",
        "thyroid_df.dtypes\n",
        "\n",
        "# all the columns datatypes are listed as object,\n",
        "# during cleaning we will need to change the columns whose data types have been listed incorrectly"
      ],
      "execution_count": null,
      "outputs": [
        {
          "output_type": "execute_result",
          "data": {
            "text/plain": [
              "status                       object\n",
              "age                          object\n",
              "sex                          object\n",
              "on_thyroxine                 object\n",
              "query_on_thyroxine           object\n",
              "on_antithyroid_medication    object\n",
              "thyroid_surgery              object\n",
              "query_hypothyroid            object\n",
              "query_hyperthyroid           object\n",
              "pregnant                     object\n",
              "sick                         object\n",
              "tumor                        object\n",
              "lithium                      object\n",
              "goitre                       object\n",
              "TSH_measured                 object\n",
              "TSH                          object\n",
              "T3_measured                  object\n",
              "T3                           object\n",
              "TT4_measured                 object\n",
              "TT4                          object\n",
              "T4U_measured                 object\n",
              "T4U                          object\n",
              "FTI_measured                 object\n",
              "FTI                          object\n",
              "TBG_measured                 object\n",
              "TBG                          object\n",
              "dtype: object"
            ]
          },
          "metadata": {
            "tags": []
          },
          "execution_count": 6
        }
      ]
    },
    {
      "cell_type": "code",
      "metadata": {
        "id": "47sD11H7CvWW",
        "colab_type": "code",
        "colab": {
          "base_uri": "https://localhost:8080/",
          "height": 492
        },
        "outputId": "4328e11d-e0e1-44fc-de26-da8aeb346d48"
      },
      "source": [
        "# checking for unique values in each column\n",
        "\n",
        "thyroid_df.nunique()"
      ],
      "execution_count": null,
      "outputs": [
        {
          "output_type": "execute_result",
          "data": {
            "text/plain": [
              "status                         2\n",
              "age                           93\n",
              "sex                            3\n",
              "on_thyroxine                   2\n",
              "query_on_thyroxine             2\n",
              "on_antithyroid_medication      2\n",
              "thyroid_surgery                2\n",
              "query_hypothyroid              2\n",
              "query_hyperthyroid             2\n",
              "pregnant                       2\n",
              "sick                           2\n",
              "tumor                          2\n",
              "lithium                        2\n",
              "goitre                         2\n",
              "TSH_measured                   2\n",
              "TSH                          240\n",
              "T3_measured                    2\n",
              "T3                            70\n",
              "TT4_measured                   2\n",
              "TT4                          269\n",
              "T4U_measured                   2\n",
              "T4U                          159\n",
              "FTI_measured                   2\n",
              "FTI                          281\n",
              "TBG_measured                   2\n",
              "TBG                           53\n",
              "dtype: int64"
            ]
          },
          "metadata": {
            "tags": []
          },
          "execution_count": 7
        }
      ]
    },
    {
      "cell_type": "code",
      "metadata": {
        "id": "FV3wIBsEDQW_",
        "colab_type": "code",
        "colab": {
          "base_uri": "https://localhost:8080/",
          "height": 35
        },
        "outputId": "e79ce2f8-e69b-4295-bcd5-6ade3895bb64"
      },
      "source": [
        "# checking for unique values in categorical columns\n",
        "\n",
        "thyroid_df['status'].unique()\n",
        "# this is our target variable. it has two categories: hypothyroid and negative"
      ],
      "execution_count": null,
      "outputs": [
        {
          "output_type": "execute_result",
          "data": {
            "text/plain": [
              "array(['hypothyroid', 'negative'], dtype=object)"
            ]
          },
          "metadata": {
            "tags": []
          },
          "execution_count": 8
        }
      ]
    },
    {
      "cell_type": "code",
      "metadata": {
        "id": "CJaLeVtlD3zd",
        "colab_type": "code",
        "colab": {
          "base_uri": "https://localhost:8080/",
          "height": 35
        },
        "outputId": "2afb5dda-7cc0-46ce-c06c-cebf1cded1d9"
      },
      "source": [
        "thyroid_df['sex'].unique()\n",
        "\n",
        "# there is a question mark on sex column that we will need to take care of during cleaning"
      ],
      "execution_count": null,
      "outputs": [
        {
          "output_type": "execute_result",
          "data": {
            "text/plain": [
              "array(['M', 'F', '?'], dtype=object)"
            ]
          },
          "metadata": {
            "tags": []
          },
          "execution_count": 9
        }
      ]
    },
    {
      "cell_type": "code",
      "metadata": {
        "id": "C69dXdSJF3pn",
        "colab_type": "code",
        "colab": {
          "base_uri": "https://localhost:8080/",
          "height": 35
        },
        "outputId": "001849d5-7c1b-4118-8960-4d7c6bdaaad0"
      },
      "source": [
        "thyroid_df['on_thyroxine'].unique()"
      ],
      "execution_count": null,
      "outputs": [
        {
          "output_type": "execute_result",
          "data": {
            "text/plain": [
              "array(['f', 't'], dtype=object)"
            ]
          },
          "metadata": {
            "tags": []
          },
          "execution_count": 10
        }
      ]
    },
    {
      "cell_type": "code",
      "metadata": {
        "id": "LuDCC-_rU7aj",
        "colab_type": "code",
        "colab": {
          "base_uri": "https://localhost:8080/",
          "height": 35
        },
        "outputId": "20dee906-5ab4-49c3-8f0d-0f6693ebbc8e"
      },
      "source": [
        "thyroid_df['query_on_thyroxine'].unique()"
      ],
      "execution_count": null,
      "outputs": [
        {
          "output_type": "execute_result",
          "data": {
            "text/plain": [
              "array(['f', 't'], dtype=object)"
            ]
          },
          "metadata": {
            "tags": []
          },
          "execution_count": 11
        }
      ]
    },
    {
      "cell_type": "code",
      "metadata": {
        "id": "0el7B46SU-jE",
        "colab_type": "code",
        "colab": {
          "base_uri": "https://localhost:8080/",
          "height": 35
        },
        "outputId": "815d8fce-d726-44f5-9172-3bb9aa66b8c4"
      },
      "source": [
        "thyroid_df['on_antithyroid_medication'].unique()"
      ],
      "execution_count": null,
      "outputs": [
        {
          "output_type": "execute_result",
          "data": {
            "text/plain": [
              "array(['f', 't'], dtype=object)"
            ]
          },
          "metadata": {
            "tags": []
          },
          "execution_count": 12
        }
      ]
    },
    {
      "cell_type": "code",
      "metadata": {
        "id": "D3KlPmmXVKL1",
        "colab_type": "code",
        "colab": {
          "base_uri": "https://localhost:8080/",
          "height": 35
        },
        "outputId": "bf416b34-6f69-42ea-eb38-e8ab96916ace"
      },
      "source": [
        "thyroid_df['thyroid_surgery'].unique()"
      ],
      "execution_count": null,
      "outputs": [
        {
          "output_type": "execute_result",
          "data": {
            "text/plain": [
              "array(['f', 't'], dtype=object)"
            ]
          },
          "metadata": {
            "tags": []
          },
          "execution_count": 13
        }
      ]
    },
    {
      "cell_type": "code",
      "metadata": {
        "id": "YIjDG18_VTVr",
        "colab_type": "code",
        "colab": {
          "base_uri": "https://localhost:8080/",
          "height": 35
        },
        "outputId": "91a07af5-c8d2-4f2e-d3dc-a75baa4d8aac"
      },
      "source": [
        "thyroid_df['query_hypothyroid'].unique()"
      ],
      "execution_count": null,
      "outputs": [
        {
          "output_type": "execute_result",
          "data": {
            "text/plain": [
              "array(['f', 't'], dtype=object)"
            ]
          },
          "metadata": {
            "tags": []
          },
          "execution_count": 14
        }
      ]
    },
    {
      "cell_type": "code",
      "metadata": {
        "id": "ZK4kGWjAVQEI",
        "colab_type": "code",
        "colab": {
          "base_uri": "https://localhost:8080/",
          "height": 35
        },
        "outputId": "9a283887-0269-45b4-86b3-c197522bab6f"
      },
      "source": [
        "thyroid_df['query_hyperthyroid'].unique()"
      ],
      "execution_count": null,
      "outputs": [
        {
          "output_type": "execute_result",
          "data": {
            "text/plain": [
              "array(['f', 't'], dtype=object)"
            ]
          },
          "metadata": {
            "tags": []
          },
          "execution_count": 15
        }
      ]
    },
    {
      "cell_type": "code",
      "metadata": {
        "id": "OWvKgVqkVcfK",
        "colab_type": "code",
        "colab": {
          "base_uri": "https://localhost:8080/",
          "height": 35
        },
        "outputId": "bbff9e73-93aa-4f1c-91fd-937335e3568c"
      },
      "source": [
        "thyroid_df['pregnant'].unique()"
      ],
      "execution_count": null,
      "outputs": [
        {
          "output_type": "execute_result",
          "data": {
            "text/plain": [
              "array(['f', 't'], dtype=object)"
            ]
          },
          "metadata": {
            "tags": []
          },
          "execution_count": 16
        }
      ]
    },
    {
      "cell_type": "code",
      "metadata": {
        "id": "nx9r893AVma5",
        "colab_type": "code",
        "colab": {
          "base_uri": "https://localhost:8080/",
          "height": 35
        },
        "outputId": "5d4f87d4-ce81-45c7-dac5-da8c5ba0ec40"
      },
      "source": [
        "thyroid_df['sick'].unique()"
      ],
      "execution_count": null,
      "outputs": [
        {
          "output_type": "execute_result",
          "data": {
            "text/plain": [
              "array(['f', 't'], dtype=object)"
            ]
          },
          "metadata": {
            "tags": []
          },
          "execution_count": 17
        }
      ]
    },
    {
      "cell_type": "code",
      "metadata": {
        "id": "uV_ntlIiVpTT",
        "colab_type": "code",
        "colab": {
          "base_uri": "https://localhost:8080/",
          "height": 35
        },
        "outputId": "ec490d01-4a8d-4049-e912-f325c0ac8b9f"
      },
      "source": [
        "thyroid_df['tumor'].unique()"
      ],
      "execution_count": null,
      "outputs": [
        {
          "output_type": "execute_result",
          "data": {
            "text/plain": [
              "array(['f', 't'], dtype=object)"
            ]
          },
          "metadata": {
            "tags": []
          },
          "execution_count": 18
        }
      ]
    },
    {
      "cell_type": "code",
      "metadata": {
        "id": "qBNYgj6vVsKU",
        "colab_type": "code",
        "colab": {
          "base_uri": "https://localhost:8080/",
          "height": 35
        },
        "outputId": "a29fcb90-365f-46f0-9c96-f4ef012f7881"
      },
      "source": [
        "thyroid_df['lithium'].unique()"
      ],
      "execution_count": null,
      "outputs": [
        {
          "output_type": "execute_result",
          "data": {
            "text/plain": [
              "array(['f', 't'], dtype=object)"
            ]
          },
          "metadata": {
            "tags": []
          },
          "execution_count": 19
        }
      ]
    },
    {
      "cell_type": "code",
      "metadata": {
        "id": "Nx5djyBIVvMV",
        "colab_type": "code",
        "colab": {
          "base_uri": "https://localhost:8080/",
          "height": 35
        },
        "outputId": "976c6c30-35a3-48cd-e303-8aa4604320dd"
      },
      "source": [
        "thyroid_df['goitre'].unique()"
      ],
      "execution_count": null,
      "outputs": [
        {
          "output_type": "execute_result",
          "data": {
            "text/plain": [
              "array(['f', 't'], dtype=object)"
            ]
          },
          "metadata": {
            "tags": []
          },
          "execution_count": 20
        }
      ]
    },
    {
      "cell_type": "code",
      "metadata": {
        "id": "XRTDPZxzV4mD",
        "colab_type": "code",
        "colab": {
          "base_uri": "https://localhost:8080/",
          "height": 35
        },
        "outputId": "55cf6f75-deb8-4635-a7fa-c2c60fe32bd3"
      },
      "source": [
        "thyroid_df['TSH_measured'].unique()"
      ],
      "execution_count": null,
      "outputs": [
        {
          "output_type": "execute_result",
          "data": {
            "text/plain": [
              "array(['y', 'n'], dtype=object)"
            ]
          },
          "metadata": {
            "tags": []
          },
          "execution_count": 21
        }
      ]
    },
    {
      "cell_type": "code",
      "metadata": {
        "id": "WZ3aPgQNWQog",
        "colab_type": "code",
        "colab": {
          "base_uri": "https://localhost:8080/",
          "height": 35
        },
        "outputId": "0e52e084-f260-4725-eb68-f415260637a5"
      },
      "source": [
        "thyroid_df['T3_measured'].unique()"
      ],
      "execution_count": null,
      "outputs": [
        {
          "output_type": "execute_result",
          "data": {
            "text/plain": [
              "array(['y', 'n'], dtype=object)"
            ]
          },
          "metadata": {
            "tags": []
          },
          "execution_count": 22
        }
      ]
    },
    {
      "cell_type": "code",
      "metadata": {
        "id": "MXA0-yXcWVv_",
        "colab_type": "code",
        "colab": {
          "base_uri": "https://localhost:8080/",
          "height": 35
        },
        "outputId": "daf11d67-8b82-4c23-9ac9-ea372f1e2818"
      },
      "source": [
        "thyroid_df['TT4_measured'].unique()"
      ],
      "execution_count": null,
      "outputs": [
        {
          "output_type": "execute_result",
          "data": {
            "text/plain": [
              "array(['y', 'n'], dtype=object)"
            ]
          },
          "metadata": {
            "tags": []
          },
          "execution_count": 23
        }
      ]
    },
    {
      "cell_type": "code",
      "metadata": {
        "id": "bP6q1qd2Wa8R",
        "colab_type": "code",
        "colab": {
          "base_uri": "https://localhost:8080/",
          "height": 35
        },
        "outputId": "f311b05d-f8af-449b-d133-7ed6a84bed5a"
      },
      "source": [
        "thyroid_df['T4U_measured'].unique()"
      ],
      "execution_count": null,
      "outputs": [
        {
          "output_type": "execute_result",
          "data": {
            "text/plain": [
              "array(['y', 'n'], dtype=object)"
            ]
          },
          "metadata": {
            "tags": []
          },
          "execution_count": 24
        }
      ]
    },
    {
      "cell_type": "code",
      "metadata": {
        "id": "o7S9NpeQWfpR",
        "colab_type": "code",
        "colab": {
          "base_uri": "https://localhost:8080/",
          "height": 35
        },
        "outputId": "e995233c-7bb6-4c64-c7dd-f1dd89a8622a"
      },
      "source": [
        "thyroid_df['FTI_measured'].unique()"
      ],
      "execution_count": null,
      "outputs": [
        {
          "output_type": "execute_result",
          "data": {
            "text/plain": [
              "array(['y', 'n'], dtype=object)"
            ]
          },
          "metadata": {
            "tags": []
          },
          "execution_count": 25
        }
      ]
    },
    {
      "cell_type": "code",
      "metadata": {
        "id": "b-nDXh1dWlA-",
        "colab_type": "code",
        "colab": {
          "base_uri": "https://localhost:8080/",
          "height": 35
        },
        "outputId": "b232411a-0abd-4fea-fca2-2e06e92e6b44"
      },
      "source": [
        "thyroid_df['TBG_measured'].unique()"
      ],
      "execution_count": null,
      "outputs": [
        {
          "output_type": "execute_result",
          "data": {
            "text/plain": [
              "array(['n', 'y'], dtype=object)"
            ]
          },
          "metadata": {
            "tags": []
          },
          "execution_count": 26
        }
      ]
    },
    {
      "cell_type": "code",
      "metadata": {
        "id": "-0enzJP7O-tl",
        "colab_type": "code",
        "colab": {
          "base_uri": "https://localhost:8080/",
          "height": 175
        },
        "outputId": "a2f09ad9-3c2d-4c26-f992-35e1639b9ae4"
      },
      "source": [
        "# checking for unique values in numerical columns\n",
        "\n",
        "thyroid_df['age'].unique()\n",
        "\n",
        "# we see values as integers except for the question mark which will be taken care of during cleaning"
      ],
      "execution_count": null,
      "outputs": [
        {
          "output_type": "execute_result",
          "data": {
            "text/plain": [
              "array(['72', '15', '24', '77', '85', '64', '20', '42', '69', '75', '53',\n",
              "       '59', '68', '50', '78', '65', '28', '43', '40', '84', '?', '83',\n",
              "       '63', '73', '36', '27', '48', '71', '60', '34', '79', '62', '74',\n",
              "       '32', '41', '70', '29', '5', '58', '35', '51', '22', '16', '44',\n",
              "       '39', '47', '18', '17', '88', '56', '30', '45', '66', '52', '54',\n",
              "       '80', '33', '38', '92', '67', '46', '13', '89', '61', '49', '26',\n",
              "       '57', '31', '90', '81', '25', '37', '76', '87', '23', '55', '86',\n",
              "       '98', '21', '97', '1', '6', '14', '82', '11', '19', '9', '12',\n",
              "       '10', '8', '7', '4', '93'], dtype=object)"
            ]
          },
          "metadata": {
            "tags": []
          },
          "execution_count": 27
        }
      ]
    },
    {
      "cell_type": "code",
      "metadata": {
        "id": "o_m_NtCpRHWg",
        "colab_type": "code",
        "colab": {
          "base_uri": "https://localhost:8080/",
          "height": 175
        },
        "outputId": "6959b01d-8e34-454f-e194-f10e920a98f1"
      },
      "source": [
        "thyroid_df['T3'].unique()\n",
        "\n",
        "# all the records are floats except for the question. it will be handled during cleaning"
      ],
      "execution_count": null,
      "outputs": [
        {
          "output_type": "execute_result",
          "data": {
            "text/plain": [
              "array(['0.60', '1.70', '0.20', '0.40', '1.20', '1.10', '1.30', '1.90',\n",
              "       '?', '0.80', '2.20', '1.50', '2.70', '2', '0.30', '2.10', '0.50',\n",
              "       '0.70', '1', '1.40', '2.30', '2.40', '0.90', '1.80', '0', '2.80',\n",
              "       '1.60', '6.70', '3.30', '3', '2.50', '2.60', '4', '9.80', '3.90',\n",
              "       '3.40', '3.80', '4.50', '3.20', '3.70', '4.30', '2.90', '3.10',\n",
              "       '3.50', '3.60', '6.60', '4.90', '8.90', '4.10', '5', '5.30',\n",
              "       '7.60', '7.30', '4.20', '4.40', '5.10', '7', '0.10', '0.05',\n",
              "       '4.70', '6.20', '5.50', '4.60', '6.10', '8.10', '5.20', '5.60',\n",
              "       '4.80', '10.20', '8.60'], dtype=object)"
            ]
          },
          "metadata": {
            "tags": []
          },
          "execution_count": 28
        }
      ]
    },
    {
      "cell_type": "code",
      "metadata": {
        "id": "Y2e-M3iGR2uo",
        "colab_type": "code",
        "colab": {
          "base_uri": "https://localhost:8080/",
          "height": 527
        },
        "outputId": "23cafb8f-4aaf-4901-85d3-93d74786d445"
      },
      "source": [
        "thyroid_df['TT4'].unique()\n",
        "\n",
        "# all the values are integers except for question mark which will be handled during cleaning"
      ],
      "execution_count": null,
      "outputs": [
        {
          "output_type": "execute_result",
          "data": {
            "text/plain": [
              "array(['15', '19', '4', '6', '57', '27', '54', '34', '39', '7.60', '53',\n",
              "       '38', '98', '44', '37', '81', '13', '17', '12', '50', '23', '14',\n",
              "       '3.90', '52', '32', '30', '84', '10', '55', '24', '28', '11',\n",
              "       '6.60', '31', '33', '41', '9', '78', '42', '8.10', '65', '16',\n",
              "       '9.70', '46', '22', '61', '2.30', '21', '7.50', '18', '66', '25',\n",
              "       '43', '2', '3', '58', '59', '71', '74', '56', '40', '20', '48',\n",
              "       '230', '70', '4.10', '63', '5.30', '2.90', '62', '75', '68', '45',\n",
              "       '47', '36', '80', '109', '8.60', '83', '82', '101', '76', '103',\n",
              "       '112', '206', '110', '93', '79', '121', '?', '107', '88', '187',\n",
              "       '254', '115', '113', '260', '117', '164', '97', '64', '129', '111',\n",
              "       '106', '95', '87', '105', '90', '67', '134', '35', '193', '143',\n",
              "       '130', '108', '86', '96', '92', '99', '216', '152', '125', '138',\n",
              "       '194', '91', '120', '102', '170', '126', '116', '140', '94', '159',\n",
              "       '85', '210', '89', '151', '247', '139', '153', '178', '123', '137',\n",
              "       '161', '7.30', '72', '202', '122', '124', '157', '118', '104',\n",
              "       '135', '186', '241', '131', '119', '100', '220', '176', '136',\n",
              "       '183', '155', '208', '199', '154', '169', '128', '235', '195',\n",
              "       '267', '232', '197', '212', '149', '127', '245', '132', '162',\n",
              "       '77', '142', '69', '173', '141', '156', '181', '189', '60', '114',\n",
              "       '198', '147', '191', '177', '174', '207', '168', '73', '160',\n",
              "       '145', '200', '182', '158', '203', '209', '217', '430', '213',\n",
              "       '218', '163', '296', '167', '148', '166', '185', '248', '172',\n",
              "       '144', '150', '165', '196', '308', '146', '426', '224', '29',\n",
              "       '204', '201', '133', '180', '184', '450', '244', '301', '255',\n",
              "       '252', '396', '223', '261', '250', '179', '219', '190', '51',\n",
              "       '221', '171', '242', '275', '211', '49', '239', '205', '222',\n",
              "       '256', '214', '282', '287', '253', '269', '175', '228', '333',\n",
              "       '258', '236', '225', '263', '283', '359', '188', '240'],\n",
              "      dtype=object)"
            ]
          },
          "metadata": {
            "tags": []
          },
          "execution_count": 29
        }
      ]
    },
    {
      "cell_type": "code",
      "metadata": {
        "id": "YMl7LoVjSQET",
        "colab_type": "code",
        "colab": {
          "base_uri": "https://localhost:8080/",
          "height": 369
        },
        "outputId": "4ace97b2-f0f9-48aa-db06-fce5a149014f"
      },
      "source": [
        "thyroid_df['T4U'].unique()\n",
        "\n",
        "# we see majority of the values are floats,\n",
        "# but we also have a few integers and the presence of the question mark which will be handled during cleaning"
      ],
      "execution_count": null,
      "outputs": [
        {
          "output_type": "execute_result",
          "data": {
            "text/plain": [
              "array(['1.48', '1.13', '1', '1.04', '1.28', '1.19', '0.86', '1.05',\n",
              "       '1.21', '1.02', '0.92', '1.29', '0.98', '1.08', '1.01', '1.18',\n",
              "       '1.10', '1.27', '0.83', '1.11', '0.78', '1.39', '1.12', '0.93',\n",
              "       '0.99', '0.90', '1.06', '0.68', '0.67', '1.14', '0.80', '0.96',\n",
              "       '0.95', '1.46', '1.03', '0.97', '0.94', '1.09', '1.24', '1.23',\n",
              "       '1.53', '1.26', '1.40', '1.17', '0.87', '0.61', '0.70', '1.07',\n",
              "       '1.73', '1.45', '1.20', '0.89', '0.84', '0.91', '0.85', '1.35',\n",
              "       '0.82', '1.50', '0.74', '1.71', '1.79', '0.73', '0.77', '1.25',\n",
              "       '?', '0.88', '0.72', '0.31', '0', '0.79', '0.81', '0.71', '1.93',\n",
              "       '1.32', '0.66', '1.68', '1.42', '1.70', '1.83', '1.41', '1.34',\n",
              "       '1.65', '1.22', '0.75', '1.74', '0.69', '1.51', '0.76', '1.16',\n",
              "       '0.35', '0.62', '0.54', '1.36', '1.33', '1.30', '0.48', '1.59',\n",
              "       '1.75', '1.86', '1.38', '1.43', '1.62', '2.01', '0.30', '1.31',\n",
              "       '1.15', '1.57', '0.55', '1.66', '0.52', '1.97', '1.47', '0.36',\n",
              "       '1.88', '1.55', '0.34', '1.67', '0.58', '0.60', '0.59', '1.37',\n",
              "       '1.76', '0.64', '1.80', '0.41', '0.20', '1.77', '0.33', '1.54',\n",
              "       '0.46', '0.32', '1.44', '1.56', '0.56', '1.52', '2.03', '0.65',\n",
              "       '0.63', '1.96', '0.53', '0.47', '0.29', '2.21', '1.69', '1.64',\n",
              "       '1.49', '1.72', '1.58', '0.57', '1.61', '0.28', '2', '1.63',\n",
              "       '0.27', '1.94', '0.50', '0.49', '0.40', '0.38'], dtype=object)"
            ]
          },
          "metadata": {
            "tags": []
          },
          "execution_count": 30
        }
      ]
    },
    {
      "cell_type": "code",
      "metadata": {
        "id": "6LWrg1jvSoNO",
        "colab_type": "code",
        "colab": {
          "base_uri": "https://localhost:8080/",
          "height": 545
        },
        "outputId": "7efea92a-3011-4cb8-8972-0c30c295c191"
      },
      "source": [
        "thyroid_df['FTI'].unique()\n",
        "\n",
        "# there is a combination of floats and integers. we will convert the integers to float during cleaning.\n",
        "# we also have question mark as a unique value, we will handle this during cleaning."
      ],
      "execution_count": null,
      "outputs": [
        {
          "output_type": "execute_result",
          "data": {
            "text/plain": [
              "array(['10', '17', '0', '6', '44', '23', '63', '32', '7.50', '61', '41',\n",
              "       '76', '45', '34', '81', '11', '16', '46', '22', '12', '5', '47',\n",
              "       '29', '37', '60', '8.40', '8.50', '24', '28', '7', '49', '36',\n",
              "       '15', '9', '80', '53', '7.20', '68', '6.60', '48', '21', '14', '2',\n",
              "       '20', '1.40', '56', '3', '51', '13', '43', '78', '52', '64', '26',\n",
              "       '35', '31', '133', '3.40', '54', '8.90', '57', '5.50', '58', '55',\n",
              "       '2.80', '66', '4', '40', '50', '8.70', '87', '89', '112', '123',\n",
              "       '99', '92', '104', '69', '196', '107', '106', '74', '97', '?',\n",
              "       '122', '84', '114', '124', '241', '119', '120', '136', '85', '127',\n",
              "       '839', '137', '197', '96', '77', '108', '82', '72', '94', '91',\n",
              "       '240', '121', '109', '79', '100', '98', '73', '117', '165', '103',\n",
              "       '88', '101', '126', '132', '128', '143', '152', '141', '186',\n",
              "       '113', '102', '125', '93', '105', '159', '188', '71', '149', '116',\n",
              "       '83', '176', '161', '86', '140', '111', '158', '115', '171', '90',\n",
              "       '95', '70', '135', '134', '178', '110', '170', '205', '695', '155',\n",
              "       '118', '741', '131', '129', '142', '153', '75', '254', '246',\n",
              "       '139', '185', '157', '147', '164', '130', '222', '650', '174',\n",
              "       '182', '144', '169', '257', '145', '345', '180', '167', '151',\n",
              "       '154', '150', '219', '228', '65', '187', '166', '195', '208',\n",
              "       '138', '33', '173', '146', '211', '181', '190', '247', '221',\n",
              "       '395', '216', '212', '148', '162', '220', '370', '450', '160',\n",
              "       '59', '189', '203', '168', '179', '264', '470', '184', '163', '67',\n",
              "       '213', '354', '292', '359', '172', '156', '334', '177', '214',\n",
              "       '194', '192', '215', '217', '271', '250', '244', '308', '881',\n",
              "       '258', '316', '200', '711', '256', '232', '202', '39', '248',\n",
              "       '237', '259', '445', '19', '852', '42', '235', '634', '283', '305',\n",
              "       '204', '229', '332', '550', '249', '263', '615', '266', '198',\n",
              "       '175', '209', '299', '193', '227', '223', '337', '210', '272',\n",
              "       '702', '218', '239', '355', '482', '347', '485', '612', '428'],\n",
              "      dtype=object)"
            ]
          },
          "metadata": {
            "tags": []
          },
          "execution_count": 31
        }
      ]
    },
    {
      "cell_type": "code",
      "metadata": {
        "id": "Btt36Z0pTB0L",
        "colab_type": "code",
        "colab": {
          "base_uri": "https://localhost:8080/",
          "height": 123
        },
        "outputId": "fa543f73-2781-443a-f55a-28bef872e21c"
      },
      "source": [
        "thyroid_df['TBG'].unique()\n",
        "\n",
        "# TBG consists of a question mark (to be handled during cleaning) and the rest are integers"
      ],
      "execution_count": null,
      "outputs": [
        {
          "output_type": "execute_result",
          "data": {
            "text/plain": [
              "array(['?', '28', '34', '0', '19', '30', '25', '48', '39', '31', '16',\n",
              "       '21', '37', '40', '27', '3.10', '38', '108', '20', '36', '17',\n",
              "       '23', '35', '32', '63', '9.30', '15', '26', '33', '41', '110',\n",
              "       '22', '43', '53', '80', '47', '29', '13', '24', '18', '45', '86',\n",
              "       '50', '8.40', '52', '11', '12', '14', '65', '7.30', '8.50', '69',\n",
              "       '122'], dtype=object)"
            ]
          },
          "metadata": {
            "tags": []
          },
          "execution_count": 32
        }
      ]
    },
    {
      "cell_type": "markdown",
      "metadata": {
        "id": "s0j_33vib85q",
        "colab_type": "text"
      },
      "source": [
        "After checking the unique values in all the columns, let's check what is the total number of records that have question marks in all the columns. See the code below."
      ]
    },
    {
      "cell_type": "code",
      "metadata": {
        "id": "5gmskVwTUbT7",
        "colab_type": "code",
        "colab": {
          "base_uri": "https://localhost:8080/",
          "height": 492
        },
        "outputId": "2f3844da-b4f1-43eb-8dbe-01654815dd4e"
      },
      "source": [
        "print(thyroid_df[thyroid_df == '?'].count())"
      ],
      "execution_count": null,
      "outputs": [
        {
          "output_type": "stream",
          "text": [
            "status                          0\n",
            "age                           446\n",
            "sex                            73\n",
            "on_thyroxine                    0\n",
            "query_on_thyroxine              0\n",
            "on_antithyroid_medication       0\n",
            "thyroid_surgery                 0\n",
            "query_hypothyroid               0\n",
            "query_hyperthyroid              0\n",
            "pregnant                        0\n",
            "sick                            0\n",
            "tumor                           0\n",
            "lithium                         0\n",
            "goitre                          0\n",
            "TSH_measured                    0\n",
            "TSH                           468\n",
            "T3_measured                     0\n",
            "T3                            695\n",
            "TT4_measured                    0\n",
            "TT4                           249\n",
            "T4U_measured                    0\n",
            "T4U                           248\n",
            "FTI_measured                    0\n",
            "FTI                           247\n",
            "TBG_measured                    0\n",
            "TBG                          2903\n",
            "dtype: int64\n"
          ],
          "name": "stdout"
        }
      ]
    },
    {
      "cell_type": "markdown",
      "metadata": {
        "id": "TkLZ1FyRVOF2",
        "colab_type": "text"
      },
      "source": [
        "Here are the records that have question marks with the total number of question marks in each column.\n",
        "\n",
        "age = 446\n",
        "\n",
        "sex = 73\n",
        "\n",
        "TSH = 468\n",
        "\n",
        "T3 = 695\n",
        "\n",
        "TT4 = 249\n",
        "\n",
        "T4U = 248\n",
        "\n",
        "FTI = 247\n",
        "\n",
        "TBG = 2,903\n",
        "\n",
        "Based on these observations, we quickly notice that TBG has the most question marks. It's total number of records with question marks is more than 75% of the total records. We will delete this column given that the records with question marks is too many and it doesn't make sense to impute more than 75% of the records.\n",
        "\n",
        "As for the other records with question marks, we will find a way to deal with the question marks by either imputing them or deleting them if it doesn't make sense to impute.\n",
        "\n",
        "\n"
      ]
    },
    {
      "cell_type": "code",
      "metadata": {
        "id": "RvHUVoLOHHBf",
        "colab_type": "code",
        "colab": {
          "base_uri": "https://localhost:8080/",
          "height": 35
        },
        "outputId": "44630b2e-cd80-4244-bb3f-d0dcf3928968"
      },
      "source": [
        "# I am interested to see the total number of records for each category (negative and hypothyroid) in \n",
        "# status column. \n",
        "\n",
        "thyroid_df[thyroid_df['status']=='negative'].shape\n",
        "\n",
        "# we see that the records that have status equal to negative is 3,012"
      ],
      "execution_count": null,
      "outputs": [
        {
          "output_type": "execute_result",
          "data": {
            "text/plain": [
              "(3012, 26)"
            ]
          },
          "metadata": {
            "tags": []
          },
          "execution_count": 34
        }
      ]
    },
    {
      "cell_type": "code",
      "metadata": {
        "id": "19tM2cPtRgms",
        "colab_type": "code",
        "colab": {
          "base_uri": "https://localhost:8080/",
          "height": 35
        },
        "outputId": "a4441630-b8b1-48fd-9dc5-a6dd4089264c"
      },
      "source": [
        "thyroid_df[thyroid_df['status']=='hypothyroid'].shape\n",
        "# records that have hypothyroid on status column equals to 151"
      ],
      "execution_count": null,
      "outputs": [
        {
          "output_type": "execute_result",
          "data": {
            "text/plain": [
              "(151, 26)"
            ]
          },
          "metadata": {
            "tags": []
          },
          "execution_count": 35
        }
      ]
    },
    {
      "cell_type": "markdown",
      "metadata": {
        "id": "4ML3_rXZx90P",
        "colab_type": "text"
      },
      "source": [
        "## Data cleaning  "
      ]
    },
    {
      "cell_type": "code",
      "metadata": {
        "id": "fSj9poo2f-5f",
        "colab_type": "code",
        "colab": {
          "base_uri": "https://localhost:8080/",
          "height": 492
        },
        "outputId": "0266be0c-1e16-44ca-ae53-1c6611ab9ae2"
      },
      "source": [
        "# checking for completeness. Are there any missing values in our dataset?\n",
        "\n",
        "print(thyroid_df.isnull().sum())\n",
        "\n",
        "# there are no missing values in our dataset"
      ],
      "execution_count": null,
      "outputs": [
        {
          "output_type": "stream",
          "text": [
            "status                       0\n",
            "age                          0\n",
            "sex                          0\n",
            "on_thyroxine                 0\n",
            "query_on_thyroxine           0\n",
            "on_antithyroid_medication    0\n",
            "thyroid_surgery              0\n",
            "query_hypothyroid            0\n",
            "query_hyperthyroid           0\n",
            "pregnant                     0\n",
            "sick                         0\n",
            "tumor                        0\n",
            "lithium                      0\n",
            "goitre                       0\n",
            "TSH_measured                 0\n",
            "TSH                          0\n",
            "T3_measured                  0\n",
            "T3                           0\n",
            "TT4_measured                 0\n",
            "TT4                          0\n",
            "T4U_measured                 0\n",
            "T4U                          0\n",
            "FTI_measured                 0\n",
            "FTI                          0\n",
            "TBG_measured                 0\n",
            "TBG                          0\n",
            "dtype: int64\n"
          ],
          "name": "stdout"
        }
      ]
    },
    {
      "cell_type": "code",
      "metadata": {
        "id": "4s4zNbwjgRFT",
        "colab_type": "code",
        "colab": {
          "base_uri": "https://localhost:8080/",
          "height": 70
        },
        "outputId": "55618aa2-8d8d-4ebf-bfa7-36c3a744b463"
      },
      "source": [
        "# checking for duplicates (consitency)\n",
        "\n",
        "thyroid_df.duplicated().value_counts()\n",
        "# we see 77 listed records as duplicates, let's explore further in the next cell"
      ],
      "execution_count": null,
      "outputs": [
        {
          "output_type": "execute_result",
          "data": {
            "text/plain": [
              "False    3086\n",
              "True       77\n",
              "dtype: int64"
            ]
          },
          "metadata": {
            "tags": []
          },
          "execution_count": 37
        }
      ]
    },
    {
      "cell_type": "code",
      "metadata": {
        "id": "iuXoTKTkgm96",
        "colab_type": "code",
        "colab": {
          "base_uri": "https://localhost:8080/",
          "height": 437
        },
        "outputId": "38ce2983-15a6-411e-ad2b-10bc8d35758e"
      },
      "source": [
        "# exploring further on the duplicated records\n",
        "duplicated = thyroid_df[thyroid_df.duplicated()]\n",
        "duplicated\n",
        "\n",
        "# given that we dont have a unique ID, it's hard to tell if these columns are actually duplicated. \n",
        "# All the records shown below are different, hence we wont be deleting any of these records."
      ],
      "execution_count": null,
      "outputs": [
        {
          "output_type": "execute_result",
          "data": {
            "text/html": [
              "<div>\n",
              "<style scoped>\n",
              "    .dataframe tbody tr th:only-of-type {\n",
              "        vertical-align: middle;\n",
              "    }\n",
              "\n",
              "    .dataframe tbody tr th {\n",
              "        vertical-align: top;\n",
              "    }\n",
              "\n",
              "    .dataframe thead th {\n",
              "        text-align: right;\n",
              "    }\n",
              "</style>\n",
              "<table border=\"1\" class=\"dataframe\">\n",
              "  <thead>\n",
              "    <tr style=\"text-align: right;\">\n",
              "      <th></th>\n",
              "      <th>status</th>\n",
              "      <th>age</th>\n",
              "      <th>sex</th>\n",
              "      <th>on_thyroxine</th>\n",
              "      <th>query_on_thyroxine</th>\n",
              "      <th>on_antithyroid_medication</th>\n",
              "      <th>thyroid_surgery</th>\n",
              "      <th>query_hypothyroid</th>\n",
              "      <th>query_hyperthyroid</th>\n",
              "      <th>pregnant</th>\n",
              "      <th>sick</th>\n",
              "      <th>tumor</th>\n",
              "      <th>lithium</th>\n",
              "      <th>goitre</th>\n",
              "      <th>TSH_measured</th>\n",
              "      <th>TSH</th>\n",
              "      <th>T3_measured</th>\n",
              "      <th>T3</th>\n",
              "      <th>TT4_measured</th>\n",
              "      <th>TT4</th>\n",
              "      <th>T4U_measured</th>\n",
              "      <th>T4U</th>\n",
              "      <th>FTI_measured</th>\n",
              "      <th>FTI</th>\n",
              "      <th>TBG_measured</th>\n",
              "      <th>TBG</th>\n",
              "    </tr>\n",
              "  </thead>\n",
              "  <tbody>\n",
              "    <tr>\n",
              "      <th>53</th>\n",
              "      <td>hypothyroid</td>\n",
              "      <td>69</td>\n",
              "      <td>F</td>\n",
              "      <td>f</td>\n",
              "      <td>f</td>\n",
              "      <td>f</td>\n",
              "      <td>f</td>\n",
              "      <td>f</td>\n",
              "      <td>f</td>\n",
              "      <td>f</td>\n",
              "      <td>f</td>\n",
              "      <td>f</td>\n",
              "      <td>f</td>\n",
              "      <td>f</td>\n",
              "      <td>y</td>\n",
              "      <td>21</td>\n",
              "      <td>y</td>\n",
              "      <td>0.80</td>\n",
              "      <td>y</td>\n",
              "      <td>53</td>\n",
              "      <td>y</td>\n",
              "      <td>0.86</td>\n",
              "      <td>y</td>\n",
              "      <td>61</td>\n",
              "      <td>n</td>\n",
              "      <td>?</td>\n",
              "    </tr>\n",
              "    <tr>\n",
              "      <th>66</th>\n",
              "      <td>hypothyroid</td>\n",
              "      <td>62</td>\n",
              "      <td>M</td>\n",
              "      <td>f</td>\n",
              "      <td>f</td>\n",
              "      <td>f</td>\n",
              "      <td>f</td>\n",
              "      <td>f</td>\n",
              "      <td>f</td>\n",
              "      <td>f</td>\n",
              "      <td>f</td>\n",
              "      <td>f</td>\n",
              "      <td>f</td>\n",
              "      <td>f</td>\n",
              "      <td>y</td>\n",
              "      <td>100</td>\n",
              "      <td>y</td>\n",
              "      <td>0.40</td>\n",
              "      <td>y</td>\n",
              "      <td>10</td>\n",
              "      <td>y</td>\n",
              "      <td>1</td>\n",
              "      <td>y</td>\n",
              "      <td>10</td>\n",
              "      <td>n</td>\n",
              "      <td>?</td>\n",
              "    </tr>\n",
              "    <tr>\n",
              "      <th>124</th>\n",
              "      <td>hypothyroid</td>\n",
              "      <td>77</td>\n",
              "      <td>F</td>\n",
              "      <td>f</td>\n",
              "      <td>f</td>\n",
              "      <td>f</td>\n",
              "      <td>f</td>\n",
              "      <td>f</td>\n",
              "      <td>f</td>\n",
              "      <td>f</td>\n",
              "      <td>f</td>\n",
              "      <td>f</td>\n",
              "      <td>f</td>\n",
              "      <td>f</td>\n",
              "      <td>y</td>\n",
              "      <td>23</td>\n",
              "      <td>y</td>\n",
              "      <td>0.50</td>\n",
              "      <td>y</td>\n",
              "      <td>33</td>\n",
              "      <td>y</td>\n",
              "      <td>0.67</td>\n",
              "      <td>y</td>\n",
              "      <td>49</td>\n",
              "      <td>n</td>\n",
              "      <td>?</td>\n",
              "    </tr>\n",
              "    <tr>\n",
              "      <th>128</th>\n",
              "      <td>hypothyroid</td>\n",
              "      <td>79</td>\n",
              "      <td>F</td>\n",
              "      <td>f</td>\n",
              "      <td>f</td>\n",
              "      <td>f</td>\n",
              "      <td>f</td>\n",
              "      <td>f</td>\n",
              "      <td>f</td>\n",
              "      <td>f</td>\n",
              "      <td>f</td>\n",
              "      <td>f</td>\n",
              "      <td>f</td>\n",
              "      <td>f</td>\n",
              "      <td>y</td>\n",
              "      <td>29</td>\n",
              "      <td>y</td>\n",
              "      <td>1.60</td>\n",
              "      <td>y</td>\n",
              "      <td>47</td>\n",
              "      <td>y</td>\n",
              "      <td>0.97</td>\n",
              "      <td>y</td>\n",
              "      <td>48</td>\n",
              "      <td>n</td>\n",
              "      <td>?</td>\n",
              "    </tr>\n",
              "    <tr>\n",
              "      <th>131</th>\n",
              "      <td>hypothyroid</td>\n",
              "      <td>50</td>\n",
              "      <td>F</td>\n",
              "      <td>t</td>\n",
              "      <td>f</td>\n",
              "      <td>f</td>\n",
              "      <td>f</td>\n",
              "      <td>f</td>\n",
              "      <td>f</td>\n",
              "      <td>f</td>\n",
              "      <td>f</td>\n",
              "      <td>f</td>\n",
              "      <td>f</td>\n",
              "      <td>f</td>\n",
              "      <td>y</td>\n",
              "      <td>34</td>\n",
              "      <td>n</td>\n",
              "      <td>?</td>\n",
              "      <td>y</td>\n",
              "      <td>55</td>\n",
              "      <td>y</td>\n",
              "      <td>0.93</td>\n",
              "      <td>y</td>\n",
              "      <td>60</td>\n",
              "      <td>n</td>\n",
              "      <td>?</td>\n",
              "    </tr>\n",
              "    <tr>\n",
              "      <th>...</th>\n",
              "      <td>...</td>\n",
              "      <td>...</td>\n",
              "      <td>...</td>\n",
              "      <td>...</td>\n",
              "      <td>...</td>\n",
              "      <td>...</td>\n",
              "      <td>...</td>\n",
              "      <td>...</td>\n",
              "      <td>...</td>\n",
              "      <td>...</td>\n",
              "      <td>...</td>\n",
              "      <td>...</td>\n",
              "      <td>...</td>\n",
              "      <td>...</td>\n",
              "      <td>...</td>\n",
              "      <td>...</td>\n",
              "      <td>...</td>\n",
              "      <td>...</td>\n",
              "      <td>...</td>\n",
              "      <td>...</td>\n",
              "      <td>...</td>\n",
              "      <td>...</td>\n",
              "      <td>...</td>\n",
              "      <td>...</td>\n",
              "      <td>...</td>\n",
              "      <td>...</td>\n",
              "    </tr>\n",
              "    <tr>\n",
              "      <th>3048</th>\n",
              "      <td>negative</td>\n",
              "      <td>28</td>\n",
              "      <td>M</td>\n",
              "      <td>f</td>\n",
              "      <td>f</td>\n",
              "      <td>f</td>\n",
              "      <td>f</td>\n",
              "      <td>f</td>\n",
              "      <td>f</td>\n",
              "      <td>f</td>\n",
              "      <td>f</td>\n",
              "      <td>f</td>\n",
              "      <td>f</td>\n",
              "      <td>f</td>\n",
              "      <td>y</td>\n",
              "      <td>1</td>\n",
              "      <td>y</td>\n",
              "      <td>3.10</td>\n",
              "      <td>y</td>\n",
              "      <td>107</td>\n",
              "      <td>y</td>\n",
              "      <td>1.05</td>\n",
              "      <td>y</td>\n",
              "      <td>103</td>\n",
              "      <td>n</td>\n",
              "      <td>?</td>\n",
              "    </tr>\n",
              "    <tr>\n",
              "      <th>3055</th>\n",
              "      <td>negative</td>\n",
              "      <td>33</td>\n",
              "      <td>F</td>\n",
              "      <td>f</td>\n",
              "      <td>f</td>\n",
              "      <td>f</td>\n",
              "      <td>f</td>\n",
              "      <td>f</td>\n",
              "      <td>f</td>\n",
              "      <td>f</td>\n",
              "      <td>f</td>\n",
              "      <td>f</td>\n",
              "      <td>f</td>\n",
              "      <td>f</td>\n",
              "      <td>n</td>\n",
              "      <td>?</td>\n",
              "      <td>y</td>\n",
              "      <td>0.80</td>\n",
              "      <td>y</td>\n",
              "      <td>88</td>\n",
              "      <td>y</td>\n",
              "      <td>1.02</td>\n",
              "      <td>y</td>\n",
              "      <td>86</td>\n",
              "      <td>n</td>\n",
              "      <td>?</td>\n",
              "    </tr>\n",
              "    <tr>\n",
              "      <th>3066</th>\n",
              "      <td>negative</td>\n",
              "      <td>74</td>\n",
              "      <td>F</td>\n",
              "      <td>t</td>\n",
              "      <td>f</td>\n",
              "      <td>f</td>\n",
              "      <td>f</td>\n",
              "      <td>f</td>\n",
              "      <td>f</td>\n",
              "      <td>f</td>\n",
              "      <td>f</td>\n",
              "      <td>f</td>\n",
              "      <td>f</td>\n",
              "      <td>f</td>\n",
              "      <td>y</td>\n",
              "      <td>21</td>\n",
              "      <td>y</td>\n",
              "      <td>1.80</td>\n",
              "      <td>y</td>\n",
              "      <td>126</td>\n",
              "      <td>y</td>\n",
              "      <td>1.18</td>\n",
              "      <td>y</td>\n",
              "      <td>107</td>\n",
              "      <td>n</td>\n",
              "      <td>?</td>\n",
              "    </tr>\n",
              "    <tr>\n",
              "      <th>3111</th>\n",
              "      <td>negative</td>\n",
              "      <td>89</td>\n",
              "      <td>M</td>\n",
              "      <td>f</td>\n",
              "      <td>f</td>\n",
              "      <td>f</td>\n",
              "      <td>f</td>\n",
              "      <td>f</td>\n",
              "      <td>f</td>\n",
              "      <td>f</td>\n",
              "      <td>f</td>\n",
              "      <td>f</td>\n",
              "      <td>f</td>\n",
              "      <td>f</td>\n",
              "      <td>y</td>\n",
              "      <td>1.30</td>\n",
              "      <td>y</td>\n",
              "      <td>0.90</td>\n",
              "      <td>y</td>\n",
              "      <td>82</td>\n",
              "      <td>y</td>\n",
              "      <td>0.80</td>\n",
              "      <td>y</td>\n",
              "      <td>103</td>\n",
              "      <td>n</td>\n",
              "      <td>?</td>\n",
              "    </tr>\n",
              "    <tr>\n",
              "      <th>3151</th>\n",
              "      <td>negative</td>\n",
              "      <td>58</td>\n",
              "      <td>F</td>\n",
              "      <td>f</td>\n",
              "      <td>f</td>\n",
              "      <td>f</td>\n",
              "      <td>f</td>\n",
              "      <td>f</td>\n",
              "      <td>f</td>\n",
              "      <td>f</td>\n",
              "      <td>f</td>\n",
              "      <td>f</td>\n",
              "      <td>f</td>\n",
              "      <td>f</td>\n",
              "      <td>y</td>\n",
              "      <td>0.30</td>\n",
              "      <td>y</td>\n",
              "      <td>3.10</td>\n",
              "      <td>y</td>\n",
              "      <td>151</td>\n",
              "      <td>y</td>\n",
              "      <td>1.40</td>\n",
              "      <td>y</td>\n",
              "      <td>108</td>\n",
              "      <td>n</td>\n",
              "      <td>?</td>\n",
              "    </tr>\n",
              "  </tbody>\n",
              "</table>\n",
              "<p>77 rows × 26 columns</p>\n",
              "</div>"
            ],
            "text/plain": [
              "           status age sex on_thyroxine  ... FTI_measured  FTI TBG_measured TBG\n",
              "53    hypothyroid  69   F            f  ...            y   61            n   ?\n",
              "66    hypothyroid  62   M            f  ...            y   10            n   ?\n",
              "124   hypothyroid  77   F            f  ...            y   49            n   ?\n",
              "128   hypothyroid  79   F            f  ...            y   48            n   ?\n",
              "131   hypothyroid  50   F            t  ...            y   60            n   ?\n",
              "...           ...  ..  ..          ...  ...          ...  ...          ...  ..\n",
              "3048     negative  28   M            f  ...            y  103            n   ?\n",
              "3055     negative  33   F            f  ...            y   86            n   ?\n",
              "3066     negative  74   F            t  ...            y  107            n   ?\n",
              "3111     negative  89   M            f  ...            y  103            n   ?\n",
              "3151     negative  58   F            f  ...            y  108            n   ?\n",
              "\n",
              "[77 rows x 26 columns]"
            ]
          },
          "metadata": {
            "tags": []
          },
          "execution_count": 38
        }
      ]
    },
    {
      "cell_type": "code",
      "metadata": {
        "id": "Xh-1smXmoDHj",
        "colab_type": "code",
        "colab": {}
      },
      "source": [
        "# Next we drop TBG column, this is the column with more than 75% records as question marks\n",
        "# we will also drop TBG_measured since it's related to TBG. With TBG missing a lot of values TBG_measured shows the same \n",
        "# so we wont be needed these two columns and will drop them here\n",
        "\n",
        "thyroid_df.drop(['TBG', 'TBG_measured'],axis=1, inplace=True)"
      ],
      "execution_count": null,
      "outputs": []
    },
    {
      "cell_type": "code",
      "metadata": {
        "id": "En-o5GxCoVJE",
        "colab_type": "code",
        "colab": {
          "base_uri": "https://localhost:8080/",
          "height": 123
        },
        "outputId": "528958e6-5bea-450f-e839-8ef6b6d996c9"
      },
      "source": [
        "# confirming that TBG has been dropped\n",
        "thyroid_df.columns\n",
        "\n",
        "# TBG has been dropped"
      ],
      "execution_count": null,
      "outputs": [
        {
          "output_type": "execute_result",
          "data": {
            "text/plain": [
              "Index(['status', 'age', 'sex', 'on_thyroxine', 'query_on_thyroxine',\n",
              "       'on_antithyroid_medication', 'thyroid_surgery', 'query_hypothyroid',\n",
              "       'query_hyperthyroid', 'pregnant', 'sick', 'tumor', 'lithium', 'goitre',\n",
              "       'TSH_measured', 'TSH', 'T3_measured', 'T3', 'TT4_measured', 'TT4',\n",
              "       'T4U_measured', 'T4U', 'FTI_measured', 'FTI'],\n",
              "      dtype='object')"
            ]
          },
          "metadata": {
            "tags": []
          },
          "execution_count": 40
        }
      ]
    },
    {
      "cell_type": "code",
      "metadata": {
        "id": "VGHbVW2wpjRm",
        "colab_type": "code",
        "colab": {
          "base_uri": "https://localhost:8080/",
          "height": 35
        },
        "outputId": "e9cd343e-dbbe-478d-9ce7-ab9fbe7e5a37"
      },
      "source": [
        "thyroid_df.shape"
      ],
      "execution_count": null,
      "outputs": [
        {
          "output_type": "execute_result",
          "data": {
            "text/plain": [
              "(3163, 24)"
            ]
          },
          "metadata": {
            "tags": []
          },
          "execution_count": 41
        }
      ]
    },
    {
      "cell_type": "code",
      "metadata": {
        "id": "fCg5-3jAjiEd",
        "colab_type": "code",
        "colab": {}
      },
      "source": [
        "# during the data initial exploration we saw that all the columns were listed as objects, but they are not all objects.\n",
        "# in this section we will convert the columns to their appropriate datatypes.\n",
        "# let's start by converting categorical variables to category\n",
        "\n",
        "thyroid_df['status'] = thyroid_df['status'].astype('category')\n",
        "thyroid_df['sex'] = thyroid_df['sex'].astype('category')\n",
        "thyroid_df['on_thyroxine'] = thyroid_df['on_thyroxine'].astype('category')\n",
        "thyroid_df['query_on_thyroxine'] = thyroid_df['query_on_thyroxine'].astype('category')\n",
        "thyroid_df['on_antithyroid_medication'] = thyroid_df['on_antithyroid_medication'].astype('category')\n",
        "thyroid_df['thyroid_surgery'] = thyroid_df['thyroid_surgery'].astype('category')\n",
        "thyroid_df['query_hypothyroid'] = thyroid_df['query_hypothyroid'].astype('category')\n",
        "\n",
        "thyroid_df['query_hyperthyroid'] = thyroid_df['query_hyperthyroid'].astype('category')\n",
        "thyroid_df['pregnant'] = thyroid_df['pregnant'].astype('category')\n",
        "thyroid_df['sick'] = thyroid_df['sick'].astype('category')\n",
        "thyroid_df['tumor'] = thyroid_df['tumor'].astype('category')\n",
        "thyroid_df['lithium'] = thyroid_df['lithium'].astype('category')\n",
        "thyroid_df['goitre'] = thyroid_df['goitre'].astype('category')\n",
        "thyroid_df['TSH_measured'] = thyroid_df['TSH_measured'].astype('category')\n",
        "\n",
        "thyroid_df['T3_measured'] = thyroid_df['T3_measured'].astype('category')\n",
        "thyroid_df['TT4_measured'] = thyroid_df['TT4_measured'].astype('category')\n",
        "thyroid_df['T4U_measured'] = thyroid_df['T4U_measured'].astype('category')\n",
        "thyroid_df['FTI_measured'] = thyroid_df['FTI_measured'].astype('category')\n",
        "\n"
      ],
      "execution_count": null,
      "outputs": []
    },
    {
      "cell_type": "code",
      "metadata": {
        "id": "zR7YJZEOrh3D",
        "colab_type": "code",
        "colab": {
          "base_uri": "https://localhost:8080/",
          "height": 457
        },
        "outputId": "887ba026-4edf-4c7f-d75c-0366cc88a40c"
      },
      "source": [
        "# confirming that the categorical variables have been converted to category datatypes\n",
        "\n",
        "thyroid_df.dtypes\n",
        "\n",
        "# yes they have"
      ],
      "execution_count": null,
      "outputs": [
        {
          "output_type": "execute_result",
          "data": {
            "text/plain": [
              "status                       category\n",
              "age                            object\n",
              "sex                          category\n",
              "on_thyroxine                 category\n",
              "query_on_thyroxine           category\n",
              "on_antithyroid_medication    category\n",
              "thyroid_surgery              category\n",
              "query_hypothyroid            category\n",
              "query_hyperthyroid           category\n",
              "pregnant                     category\n",
              "sick                         category\n",
              "tumor                        category\n",
              "lithium                      category\n",
              "goitre                       category\n",
              "TSH_measured                 category\n",
              "TSH                            object\n",
              "T3_measured                  category\n",
              "T3                             object\n",
              "TT4_measured                 category\n",
              "TT4                            object\n",
              "T4U_measured                 category\n",
              "T4U                            object\n",
              "FTI_measured                 category\n",
              "FTI                            object\n",
              "dtype: object"
            ]
          },
          "metadata": {
            "tags": []
          },
          "execution_count": 43
        }
      ]
    },
    {
      "cell_type": "code",
      "metadata": {
        "id": "k6bf5BpXqUdS",
        "colab_type": "code",
        "colab": {
          "base_uri": "https://localhost:8080/",
          "height": 457
        },
        "outputId": "358b40e5-a983-4aef-dbb1-f6a27ec65dba"
      },
      "source": [
        "# let's convert numerical variables to numerical datatypes and replace question marks nan\n",
        "thyroid_df['age'] = pd.to_numeric(thyroid_df['age'], errors = 'coerce') #‘coerce’ converts invalid parsing in this case '?' to NaN.\n",
        "thyroid_df['TSH'] = pd.to_numeric(thyroid_df['TSH'], errors = 'coerce')\n",
        "thyroid_df['T3'] = pd.to_numeric(thyroid_df['T3'], errors = 'coerce')\n",
        "thyroid_df['TT4'] = pd.to_numeric(thyroid_df['TT4'], errors = 'coerce')\n",
        "thyroid_df['T4U'] = pd.to_numeric(thyroid_df['T4U'], errors = 'coerce')\n",
        "thyroid_df['FTI'] = pd.to_numeric(thyroid_df['FTI'], errors = 'coerce')\n",
        "\n",
        "print(thyroid_df.dtypes)\n",
        "# we see that all the columns have been converted to float, but some of the columns are not floats. \n",
        "# We will change the non-float columns to appropriate datatypes"
      ],
      "execution_count": null,
      "outputs": [
        {
          "output_type": "stream",
          "text": [
            "status                       category\n",
            "age                           float64\n",
            "sex                          category\n",
            "on_thyroxine                 category\n",
            "query_on_thyroxine           category\n",
            "on_antithyroid_medication    category\n",
            "thyroid_surgery              category\n",
            "query_hypothyroid            category\n",
            "query_hyperthyroid           category\n",
            "pregnant                     category\n",
            "sick                         category\n",
            "tumor                        category\n",
            "lithium                      category\n",
            "goitre                       category\n",
            "TSH_measured                 category\n",
            "TSH                           float64\n",
            "T3_measured                  category\n",
            "T3                            float64\n",
            "TT4_measured                 category\n",
            "TT4                           float64\n",
            "T4U_measured                 category\n",
            "T4U                           float64\n",
            "FTI_measured                 category\n",
            "FTI                           float64\n",
            "dtype: object\n"
          ],
          "name": "stdout"
        }
      ]
    },
    {
      "cell_type": "code",
      "metadata": {
        "id": "ax078NFBwXSl",
        "colab_type": "code",
        "colab": {
          "base_uri": "https://localhost:8080/",
          "height": 457
        },
        "outputId": "32b74ddb-da24-4ffc-ec3f-02cefe9cd367"
      },
      "source": [
        "# checking for null values\n",
        "print(thyroid_df.isnull().sum())"
      ],
      "execution_count": null,
      "outputs": [
        {
          "output_type": "stream",
          "text": [
            "status                         0\n",
            "age                          446\n",
            "sex                            0\n",
            "on_thyroxine                   0\n",
            "query_on_thyroxine             0\n",
            "on_antithyroid_medication      0\n",
            "thyroid_surgery                0\n",
            "query_hypothyroid              0\n",
            "query_hyperthyroid             0\n",
            "pregnant                       0\n",
            "sick                           0\n",
            "tumor                          0\n",
            "lithium                        0\n",
            "goitre                         0\n",
            "TSH_measured                   0\n",
            "TSH                          468\n",
            "T3_measured                    0\n",
            "T3                           695\n",
            "TT4_measured                   0\n",
            "TT4                          249\n",
            "T4U_measured                   0\n",
            "T4U                          248\n",
            "FTI_measured                   0\n",
            "FTI                          247\n",
            "dtype: int64\n"
          ],
          "name": "stdout"
        }
      ]
    },
    {
      "cell_type": "code",
      "metadata": {
        "id": "qKxiC5vfw5nj",
        "colab_type": "code",
        "colab": {}
      },
      "source": [
        "# dropping the null values.\n",
        "\n",
        "thyroid_df.dropna(inplace=True)"
      ],
      "execution_count": null,
      "outputs": []
    },
    {
      "cell_type": "code",
      "metadata": {
        "id": "3YHsd8ccxZjR",
        "colab_type": "code",
        "colab": {
          "base_uri": "https://localhost:8080/",
          "height": 457
        },
        "outputId": "4c55de51-2045-4fed-84ce-1d34072ad580"
      },
      "source": [
        "# confirming that the missing values have been dropped\n",
        "\n",
        "print(thyroid_df.isnull().sum())"
      ],
      "execution_count": null,
      "outputs": [
        {
          "output_type": "stream",
          "text": [
            "status                       0\n",
            "age                          0\n",
            "sex                          0\n",
            "on_thyroxine                 0\n",
            "query_on_thyroxine           0\n",
            "on_antithyroid_medication    0\n",
            "thyroid_surgery              0\n",
            "query_hypothyroid            0\n",
            "query_hyperthyroid           0\n",
            "pregnant                     0\n",
            "sick                         0\n",
            "tumor                        0\n",
            "lithium                      0\n",
            "goitre                       0\n",
            "TSH_measured                 0\n",
            "TSH                          0\n",
            "T3_measured                  0\n",
            "T3                           0\n",
            "TT4_measured                 0\n",
            "TT4                          0\n",
            "T4U_measured                 0\n",
            "T4U                          0\n",
            "FTI_measured                 0\n",
            "FTI                          0\n",
            "dtype: int64\n"
          ],
          "name": "stdout"
        }
      ]
    },
    {
      "cell_type": "code",
      "metadata": {
        "id": "9P6G0Viqx-AW",
        "colab_type": "code",
        "colab": {}
      },
      "source": [
        "# earlier we had seen that age, and TT4 were listed as floats but they are integers. we will fix that here\n",
        "\n",
        "thyroid_df['age'] = thyroid_df['age'].astype(int)\n",
        "thyroid_df['TT4'] = thyroid_df['TT4'].astype(int)"
      ],
      "execution_count": null,
      "outputs": []
    },
    {
      "cell_type": "code",
      "metadata": {
        "id": "nd5p5IVxyqS6",
        "colab_type": "code",
        "colab": {
          "base_uri": "https://localhost:8080/",
          "height": 457
        },
        "outputId": "916a9e2c-c22f-4258-c50c-aa433f9f3717"
      },
      "source": [
        "# checking if all the columns have the correct data types\n",
        "\n",
        "thyroid_df.dtypes"
      ],
      "execution_count": null,
      "outputs": [
        {
          "output_type": "execute_result",
          "data": {
            "text/plain": [
              "status                       category\n",
              "age                             int64\n",
              "sex                          category\n",
              "on_thyroxine                 category\n",
              "query_on_thyroxine           category\n",
              "on_antithyroid_medication    category\n",
              "thyroid_surgery              category\n",
              "query_hypothyroid            category\n",
              "query_hyperthyroid           category\n",
              "pregnant                     category\n",
              "sick                         category\n",
              "tumor                        category\n",
              "lithium                      category\n",
              "goitre                       category\n",
              "TSH_measured                 category\n",
              "TSH                           float64\n",
              "T3_measured                  category\n",
              "T3                            float64\n",
              "TT4_measured                 category\n",
              "TT4                             int64\n",
              "T4U_measured                 category\n",
              "T4U                           float64\n",
              "FTI_measured                 category\n",
              "FTI                           float64\n",
              "dtype: object"
            ]
          },
          "metadata": {
            "tags": []
          },
          "execution_count": 49
        }
      ]
    },
    {
      "cell_type": "code",
      "metadata": {
        "id": "wZ9vlvNo-bxq",
        "colab_type": "code",
        "colab": {
          "base_uri": "https://localhost:8080/",
          "height": 457
        },
        "outputId": "702353a1-a089-4ef9-9f7f-88faa3fad3cf"
      },
      "source": [
        "#  let's check if we still have any columns with question marks\n",
        "\n",
        "print(thyroid_df[thyroid_df == '?'].count())\n",
        "\n",
        "# all the columns have no question marks except for the sex column. we will take care of this next"
      ],
      "execution_count": null,
      "outputs": [
        {
          "output_type": "stream",
          "text": [
            "status                        0\n",
            "age                           0\n",
            "sex                          12\n",
            "on_thyroxine                  0\n",
            "query_on_thyroxine            0\n",
            "on_antithyroid_medication     0\n",
            "thyroid_surgery               0\n",
            "query_hypothyroid             0\n",
            "query_hyperthyroid            0\n",
            "pregnant                      0\n",
            "sick                          0\n",
            "tumor                         0\n",
            "lithium                       0\n",
            "goitre                        0\n",
            "TSH_measured                  0\n",
            "TSH                           0\n",
            "T3_measured                   0\n",
            "T3                            0\n",
            "TT4_measured                  0\n",
            "TT4                           0\n",
            "T4U_measured                  0\n",
            "T4U                           0\n",
            "FTI_measured                  0\n",
            "FTI                           0\n",
            "dtype: int64\n"
          ],
          "name": "stdout"
        }
      ]
    },
    {
      "cell_type": "code",
      "metadata": {
        "id": "vufIB-Jv-pln",
        "colab_type": "code",
        "colab": {
          "base_uri": "https://localhost:8080/",
          "height": 281
        },
        "outputId": "56a6ce4e-4f0b-4b7c-a7ca-14d3e24e46cd"
      },
      "source": [
        "# the sex column has only 12 records with '?', we will drop these records to avoid any errors during the analysis\n",
        "\n",
        "df = thyroid_df.loc[thyroid_df['sex']=='?']\n",
        "print(df)\n",
        "thyroid_df = thyroid_df.drop([402, 721, 984, 1337, 1675, 1739, 1863, 2077, 2080, 2107, 2595, 2895], axis ='index')"
      ],
      "execution_count": null,
      "outputs": [
        {
          "output_type": "stream",
          "text": [
            "        status  age sex on_thyroxine  ... T4U_measured   T4U FTI_measured    FTI\n",
            "402   negative   42   ?            t  ...            y  1.02            y  126.0\n",
            "721   negative   46   ?            t  ...            y  0.91            y  162.0\n",
            "984   negative   37   ?            f  ...            y  1.05            y  134.0\n",
            "1337  negative   38   ?            f  ...            y  0.83            y  104.0\n",
            "1675  negative   27   ?            f  ...            y  0.95            y   99.0\n",
            "1739  negative   64   ?            f  ...            y  0.85            y  110.0\n",
            "1863  negative   38   ?            f  ...            y  0.70            y  117.0\n",
            "2077  negative   47   ?            f  ...            y  1.31            y   78.0\n",
            "2080  negative   55   ?            f  ...            y  0.89            y   92.0\n",
            "2107  negative   65   ?            f  ...            y  0.77            y  168.0\n",
            "2595  negative   18   ?            t  ...            y  1.12            y  107.0\n",
            "2895  negative   46   ?            t  ...            y  0.91            y  192.0\n",
            "\n",
            "[12 rows x 24 columns]\n"
          ],
          "name": "stdout"
        }
      ]
    },
    {
      "cell_type": "code",
      "metadata": {
        "id": "P0mJwsxRBwxH",
        "colab_type": "code",
        "colab": {
          "base_uri": "https://localhost:8080/",
          "height": 475
        },
        "outputId": "62a8a875-edfc-4573-bc8d-5a0fc618e946"
      },
      "source": [
        "# confirming that the rows in the sex columns with question marks have been dropped\n",
        "print(thyroid_df[thyroid_df == '?'].count())\n",
        "\n",
        "# checking the current shape of our data frame\n",
        "print(thyroid_df.shape)\n",
        "# our data set has 2,000 records and 24 columns "
      ],
      "execution_count": null,
      "outputs": [
        {
          "output_type": "stream",
          "text": [
            "status                       0\n",
            "age                          0\n",
            "sex                          0\n",
            "on_thyroxine                 0\n",
            "query_on_thyroxine           0\n",
            "on_antithyroid_medication    0\n",
            "thyroid_surgery              0\n",
            "query_hypothyroid            0\n",
            "query_hyperthyroid           0\n",
            "pregnant                     0\n",
            "sick                         0\n",
            "tumor                        0\n",
            "lithium                      0\n",
            "goitre                       0\n",
            "TSH_measured                 0\n",
            "TSH                          0\n",
            "T3_measured                  0\n",
            "T3                           0\n",
            "TT4_measured                 0\n",
            "TT4                          0\n",
            "T4U_measured                 0\n",
            "T4U                          0\n",
            "FTI_measured                 0\n",
            "FTI                          0\n",
            "dtype: int64\n",
            "(2000, 24)\n"
          ],
          "name": "stdout"
        }
      ]
    },
    {
      "cell_type": "code",
      "metadata": {
        "id": "3PGKJTV4Q95o",
        "colab_type": "code",
        "colab": {
          "base_uri": "https://localhost:8080/",
          "height": 507
        },
        "outputId": "a7aa5039-aef6-452c-8045-66d4070f24f1"
      },
      "source": [
        "# checking for outliers in numerical variables\n",
        "# plotting boxplots for age, TT4 and FTI\n",
        "thyroid_df.boxplot(['age', 'TT4', 'FTI'], grid=False, figsize=(12,8), fontsize=15)"
      ],
      "execution_count": null,
      "outputs": [
        {
          "output_type": "execute_result",
          "data": {
            "text/plain": [
              "<matplotlib.axes._subplots.AxesSubplot at 0x7f65d5197160>"
            ]
          },
          "metadata": {
            "tags": []
          },
          "execution_count": 53
        },
        {
          "output_type": "display_data",
          "data": {
            "image/png": "[encoded data removed]",
            "text/plain": [
              "<Figure size 864x576 with 1 Axes>"
            ]
          },
          "metadata": {
            "tags": [],
            "needs_background": "light"
          }
        }
      ]
    },
    {
      "cell_type": "markdown",
      "metadata": {
        "id": "L5N90O-7ViID",
        "colab_type": "text"
      },
      "source": [
        "Age has no outliers. TT4 and FTI have some outliers but based in research we establish that it is possible to have very high or low levels of TT4 and FTI so we wont be deleting these outliers"
      ]
    },
    {
      "cell_type": "code",
      "metadata": {
        "id": "whvb2RplWkJg",
        "colab_type": "code",
        "colab": {
          "base_uri": "https://localhost:8080/",
          "height": 399
        },
        "outputId": "8dac5db4-ea31-4b12-a78a-9ee84d13ada0"
      },
      "source": [
        "# plotting boxplots for T3 and T4U\n",
        "thyroid_df.boxplot(['T3', 'T4U'], grid=False, figsize=(10,6), fontsize=15)"
      ],
      "execution_count": null,
      "outputs": [
        {
          "output_type": "execute_result",
          "data": {
            "text/plain": [
              "<matplotlib.axes._subplots.AxesSubplot at 0x7f65d50ee160>"
            ]
          },
          "metadata": {
            "tags": []
          },
          "execution_count": 54
        },
        {
          "output_type": "display_data",
          "data": {
            "image/png": "[encoded data removed]",
            "text/plain": [
              "<Figure size 720x432 with 1 Axes>"
            ]
          },
          "metadata": {
            "tags": [],
            "needs_background": "light"
          }
        }
      ]
    },
    {
      "cell_type": "markdown",
      "metadata": {
        "id": "2TvUvBUGaQ56",
        "colab_type": "text"
      },
      "source": [
        "We see some outliers on both columns, but we will keep them as well"
      ]
    },
    {
      "cell_type": "code",
      "metadata": {
        "id": "yt6R52p3Zjen",
        "colab_type": "code",
        "colab": {
          "base_uri": "https://localhost:8080/",
          "height": 507
        },
        "outputId": "5f8baea5-eb47-4c54-c074-7a88a3dd12f8"
      },
      "source": [
        "# plotting boxplots for TSH\n",
        "thyroid_df.boxplot(['TSH'], grid=False, figsize=(4,8), fontsize=15)"
      ],
      "execution_count": null,
      "outputs": [
        {
          "output_type": "execute_result",
          "data": {
            "text/plain": [
              "<matplotlib.axes._subplots.AxesSubplot at 0x7f65d4c23be0>"
            ]
          },
          "metadata": {
            "tags": []
          },
          "execution_count": 55
        },
        {
          "output_type": "display_data",
          "data": {
            "image/png": "[encoded data removed]",
            "text/plain": [
              "<Figure size 288x576 with 1 Axes>"
            ]
          },
          "metadata": {
            "tags": [],
            "needs_background": "light"
          }
        }
      ]
    },
    {
      "cell_type": "markdown",
      "metadata": {
        "id": "hV6aRRGZahiD",
        "colab_type": "text"
      },
      "source": [
        "There are outliers, and we have two points that are clearly away from the rest. These two points might affect our data so we will get rid of them"
      ]
    },
    {
      "cell_type": "code",
      "metadata": {
        "id": "qGPn9VlLb4i-",
        "colab_type": "code",
        "colab": {
          "base_uri": "https://localhost:8080/",
          "height": 130
        },
        "outputId": "85d0596b-d2ed-436b-c0c4-25d37cbe12bb"
      },
      "source": [
        "thyroid_df[thyroid_df['TSH']>300]"
      ],
      "execution_count": null,
      "outputs": [
        {
          "output_type": "execute_result",
          "data": {
            "text/html": [
              "<div>\n",
              "<style scoped>\n",
              "    .dataframe tbody tr th:only-of-type {\n",
              "        vertical-align: middle;\n",
              "    }\n",
              "\n",
              "    .dataframe tbody tr th {\n",
              "        vertical-align: top;\n",
              "    }\n",
              "\n",
              "    .dataframe thead th {\n",
              "        text-align: right;\n",
              "    }\n",
              "</style>\n",
              "<table border=\"1\" class=\"dataframe\">\n",
              "  <thead>\n",
              "    <tr style=\"text-align: right;\">\n",
              "      <th></th>\n",
              "      <th>status</th>\n",
              "      <th>age</th>\n",
              "      <th>sex</th>\n",
              "      <th>on_thyroxine</th>\n",
              "      <th>query_on_thyroxine</th>\n",
              "      <th>on_antithyroid_medication</th>\n",
              "      <th>thyroid_surgery</th>\n",
              "      <th>query_hypothyroid</th>\n",
              "      <th>query_hyperthyroid</th>\n",
              "      <th>pregnant</th>\n",
              "      <th>sick</th>\n",
              "      <th>tumor</th>\n",
              "      <th>lithium</th>\n",
              "      <th>goitre</th>\n",
              "      <th>TSH_measured</th>\n",
              "      <th>TSH</th>\n",
              "      <th>T3_measured</th>\n",
              "      <th>T3</th>\n",
              "      <th>TT4_measured</th>\n",
              "      <th>TT4</th>\n",
              "      <th>T4U_measured</th>\n",
              "      <th>T4U</th>\n",
              "      <th>FTI_measured</th>\n",
              "      <th>FTI</th>\n",
              "    </tr>\n",
              "  </thead>\n",
              "  <tbody>\n",
              "    <tr>\n",
              "      <th>3</th>\n",
              "      <td>hypothyroid</td>\n",
              "      <td>24</td>\n",
              "      <td>F</td>\n",
              "      <td>f</td>\n",
              "      <td>f</td>\n",
              "      <td>f</td>\n",
              "      <td>f</td>\n",
              "      <td>f</td>\n",
              "      <td>f</td>\n",
              "      <td>f</td>\n",
              "      <td>f</td>\n",
              "      <td>f</td>\n",
              "      <td>f</td>\n",
              "      <td>f</td>\n",
              "      <td>y</td>\n",
              "      <td>430.0</td>\n",
              "      <td>y</td>\n",
              "      <td>0.4</td>\n",
              "      <td>y</td>\n",
              "      <td>6</td>\n",
              "      <td>y</td>\n",
              "      <td>1.04</td>\n",
              "      <td>y</td>\n",
              "      <td>6.0</td>\n",
              "    </tr>\n",
              "    <tr>\n",
              "      <th>31</th>\n",
              "      <td>hypothyroid</td>\n",
              "      <td>59</td>\n",
              "      <td>F</td>\n",
              "      <td>f</td>\n",
              "      <td>f</td>\n",
              "      <td>f</td>\n",
              "      <td>f</td>\n",
              "      <td>f</td>\n",
              "      <td>f</td>\n",
              "      <td>f</td>\n",
              "      <td>f</td>\n",
              "      <td>f</td>\n",
              "      <td>f</td>\n",
              "      <td>f</td>\n",
              "      <td>y</td>\n",
              "      <td>530.0</td>\n",
              "      <td>y</td>\n",
              "      <td>2.0</td>\n",
              "      <td>y</td>\n",
              "      <td>10</td>\n",
              "      <td>y</td>\n",
              "      <td>1.12</td>\n",
              "      <td>y</td>\n",
              "      <td>8.5</td>\n",
              "    </tr>\n",
              "  </tbody>\n",
              "</table>\n",
              "</div>"
            ],
            "text/plain": [
              "         status  age sex on_thyroxine  ... T4U_measured   T4U FTI_measured  FTI\n",
              "3   hypothyroid   24   F            f  ...            y  1.04            y  6.0\n",
              "31  hypothyroid   59   F            f  ...            y  1.12            y  8.5\n",
              "\n",
              "[2 rows x 24 columns]"
            ]
          },
          "metadata": {
            "tags": []
          },
          "execution_count": 56
        }
      ]
    },
    {
      "cell_type": "code",
      "metadata": {
        "id": "JXSjwL4wcC5o",
        "colab_type": "code",
        "colab": {
          "base_uri": "https://localhost:8080/",
          "height": 69
        },
        "outputId": "05a467a5-1064-4a2d-8cfb-e2e5b299acc5"
      },
      "source": [
        "# dropping the records\n",
        "\n",
        "thyroid_df = thyroid_df.drop([3, 31], axis ='index')\n",
        "# confirming that the records have been dropped\n",
        "thyroid_df[thyroid_df['TSH']>300]\n",
        "\n",
        "# yes the two records have been dropped"
      ],
      "execution_count": null,
      "outputs": [
        {
          "output_type": "execute_result",
          "data": {
            "text/html": [
              "<div>\n",
              "<style scoped>\n",
              "    .dataframe tbody tr th:only-of-type {\n",
              "        vertical-align: middle;\n",
              "    }\n",
              "\n",
              "    .dataframe tbody tr th {\n",
              "        vertical-align: top;\n",
              "    }\n",
              "\n",
              "    .dataframe thead th {\n",
              "        text-align: right;\n",
              "    }\n",
              "</style>\n",
              "<table border=\"1\" class=\"dataframe\">\n",
              "  <thead>\n",
              "    <tr style=\"text-align: right;\">\n",
              "      <th></th>\n",
              "      <th>status</th>\n",
              "      <th>age</th>\n",
              "      <th>sex</th>\n",
              "      <th>on_thyroxine</th>\n",
              "      <th>query_on_thyroxine</th>\n",
              "      <th>on_antithyroid_medication</th>\n",
              "      <th>thyroid_surgery</th>\n",
              "      <th>query_hypothyroid</th>\n",
              "      <th>query_hyperthyroid</th>\n",
              "      <th>pregnant</th>\n",
              "      <th>sick</th>\n",
              "      <th>tumor</th>\n",
              "      <th>lithium</th>\n",
              "      <th>goitre</th>\n",
              "      <th>TSH_measured</th>\n",
              "      <th>TSH</th>\n",
              "      <th>T3_measured</th>\n",
              "      <th>T3</th>\n",
              "      <th>TT4_measured</th>\n",
              "      <th>TT4</th>\n",
              "      <th>T4U_measured</th>\n",
              "      <th>T4U</th>\n",
              "      <th>FTI_measured</th>\n",
              "      <th>FTI</th>\n",
              "    </tr>\n",
              "  </thead>\n",
              "  <tbody>\n",
              "  </tbody>\n",
              "</table>\n",
              "</div>"
            ],
            "text/plain": [
              "Empty DataFrame\n",
              "Columns: [status, age, sex, on_thyroxine, query_on_thyroxine, on_antithyroid_medication, thyroid_surgery, query_hypothyroid, query_hyperthyroid, pregnant, sick, tumor, lithium, goitre, TSH_measured, TSH, T3_measured, T3, TT4_measured, TT4, T4U_measured, T4U, FTI_measured, FTI]\n",
              "Index: []"
            ]
          },
          "metadata": {
            "tags": []
          },
          "execution_count": 57
        }
      ]
    },
    {
      "cell_type": "code",
      "metadata": {
        "id": "q4pdr3Oec3fK",
        "colab_type": "code",
        "colab": {
          "base_uri": "https://localhost:8080/",
          "height": 35
        },
        "outputId": "e919bcdc-213b-4e8a-a847-33cb2a3e90bb"
      },
      "source": [
        "# checking the final shape of our dataset\n",
        "\n",
        "thyroid_df.shape\n",
        "\n",
        "# we are remaining with 1,998 records and 24 columns. we are ready to begin on the analysis"
      ],
      "execution_count": null,
      "outputs": [
        {
          "output_type": "execute_result",
          "data": {
            "text/plain": [
              "(1998, 24)"
            ]
          },
          "metadata": {
            "tags": []
          },
          "execution_count": 58
        }
      ]
    },
    {
      "cell_type": "code",
      "metadata": {
        "id": "xRzkiBYic8Yo",
        "colab_type": "code",
        "colab": {
          "base_uri": "https://localhost:8080/",
          "height": 223
        },
        "outputId": "7cd55893-695b-40f9-a1e3-45d007cdc170"
      },
      "source": [
        "# renaming the cleaned\n",
        "\n",
        "cleaned = thyroid_df\n",
        "cleaned.head()"
      ],
      "execution_count": null,
      "outputs": [
        {
          "output_type": "execute_result",
          "data": {
            "text/html": [
              "<div>\n",
              "<style scoped>\n",
              "    .dataframe tbody tr th:only-of-type {\n",
              "        vertical-align: middle;\n",
              "    }\n",
              "\n",
              "    .dataframe tbody tr th {\n",
              "        vertical-align: top;\n",
              "    }\n",
              "\n",
              "    .dataframe thead th {\n",
              "        text-align: right;\n",
              "    }\n",
              "</style>\n",
              "<table border=\"1\" class=\"dataframe\">\n",
              "  <thead>\n",
              "    <tr style=\"text-align: right;\">\n",
              "      <th></th>\n",
              "      <th>status</th>\n",
              "      <th>age</th>\n",
              "      <th>sex</th>\n",
              "      <th>on_thyroxine</th>\n",
              "      <th>query_on_thyroxine</th>\n",
              "      <th>on_antithyroid_medication</th>\n",
              "      <th>thyroid_surgery</th>\n",
              "      <th>query_hypothyroid</th>\n",
              "      <th>query_hyperthyroid</th>\n",
              "      <th>pregnant</th>\n",
              "      <th>sick</th>\n",
              "      <th>tumor</th>\n",
              "      <th>lithium</th>\n",
              "      <th>goitre</th>\n",
              "      <th>TSH_measured</th>\n",
              "      <th>TSH</th>\n",
              "      <th>T3_measured</th>\n",
              "      <th>T3</th>\n",
              "      <th>TT4_measured</th>\n",
              "      <th>TT4</th>\n",
              "      <th>T4U_measured</th>\n",
              "      <th>T4U</th>\n",
              "      <th>FTI_measured</th>\n",
              "      <th>FTI</th>\n",
              "    </tr>\n",
              "  </thead>\n",
              "  <tbody>\n",
              "    <tr>\n",
              "      <th>0</th>\n",
              "      <td>hypothyroid</td>\n",
              "      <td>72</td>\n",
              "      <td>M</td>\n",
              "      <td>f</td>\n",
              "      <td>f</td>\n",
              "      <td>f</td>\n",
              "      <td>f</td>\n",
              "      <td>f</td>\n",
              "      <td>f</td>\n",
              "      <td>f</td>\n",
              "      <td>f</td>\n",
              "      <td>f</td>\n",
              "      <td>f</td>\n",
              "      <td>f</td>\n",
              "      <td>y</td>\n",
              "      <td>30.0</td>\n",
              "      <td>y</td>\n",
              "      <td>0.6</td>\n",
              "      <td>y</td>\n",
              "      <td>15</td>\n",
              "      <td>y</td>\n",
              "      <td>1.48</td>\n",
              "      <td>y</td>\n",
              "      <td>10.0</td>\n",
              "    </tr>\n",
              "    <tr>\n",
              "      <th>1</th>\n",
              "      <td>hypothyroid</td>\n",
              "      <td>15</td>\n",
              "      <td>F</td>\n",
              "      <td>t</td>\n",
              "      <td>f</td>\n",
              "      <td>f</td>\n",
              "      <td>f</td>\n",
              "      <td>f</td>\n",
              "      <td>f</td>\n",
              "      <td>f</td>\n",
              "      <td>f</td>\n",
              "      <td>f</td>\n",
              "      <td>f</td>\n",
              "      <td>f</td>\n",
              "      <td>y</td>\n",
              "      <td>145.0</td>\n",
              "      <td>y</td>\n",
              "      <td>1.7</td>\n",
              "      <td>y</td>\n",
              "      <td>19</td>\n",
              "      <td>y</td>\n",
              "      <td>1.13</td>\n",
              "      <td>y</td>\n",
              "      <td>17.0</td>\n",
              "    </tr>\n",
              "    <tr>\n",
              "      <th>2</th>\n",
              "      <td>hypothyroid</td>\n",
              "      <td>24</td>\n",
              "      <td>M</td>\n",
              "      <td>f</td>\n",
              "      <td>f</td>\n",
              "      <td>f</td>\n",
              "      <td>f</td>\n",
              "      <td>f</td>\n",
              "      <td>f</td>\n",
              "      <td>f</td>\n",
              "      <td>f</td>\n",
              "      <td>f</td>\n",
              "      <td>f</td>\n",
              "      <td>f</td>\n",
              "      <td>y</td>\n",
              "      <td>0.0</td>\n",
              "      <td>y</td>\n",
              "      <td>0.2</td>\n",
              "      <td>y</td>\n",
              "      <td>4</td>\n",
              "      <td>y</td>\n",
              "      <td>1.00</td>\n",
              "      <td>y</td>\n",
              "      <td>0.0</td>\n",
              "    </tr>\n",
              "    <tr>\n",
              "      <th>4</th>\n",
              "      <td>hypothyroid</td>\n",
              "      <td>77</td>\n",
              "      <td>M</td>\n",
              "      <td>f</td>\n",
              "      <td>f</td>\n",
              "      <td>f</td>\n",
              "      <td>f</td>\n",
              "      <td>f</td>\n",
              "      <td>f</td>\n",
              "      <td>f</td>\n",
              "      <td>f</td>\n",
              "      <td>f</td>\n",
              "      <td>f</td>\n",
              "      <td>f</td>\n",
              "      <td>y</td>\n",
              "      <td>7.3</td>\n",
              "      <td>y</td>\n",
              "      <td>1.2</td>\n",
              "      <td>y</td>\n",
              "      <td>57</td>\n",
              "      <td>y</td>\n",
              "      <td>1.28</td>\n",
              "      <td>y</td>\n",
              "      <td>44.0</td>\n",
              "    </tr>\n",
              "    <tr>\n",
              "      <th>5</th>\n",
              "      <td>hypothyroid</td>\n",
              "      <td>85</td>\n",
              "      <td>F</td>\n",
              "      <td>f</td>\n",
              "      <td>f</td>\n",
              "      <td>f</td>\n",
              "      <td>f</td>\n",
              "      <td>t</td>\n",
              "      <td>f</td>\n",
              "      <td>f</td>\n",
              "      <td>f</td>\n",
              "      <td>f</td>\n",
              "      <td>f</td>\n",
              "      <td>f</td>\n",
              "      <td>y</td>\n",
              "      <td>138.0</td>\n",
              "      <td>y</td>\n",
              "      <td>1.1</td>\n",
              "      <td>y</td>\n",
              "      <td>27</td>\n",
              "      <td>y</td>\n",
              "      <td>1.19</td>\n",
              "      <td>y</td>\n",
              "      <td>23.0</td>\n",
              "    </tr>\n",
              "  </tbody>\n",
              "</table>\n",
              "</div>"
            ],
            "text/plain": [
              "        status  age sex on_thyroxine  ... T4U_measured   T4U FTI_measured   FTI\n",
              "0  hypothyroid   72   M            f  ...            y  1.48            y  10.0\n",
              "1  hypothyroid   15   F            t  ...            y  1.13            y  17.0\n",
              "2  hypothyroid   24   M            f  ...            y  1.00            y   0.0\n",
              "4  hypothyroid   77   M            f  ...            y  1.28            y  44.0\n",
              "5  hypothyroid   85   F            f  ...            y  1.19            y  23.0\n",
              "\n",
              "[5 rows x 24 columns]"
            ]
          },
          "metadata": {
            "tags": []
          },
          "execution_count": 59
        }
      ]
    },
    {
      "cell_type": "markdown",
      "metadata": {
        "id": "MAqAEoFSdZrF",
        "colab_type": "text"
      },
      "source": [
        "## Exploratory data analysis"
      ]
    },
    {
      "cell_type": "markdown",
      "metadata": {
        "id": "sf06mV7JdcAB",
        "colab_type": "text"
      },
      "source": [
        "### Univariate analysis"
      ]
    },
    {
      "cell_type": "code",
      "metadata": {
        "id": "a4pKriHEd6Wz",
        "colab_type": "code",
        "colab": {
          "base_uri": "https://localhost:8080/",
          "height": 295
        },
        "outputId": "fc67e37b-802f-4544-f23b-8234993483e5"
      },
      "source": [
        "# checking the statistical summary of the cleaned data\n",
        "cleaned.describe()"
      ],
      "execution_count": null,
      "outputs": [
        {
          "output_type": "execute_result",
          "data": {
            "text/html": [
              "<div>\n",
              "<style scoped>\n",
              "    .dataframe tbody tr th:only-of-type {\n",
              "        vertical-align: middle;\n",
              "    }\n",
              "\n",
              "    .dataframe tbody tr th {\n",
              "        vertical-align: top;\n",
              "    }\n",
              "\n",
              "    .dataframe thead th {\n",
              "        text-align: right;\n",
              "    }\n",
              "</style>\n",
              "<table border=\"1\" class=\"dataframe\">\n",
              "  <thead>\n",
              "    <tr style=\"text-align: right;\">\n",
              "      <th></th>\n",
              "      <th>age</th>\n",
              "      <th>TSH</th>\n",
              "      <th>T3</th>\n",
              "      <th>TT4</th>\n",
              "      <th>T4U</th>\n",
              "      <th>FTI</th>\n",
              "    </tr>\n",
              "  </thead>\n",
              "  <tbody>\n",
              "    <tr>\n",
              "      <th>count</th>\n",
              "      <td>1998.000000</td>\n",
              "      <td>1998.000000</td>\n",
              "      <td>1998.000000</td>\n",
              "      <td>1998.000000</td>\n",
              "      <td>1998.000000</td>\n",
              "      <td>1998.000000</td>\n",
              "    </tr>\n",
              "    <tr>\n",
              "      <th>mean</th>\n",
              "      <td>53.634635</td>\n",
              "      <td>5.617853</td>\n",
              "      <td>1.925626</td>\n",
              "      <td>107.461962</td>\n",
              "      <td>0.987948</td>\n",
              "      <td>110.221121</td>\n",
              "    </tr>\n",
              "    <tr>\n",
              "      <th>std</th>\n",
              "      <td>19.300477</td>\n",
              "      <td>19.372810</td>\n",
              "      <td>0.970409</td>\n",
              "      <td>44.964531</td>\n",
              "      <td>0.231642</td>\n",
              "      <td>40.994681</td>\n",
              "    </tr>\n",
              "    <tr>\n",
              "      <th>min</th>\n",
              "      <td>1.000000</td>\n",
              "      <td>0.000000</td>\n",
              "      <td>0.050000</td>\n",
              "      <td>2.000000</td>\n",
              "      <td>0.000000</td>\n",
              "      <td>0.000000</td>\n",
              "    </tr>\n",
              "    <tr>\n",
              "      <th>25%</th>\n",
              "      <td>37.000000</td>\n",
              "      <td>0.000000</td>\n",
              "      <td>1.300000</td>\n",
              "      <td>82.000000</td>\n",
              "      <td>0.850000</td>\n",
              "      <td>90.000000</td>\n",
              "    </tr>\n",
              "    <tr>\n",
              "      <th>50%</th>\n",
              "      <td>57.000000</td>\n",
              "      <td>0.700000</td>\n",
              "      <td>1.800000</td>\n",
              "      <td>103.000000</td>\n",
              "      <td>0.960000</td>\n",
              "      <td>107.000000</td>\n",
              "    </tr>\n",
              "    <tr>\n",
              "      <th>75%</th>\n",
              "      <td>70.000000</td>\n",
              "      <td>2.200000</td>\n",
              "      <td>2.300000</td>\n",
              "      <td>126.000000</td>\n",
              "      <td>1.070000</td>\n",
              "      <td>127.000000</td>\n",
              "    </tr>\n",
              "    <tr>\n",
              "      <th>max</th>\n",
              "      <td>98.000000</td>\n",
              "      <td>235.000000</td>\n",
              "      <td>9.800000</td>\n",
              "      <td>450.000000</td>\n",
              "      <td>2.030000</td>\n",
              "      <td>450.000000</td>\n",
              "    </tr>\n",
              "  </tbody>\n",
              "</table>\n",
              "</div>"
            ],
            "text/plain": [
              "               age          TSH  ...          T4U          FTI\n",
              "count  1998.000000  1998.000000  ...  1998.000000  1998.000000\n",
              "mean     53.634635     5.617853  ...     0.987948   110.221121\n",
              "std      19.300477    19.372810  ...     0.231642    40.994681\n",
              "min       1.000000     0.000000  ...     0.000000     0.000000\n",
              "25%      37.000000     0.000000  ...     0.850000    90.000000\n",
              "50%      57.000000     0.700000  ...     0.960000   107.000000\n",
              "75%      70.000000     2.200000  ...     1.070000   127.000000\n",
              "max      98.000000   235.000000  ...     2.030000   450.000000\n",
              "\n",
              "[8 rows x 6 columns]"
            ]
          },
          "metadata": {
            "tags": []
          },
          "execution_count": 60
        }
      ]
    },
    {
      "cell_type": "markdown",
      "metadata": {
        "id": "a7b6XMc6fp7r",
        "colab_type": "text"
      },
      "source": [
        "observations: \n",
        "\n",
        "mean age = 53.6, , 50% = 57, max = 98\n",
        "\n",
        "mean TSH = 5.61, 50% =0.7, max = 235. the disperity here is very obvious suggesting the presence of skewness\n",
        "\n",
        "mean T3 = 1.925, 50% = 1.8, max = 9.8. there is a huge disperity between 50% and max, also an indication of skewness\n",
        "\n",
        "mean TT4 = 107.46, 50% = 103, max = 450\n",
        "\n",
        "mean T4U =0.98, 50% = 0.96, max = 2.03. \n",
        "\n",
        "mean FTI = 110.22, 50% = 107, max = 450. also showing signs of skewness"
      ]
    },
    {
      "cell_type": "markdown",
      "metadata": {
        "id": "vL0SLxC_odJZ",
        "colab_type": "text"
      },
      "source": [
        "#### Frequency distribution tables"
      ]
    },
    {
      "cell_type": "code",
      "metadata": {
        "id": "v6clpURtoHBu",
        "colab_type": "code",
        "colab": {
          "base_uri": "https://localhost:8080/",
          "height": 70
        },
        "outputId": "f0cbb734-4c30-4320-bc53-a7e6d5d31a13"
      },
      "source": [
        "cleaned['status'].value_counts()\n",
        "\n",
        "# we see that we have 1,878 negative cases and 120 cases of hypothyroid"
      ],
      "execution_count": null,
      "outputs": [
        {
          "output_type": "execute_result",
          "data": {
            "text/plain": [
              "negative       1878\n",
              "hypothyroid     120\n",
              "Name: status, dtype: int64"
            ]
          },
          "metadata": {
            "tags": []
          },
          "execution_count": 61
        }
      ]
    },
    {
      "cell_type": "code",
      "metadata": {
        "id": "bwWJAXy8oruf",
        "colab_type": "code",
        "colab": {
          "base_uri": "https://localhost:8080/",
          "height": 211
        },
        "outputId": "5856b329-cc1a-4d86-a05a-57e000677cb0"
      },
      "source": [
        "cleaned['age'].value_counts().head(10)\n",
        "\n",
        "# the ages shown below on the left are the most popular ages that participated in this study\n",
        "# we see mostly older folks"
      ],
      "execution_count": null,
      "outputs": [
        {
          "output_type": "execute_result",
          "data": {
            "text/plain": [
              "60    53\n",
              "70    51\n",
              "62    51\n",
              "72    50\n",
              "73    47\n",
              "59    44\n",
              "58    44\n",
              "71    42\n",
              "28    42\n",
              "34    40\n",
              "Name: age, dtype: int64"
            ]
          },
          "metadata": {
            "tags": []
          },
          "execution_count": 62
        }
      ]
    },
    {
      "cell_type": "code",
      "metadata": {
        "id": "xha75vUupRFm",
        "colab_type": "code",
        "colab": {
          "base_uri": "https://localhost:8080/",
          "height": 87
        },
        "outputId": "ad5d94a7-2488-4d49-da49-c651f6f51126"
      },
      "source": [
        "cleaned['sex'].value_counts()\n",
        "\n",
        "# there is more female patients than male. \n",
        "# it is likely that our data will be skewed towards female because we have more data from female patients"
      ],
      "execution_count": null,
      "outputs": [
        {
          "output_type": "execute_result",
          "data": {
            "text/plain": [
              "F    1359\n",
              "M     639\n",
              "?       0\n",
              "Name: sex, dtype: int64"
            ]
          },
          "metadata": {
            "tags": []
          },
          "execution_count": 63
        }
      ]
    },
    {
      "cell_type": "code",
      "metadata": {
        "id": "PGDvtAafpyzp",
        "colab_type": "code",
        "colab": {
          "base_uri": "https://localhost:8080/",
          "height": 70
        },
        "outputId": "6aa9298f-5d5c-4a7f-a4f5-2d35bb0bb0e1"
      },
      "source": [
        "cleaned['on_thyroxine'].value_counts()\n",
        "\n",
        "# a lot of patients are not on thyroxine. 1,742 not on thyroxine but only 256 on thyroxine"
      ],
      "execution_count": null,
      "outputs": [
        {
          "output_type": "execute_result",
          "data": {
            "text/plain": [
              "f    1742\n",
              "t     256\n",
              "Name: on_thyroxine, dtype: int64"
            ]
          },
          "metadata": {
            "tags": []
          },
          "execution_count": 64
        }
      ]
    },
    {
      "cell_type": "code",
      "metadata": {
        "id": "q9W0jLVPqD0o",
        "colab_type": "code",
        "colab": {
          "base_uri": "https://localhost:8080/",
          "height": 70
        },
        "outputId": "8d94be45-0798-456d-f8c2-0a5ad12302c1"
      },
      "source": [
        "cleaned['on_antithyroid_medication'].value_counts()\n",
        "\n",
        "# only 27 patients are on antithyroid medication"
      ],
      "execution_count": null,
      "outputs": [
        {
          "output_type": "execute_result",
          "data": {
            "text/plain": [
              "f    1971\n",
              "t      27\n",
              "Name: on_antithyroid_medication, dtype: int64"
            ]
          },
          "metadata": {
            "tags": []
          },
          "execution_count": 65
        }
      ]
    },
    {
      "cell_type": "code",
      "metadata": {
        "id": "afiJEtPDqTXI",
        "colab_type": "code",
        "colab": {
          "base_uri": "https://localhost:8080/",
          "height": 70
        },
        "outputId": "eb56050a-39f9-48f4-da66-7a82756dc800"
      },
      "source": [
        "cleaned['thyroid_surgery'].value_counts()\n",
        "\n",
        "# 72 patients have had thyroid surgery"
      ],
      "execution_count": null,
      "outputs": [
        {
          "output_type": "execute_result",
          "data": {
            "text/plain": [
              "f    1926\n",
              "t      72\n",
              "Name: thyroid_surgery, dtype: int64"
            ]
          },
          "metadata": {
            "tags": []
          },
          "execution_count": 66
        }
      ]
    },
    {
      "cell_type": "code",
      "metadata": {
        "id": "ILWSbONbqdo-",
        "colab_type": "code",
        "colab": {
          "base_uri": "https://localhost:8080/",
          "height": 70
        },
        "outputId": "f511016f-aa2d-460e-ec13-0223658d3914"
      },
      "source": [
        "cleaned['pregnant'].value_counts()\n",
        "\n",
        "# 50 patients are pregnant"
      ],
      "execution_count": null,
      "outputs": [
        {
          "output_type": "execute_result",
          "data": {
            "text/plain": [
              "f    1948\n",
              "t      50\n",
              "Name: pregnant, dtype: int64"
            ]
          },
          "metadata": {
            "tags": []
          },
          "execution_count": 67
        }
      ]
    },
    {
      "cell_type": "code",
      "metadata": {
        "id": "kZUzq90yqrKD",
        "colab_type": "code",
        "colab": {
          "base_uri": "https://localhost:8080/",
          "height": 70
        },
        "outputId": "e239e563-30f2-458a-ab59-0413258aed62"
      },
      "source": [
        "cleaned['sick'].value_counts()\n",
        "# 82 patients participating in the study are sick"
      ],
      "execution_count": null,
      "outputs": [
        {
          "output_type": "execute_result",
          "data": {
            "text/plain": [
              "f    1916\n",
              "t      82\n",
              "Name: sick, dtype: int64"
            ]
          },
          "metadata": {
            "tags": []
          },
          "execution_count": 68
        }
      ]
    },
    {
      "cell_type": "code",
      "metadata": {
        "id": "EKKIIhH2q3oi",
        "colab_type": "code",
        "colab": {
          "base_uri": "https://localhost:8080/",
          "height": 70
        },
        "outputId": "59892fa4-36f0-4bf1-c8fd-d81f473c186e"
      },
      "source": [
        "cleaned['tumor'].value_counts()\n",
        "\n",
        "# 25 of the patients participating in the clinical study have a tumor"
      ],
      "execution_count": null,
      "outputs": [
        {
          "output_type": "execute_result",
          "data": {
            "text/plain": [
              "f    1973\n",
              "t      25\n",
              "Name: tumor, dtype: int64"
            ]
          },
          "metadata": {
            "tags": []
          },
          "execution_count": 69
        }
      ]
    },
    {
      "cell_type": "code",
      "metadata": {
        "id": "zzJgFXp-rEf4",
        "colab_type": "code",
        "colab": {
          "base_uri": "https://localhost:8080/",
          "height": 70
        },
        "outputId": "b86a3610-5153-415b-b124-cfb7ab4e20c0"
      },
      "source": [
        "cleaned['lithium'].value_counts()\n",
        "\n",
        "# only two patients are on lithium"
      ],
      "execution_count": null,
      "outputs": [
        {
          "output_type": "execute_result",
          "data": {
            "text/plain": [
              "f    1996\n",
              "t       2\n",
              "Name: lithium, dtype: int64"
            ]
          },
          "metadata": {
            "tags": []
          },
          "execution_count": 70
        }
      ]
    },
    {
      "cell_type": "code",
      "metadata": {
        "id": "wMt9W25urOc3",
        "colab_type": "code",
        "colab": {
          "base_uri": "https://localhost:8080/",
          "height": 70
        },
        "outputId": "d71c117f-3512-4c89-f453-aac55f27bc77"
      },
      "source": [
        "cleaned['goitre'].value_counts()\n",
        "\n",
        "# 53 of the patients have goitre"
      ],
      "execution_count": null,
      "outputs": [
        {
          "output_type": "execute_result",
          "data": {
            "text/plain": [
              "f    1945\n",
              "t      53\n",
              "Name: goitre, dtype: int64"
            ]
          },
          "metadata": {
            "tags": []
          },
          "execution_count": 71
        }
      ]
    },
    {
      "cell_type": "markdown",
      "metadata": {
        "id": "q5e7V6y7hKKp",
        "colab_type": "text"
      },
      "source": [
        "#### distribution plots for numerical variables"
      ]
    },
    {
      "cell_type": "code",
      "metadata": {
        "id": "0v81dlTFumBZ",
        "colab_type": "code",
        "colab": {
          "base_uri": "https://localhost:8080/",
          "height": 1000
        },
        "outputId": "fbefc3f8-4850-4a9f-ddb8-354dba33c656"
      },
      "source": [
        "dist_columns = ['age', 'FTI', 'T3', 'T4U', 'TSH', 'TT4']\n",
        "\n",
        "sns.set_style('darkgrid')\n",
        "fig, axes = plt.subplots(len(dist_columns), figsize = (10, 15))\n",
        "fig.suptitle('Distributions of numerical columns', y= 1.01, color = 'black', fontsize = 15)\n",
        "\n",
        "for ax, data, name in zip(axes.flatten(), cleaned, dist_columns):\n",
        "  sns.distplot(cleaned[name], ax = ax, kde = True, color = 'purple')\n",
        "plt.tight_layout()\n",
        "\n",
        "# observations: \n",
        "# age shows a bimodal distribution\n",
        "# FTI and T3 shoes a bit or more than trimodal distribution with a thin curve and some skewness to the right\n",
        "# T4U is a shows some bimodal distribution with majority of the data being normally distributed\n",
        "# TSH is heavily skewed to the right\n",
        "# TT4 is normally distributed\n",
        "\n"
      ],
      "execution_count": null,
      "outputs": [
        {
          "output_type": "display_data",
          "data": {
            "image/png": "[encoded data removed]",
            "text/plain": [
              "<Figure size 720x1080 with 6 Axes>"
            ]
          },
          "metadata": {
            "tags": []
          }
        }
      ]
    },
    {
      "cell_type": "markdown",
      "metadata": {
        "id": "yHr8Ysj2xH_s",
        "colab_type": "text"
      },
      "source": [
        "### Bivariate analysis"
      ]
    },
    {
      "cell_type": "markdown",
      "metadata": {
        "id": "bq4MAAkh3tYZ",
        "colab_type": "text"
      },
      "source": [
        "#### Heatmap"
      ]
    },
    {
      "cell_type": "code",
      "metadata": {
        "id": "-j5wqSTjh8l9",
        "colab_type": "code",
        "colab": {
          "base_uri": "https://localhost:8080/",
          "height": 385
        },
        "outputId": "00cf8c61-4f79-4838-d7f3-707ed04808d2"
      },
      "source": [
        "# checking for correlations in numerical variables\n",
        "\n",
        "fig, ax = plt.subplots(figsize=(10,6))\n",
        "sns.heatmap(cleaned.corr(), annot=True, ax=ax);"
      ],
      "execution_count": null,
      "outputs": [
        {
          "output_type": "display_data",
          "data": {
            "image/png": "[encoded data removed]",
            "text/plain": [
              "<Figure size 720x432 with 2 Axes>"
            ]
          },
          "metadata": {
            "tags": []
          }
        }
      ]
    },
    {
      "cell_type": "markdown",
      "metadata": {
        "id": "0fWCFid7x4vc",
        "colab_type": "text"
      },
      "source": [
        "we see that generally the numerical variables shows moderate to strong positive and negative correlation among each other. some have week negative correlation e.g T4U to FTI and age to TT4. let's explore this further by plotting pair plots below."
      ]
    },
    {
      "cell_type": "markdown",
      "metadata": {
        "id": "f-pzts3O3xNP",
        "colab_type": "text"
      },
      "source": [
        "#### Pairplots"
      ]
    },
    {
      "cell_type": "code",
      "metadata": {
        "id": "6vFtCnzJxprL",
        "colab_type": "code",
        "colab": {
          "base_uri": "https://localhost:8080/",
          "height": 907
        },
        "outputId": "0a0dfbe7-9b72-4758-a587-bb37476ff35d"
      },
      "source": [
        "sns.pairplot(cleaned, corner=True, aspect=0.8, height=2)\n",
        "# sns.pairplot(numerical_df, corner = True)"
      ],
      "execution_count": null,
      "outputs": [
        {
          "output_type": "execute_result",
          "data": {
            "text/plain": [
              "<seaborn.axisgrid.PairGrid at 0x7f65d50e7550>"
            ]
          },
          "metadata": {
            "tags": []
          },
          "execution_count": 74
        },
        {
          "output_type": "display_data",
          "data": {
            "image/png": "[encoded data removed]",
            "text/plain": [
              "<Figure size 691.2x864 with 27 Axes>"
            ]
          },
          "metadata": {
            "tags": []
          }
        }
      ]
    },
    {
      "cell_type": "markdown",
      "metadata": {
        "id": "FbZVtlUZzmC4",
        "colab_type": "text"
      },
      "source": [
        "TT4 and FTI are the only variables that shows a clear linear correlation between each other\n",
        "\n",
        "Age to other variables shows week correlations"
      ]
    },
    {
      "cell_type": "markdown",
      "metadata": {
        "id": "fh_FRauj3bEY",
        "colab_type": "text"
      },
      "source": [
        "#### Barcharts comparing the target with features variables"
      ]
    },
    {
      "cell_type": "code",
      "metadata": {
        "id": "yxFFHVmL18HK",
        "colab_type": "code",
        "colab": {
          "base_uri": "https://localhost:8080/",
          "height": 307
        },
        "outputId": "f95bdef4-ad22-4595-ae72-ebaf52ff1b3d"
      },
      "source": [
        "pd.crosstab(cleaned['status'], cleaned['sex']).plot(kind='bar', rot=0, fontsize=12)\n",
        "\n",
        "# the chart shows that more female have hypothyroid compared to male\n",
        "# we also see that more female tested negative\n",
        "# this observations are not surprising because earlier we had seen that more females participated in this study than males"
      ],
      "execution_count": null,
      "outputs": [
        {
          "output_type": "execute_result",
          "data": {
            "text/plain": [
              "<matplotlib.axes._subplots.AxesSubplot at 0x7f65cff21c88>"
            ]
          },
          "metadata": {
            "tags": []
          },
          "execution_count": 75
        },
        {
          "output_type": "display_data",
          "data": {
            "image/png": "[encoded data removed]",
            "text/plain": [
              "<Figure size 432x288 with 1 Axes>"
            ]
          },
          "metadata": {
            "tags": []
          }
        }
      ]
    },
    {
      "cell_type": "code",
      "metadata": {
        "id": "LvCxBt6l4qcB",
        "colab_type": "code",
        "colab": {
          "base_uri": "https://localhost:8080/",
          "height": 307
        },
        "outputId": "0d6eda46-3934-4e63-df9c-3e9d24c22f9c"
      },
      "source": [
        "pd.crosstab(cleaned['status'], cleaned['on_thyroxine']).plot(kind='bar', rot=0, fontsize=12)\n",
        "\n",
        "# only males who test negative are on thyroxine"
      ],
      "execution_count": null,
      "outputs": [
        {
          "output_type": "execute_result",
          "data": {
            "text/plain": [
              "<matplotlib.axes._subplots.AxesSubplot at 0x7f65cfb6cf60>"
            ]
          },
          "metadata": {
            "tags": []
          },
          "execution_count": 76
        },
        {
          "output_type": "display_data",
          "data": {
            "image/png": "[encoded data removed]",
            "text/plain": [
              "<Figure size 432x288 with 1 Axes>"
            ]
          },
          "metadata": {
            "tags": []
          }
        }
      ]
    },
    {
      "cell_type": "code",
      "metadata": {
        "id": "e4OrFT5o51Qz",
        "colab_type": "code",
        "colab": {
          "base_uri": "https://localhost:8080/",
          "height": 307
        },
        "outputId": "88cab1e6-bea9-4c6f-e0f7-caef00582f82"
      },
      "source": [
        "pd.crosstab(cleaned['status'], cleaned['on_antithyroid_medication']).plot(kind='bar', rot=0, fontsize=12)\n",
        "# a few males who test negative are on antithyroid medication"
      ],
      "execution_count": null,
      "outputs": [
        {
          "output_type": "execute_result",
          "data": {
            "text/plain": [
              "<matplotlib.axes._subplots.AxesSubplot at 0x7f65d1e88550>"
            ]
          },
          "metadata": {
            "tags": []
          },
          "execution_count": 77
        },
        {
          "output_type": "display_data",
          "data": {
            "image/png": "[encoded data removed]",
            "text/plain": [
              "<Figure size 432x288 with 1 Axes>"
            ]
          },
          "metadata": {
            "tags": []
          }
        }
      ]
    },
    {
      "cell_type": "code",
      "metadata": {
        "id": "YhBiQf-K6wMD",
        "colab_type": "code",
        "colab": {
          "base_uri": "https://localhost:8080/",
          "height": 307
        },
        "outputId": "4ccc7f19-c0ce-4245-8572-d05e4d973ff5"
      },
      "source": [
        "pd.crosstab(cleaned['status'], cleaned['thyroid_surgery']).plot(kind='bar', rot=0, fontsize=12)\n",
        "\n",
        "# a few patients that tested negative have had a thyroid surgery"
      ],
      "execution_count": null,
      "outputs": [
        {
          "output_type": "execute_result",
          "data": {
            "text/plain": [
              "<matplotlib.axes._subplots.AxesSubplot at 0x7f65d4bc3860>"
            ]
          },
          "metadata": {
            "tags": []
          },
          "execution_count": 78
        },
        {
          "output_type": "display_data",
          "data": {
            "image/png": "[encoded data removed]",
            "text/plain": [
              "<Figure size 432x288 with 1 Axes>"
            ]
          },
          "metadata": {
            "tags": []
          }
        }
      ]
    },
    {
      "cell_type": "code",
      "metadata": {
        "id": "wn1QIMnq6-ji",
        "colab_type": "code",
        "colab": {
          "base_uri": "https://localhost:8080/",
          "height": 307
        },
        "outputId": "b4d64253-66a7-4f4d-bf05-afeb4f784f6e"
      },
      "source": [
        "pd.crosstab(cleaned['status'], cleaned['pregnant']).plot(kind='bar', rot=0, fontsize=12)\n",
        "# a few patients who tested negative are pregnant"
      ],
      "execution_count": null,
      "outputs": [
        {
          "output_type": "execute_result",
          "data": {
            "text/plain": [
              "<matplotlib.axes._subplots.AxesSubplot at 0x7f65d0273550>"
            ]
          },
          "metadata": {
            "tags": []
          },
          "execution_count": 79
        },
        {
          "output_type": "display_data",
          "data": {
            "image/png": "[encoded data removed]",
            "text/plain": [
              "<Figure size 432x288 with 1 Axes>"
            ]
          },
          "metadata": {
            "tags": []
          }
        }
      ]
    },
    {
      "cell_type": "code",
      "metadata": {
        "id": "lix7YC4J7Nk0",
        "colab_type": "code",
        "colab": {
          "base_uri": "https://localhost:8080/",
          "height": 307
        },
        "outputId": "c88540d3-4c5e-40d5-a959-c016b575b219"
      },
      "source": [
        "pd.crosstab(cleaned['status'], cleaned['sick']).plot(kind='bar', rot=0, fontsize=12)\n",
        "\n",
        "# some patients who tested negative are sick"
      ],
      "execution_count": null,
      "outputs": [
        {
          "output_type": "execute_result",
          "data": {
            "text/plain": [
              "<matplotlib.axes._subplots.AxesSubplot at 0x7f65cfb12470>"
            ]
          },
          "metadata": {
            "tags": []
          },
          "execution_count": 80
        },
        {
          "output_type": "display_data",
          "data": {
            "image/png": "[encoded data removed]",
            "text/plain": [
              "<Figure size 432x288 with 1 Axes>"
            ]
          },
          "metadata": {
            "tags": []
          }
        }
      ]
    },
    {
      "cell_type": "code",
      "metadata": {
        "id": "VcqNcoBT7XW9",
        "colab_type": "code",
        "colab": {
          "base_uri": "https://localhost:8080/",
          "height": 307
        },
        "outputId": "6ae7276f-6386-4f16-db68-01081bf2d077"
      },
      "source": [
        "pd.crosstab(cleaned['status'], cleaned['tumor']).plot(kind='bar', rot=0, fontsize=12)\n",
        "\n",
        "# a small number of patients who tested negative have a tumor as shown in the graph"
      ],
      "execution_count": null,
      "outputs": [
        {
          "output_type": "execute_result",
          "data": {
            "text/plain": [
              "<matplotlib.axes._subplots.AxesSubplot at 0x7f65cfb5cba8>"
            ]
          },
          "metadata": {
            "tags": []
          },
          "execution_count": 81
        },
        {
          "output_type": "display_data",
          "data": {
            "image/png": "[encoded data removed]",
            "text/plain": [
              "<Figure size 432x288 with 1 Axes>"
            ]
          },
          "metadata": {
            "tags": []
          }
        }
      ]
    },
    {
      "cell_type": "code",
      "metadata": {
        "id": "Ylr5_Vzx7lmQ",
        "colab_type": "code",
        "colab": {
          "base_uri": "https://localhost:8080/",
          "height": 307
        },
        "outputId": "82b46694-08b3-4df6-e8a1-a99a4556772a"
      },
      "source": [
        "pd.crosstab(cleaned['status'], cleaned['lithium']).plot(kind='bar', rot=0, fontsize=12)\n",
        "\n",
        "# no patient who tested for hypothyroid or negative uses lithium"
      ],
      "execution_count": null,
      "outputs": [
        {
          "output_type": "execute_result",
          "data": {
            "text/plain": [
              "<matplotlib.axes._subplots.AxesSubplot at 0x7f65d02a4940>"
            ]
          },
          "metadata": {
            "tags": []
          },
          "execution_count": 82
        },
        {
          "output_type": "display_data",
          "data": {
            "image/png": "[encoded data removed]",
            "text/plain": [
              "<Figure size 432x288 with 1 Axes>"
            ]
          },
          "metadata": {
            "tags": []
          }
        }
      ]
    },
    {
      "cell_type": "code",
      "metadata": {
        "id": "gjCc1KkT72zI",
        "colab_type": "code",
        "colab": {
          "base_uri": "https://localhost:8080/",
          "height": 307
        },
        "outputId": "e2652b48-3d32-4759-f6fa-e412ca144784"
      },
      "source": [
        "pd.crosstab(cleaned['status'], cleaned['goitre']).plot(kind='bar', rot=0, fontsize=12)\n",
        "\n",
        "# a few patients who tested negative have goitre"
      ],
      "execution_count": null,
      "outputs": [
        {
          "output_type": "execute_result",
          "data": {
            "text/plain": [
              "<matplotlib.axes._subplots.AxesSubplot at 0x7f65cfa00358>"
            ]
          },
          "metadata": {
            "tags": []
          },
          "execution_count": 83
        },
        {
          "output_type": "display_data",
          "data": {
            "image/png": "[encoded data removed]",
            "text/plain": [
              "<Figure size 432x288 with 1 Axes>"
            ]
          },
          "metadata": {
            "tags": []
          }
        }
      ]
    },
    {
      "cell_type": "markdown",
      "metadata": {
        "id": "onVmT5Qh-Dsa",
        "colab_type": "text"
      },
      "source": [
        "## Implementing the solution"
      ]
    },
    {
      "cell_type": "markdown",
      "metadata": {
        "id": "hYjbZtVoXCkk",
        "colab_type": "text"
      },
      "source": [
        "### Decision trees"
      ]
    },
    {
      "cell_type": "markdown",
      "metadata": {
        "id": "Y54gZgH0a1Zv",
        "colab_type": "text"
      },
      "source": [
        "#### Data preprocessing before modeling"
      ]
    },
    {
      "cell_type": "code",
      "metadata": {
        "id": "aaek1TK6a82K",
        "colab_type": "code",
        "colab": {}
      },
      "source": [
        "# we know that most of the categorical columns are in string format,\n",
        "# so we need to be encode the data to numerical before we begin modeling\n",
        "# we will use label encoding (.cat.codes)\n",
        "\n",
        "cleaned['status'] = cleaned['status'].cat.codes\n",
        "cleaned['sex'] = cleaned['sex'].cat.codes\n",
        "cleaned['on_thyroxine'] = cleaned['on_thyroxine'].cat.codes\n",
        "cleaned['query_on_thyroxine'] = cleaned['query_on_thyroxine'].cat.codes\n",
        "cleaned['on_antithyroid_medication'] = cleaned['on_antithyroid_medication'].cat.codes\n",
        "cleaned['thyroid_surgery'] = cleaned['thyroid_surgery'].cat.codes\n",
        "cleaned['query_hypothyroid'] = cleaned['query_hypothyroid'].cat.codes\n",
        "cleaned['query_hyperthyroid'] = cleaned['query_hyperthyroid'].cat.codes\n",
        "cleaned['pregnant'] = cleaned['pregnant'].cat.codes\n",
        "\n",
        "cleaned['sick'] = cleaned['sick'].cat.codes\n",
        "cleaned['tumor'] = cleaned['tumor'].cat.codes\n",
        "cleaned['lithium'] = cleaned['lithium'].cat.codes\n",
        "cleaned['goitre'] = cleaned['goitre'].cat.codes\n",
        "cleaned['TSH_measured'] = cleaned['TSH_measured'].cat.codes\n",
        "cleaned['T3_measured'] = cleaned['T3_measured'].cat.codes\n",
        "cleaned['TT4_measured'] = cleaned['TT4_measured'].cat.codes\n",
        "cleaned['T4U_measured'] = cleaned['T4U_measured'].cat.codes\n",
        "cleaned['FTI_measured'] = cleaned['FTI_measured'].cat.codes\n"
      ],
      "execution_count": null,
      "outputs": []
    },
    {
      "cell_type": "code",
      "metadata": {
        "id": "NaYuAFAWh6RX",
        "colab_type": "code",
        "colab": {
          "base_uri": "https://localhost:8080/",
          "height": 457
        },
        "outputId": "8a4b0e4a-e674-47bf-ac6b-b601a367319a"
      },
      "source": [
        "# checking for data types. \n",
        "cleaned.dtypes\n",
        "\n",
        "# we see that the categorical columns have been converted to integers but as int8 and not int 64. let's fix that"
      ],
      "execution_count": null,
      "outputs": [
        {
          "output_type": "execute_result",
          "data": {
            "text/plain": [
              "status                          int8\n",
              "age                            int64\n",
              "sex                             int8\n",
              "on_thyroxine                    int8\n",
              "query_on_thyroxine              int8\n",
              "on_antithyroid_medication       int8\n",
              "thyroid_surgery                 int8\n",
              "query_hypothyroid               int8\n",
              "query_hyperthyroid              int8\n",
              "pregnant                        int8\n",
              "sick                            int8\n",
              "tumor                           int8\n",
              "lithium                         int8\n",
              "goitre                          int8\n",
              "TSH_measured                    int8\n",
              "TSH                          float64\n",
              "T3_measured                     int8\n",
              "T3                           float64\n",
              "TT4_measured                    int8\n",
              "TT4                            int64\n",
              "T4U_measured                    int8\n",
              "T4U                          float64\n",
              "FTI_measured                    int8\n",
              "FTI                          float64\n",
              "dtype: object"
            ]
          },
          "metadata": {
            "tags": []
          },
          "execution_count": 85
        }
      ]
    },
    {
      "cell_type": "code",
      "metadata": {
        "id": "qgT2Te51mB5u",
        "colab_type": "code",
        "colab": {}
      },
      "source": [
        "# converting int8 to int64\n",
        "\n",
        "cleaned['status'] = cleaned['status'].astype('int64')\n",
        "cleaned['sex'] = cleaned['sex'].astype('int64')\n",
        "cleaned['on_thyroxine'] = cleaned['on_thyroxine'].astype('int64')\n",
        "cleaned['query_on_thyroxine'] = cleaned['query_on_thyroxine'].astype('int64')\n",
        "cleaned['on_antithyroid_medication'] = cleaned['on_antithyroid_medication'].astype('int64')\n",
        "cleaned['thyroid_surgery'] = cleaned['thyroid_surgery'].astype('int64')\n",
        "cleaned['query_hypothyroid'] = cleaned['query_hypothyroid'].astype('int64')\n",
        "cleaned['query_hyperthyroid'] = cleaned['query_hyperthyroid'].astype('int64')\n",
        "cleaned['pregnant'] = cleaned['pregnant'].astype('int64')\n",
        "\n",
        "cleaned['sick'] = cleaned['sick'].astype('int64')\n",
        "cleaned['tumor'] = cleaned['tumor'].astype('int64')\n",
        "cleaned['lithium'] = cleaned['lithium'].astype('int64')\n",
        "cleaned['goitre'] = cleaned['goitre'].astype('int64')\n",
        "cleaned['TSH_measured'] = cleaned['TSH_measured'].astype('int64')\n",
        "cleaned['T3_measured'] = cleaned['T3_measured'].astype('int64')\n",
        "cleaned['TT4_measured'] = cleaned['TT4_measured'].astype('int64')\n",
        "cleaned['T4U_measured'] = cleaned['T4U_measured'].astype('int64')\n",
        "cleaned['FTI_measured'] = cleaned['FTI_measured'].astype('int64')"
      ],
      "execution_count": null,
      "outputs": []
    },
    {
      "cell_type": "code",
      "metadata": {
        "id": "oYRHwqxWnA4v",
        "colab_type": "code",
        "colab": {
          "base_uri": "https://localhost:8080/",
          "height": 457
        },
        "outputId": "c09af0b5-a8c8-4d78-d6ba-11f137bf11f9"
      },
      "source": [
        "# confirming that all the data is in the right format before we begin analysis\n",
        "cleaned.dtypes"
      ],
      "execution_count": null,
      "outputs": [
        {
          "output_type": "execute_result",
          "data": {
            "text/plain": [
              "status                         int64\n",
              "age                            int64\n",
              "sex                            int64\n",
              "on_thyroxine                   int64\n",
              "query_on_thyroxine             int64\n",
              "on_antithyroid_medication      int64\n",
              "thyroid_surgery                int64\n",
              "query_hypothyroid              int64\n",
              "query_hyperthyroid             int64\n",
              "pregnant                       int64\n",
              "sick                           int64\n",
              "tumor                          int64\n",
              "lithium                        int64\n",
              "goitre                         int64\n",
              "TSH_measured                   int64\n",
              "TSH                          float64\n",
              "T3_measured                    int64\n",
              "T3                           float64\n",
              "TT4_measured                   int64\n",
              "TT4                            int64\n",
              "T4U_measured                   int64\n",
              "T4U                          float64\n",
              "FTI_measured                   int64\n",
              "FTI                          float64\n",
              "dtype: object"
            ]
          },
          "metadata": {
            "tags": []
          },
          "execution_count": 87
        }
      ]
    },
    {
      "cell_type": "code",
      "metadata": {
        "id": "qfl-B8QRnOHT",
        "colab_type": "code",
        "colab": {
          "base_uri": "https://localhost:8080/",
          "height": 223
        },
        "outputId": "17b0a30e-699e-47a2-a0fc-092fdfb91167"
      },
      "source": [
        "cleaned.head()"
      ],
      "execution_count": null,
      "outputs": [
        {
          "output_type": "execute_result",
          "data": {
            "text/html": [
              "<div>\n",
              "<style scoped>\n",
              "    .dataframe tbody tr th:only-of-type {\n",
              "        vertical-align: middle;\n",
              "    }\n",
              "\n",
              "    .dataframe tbody tr th {\n",
              "        vertical-align: top;\n",
              "    }\n",
              "\n",
              "    .dataframe thead th {\n",
              "        text-align: right;\n",
              "    }\n",
              "</style>\n",
              "<table border=\"1\" class=\"dataframe\">\n",
              "  <thead>\n",
              "    <tr style=\"text-align: right;\">\n",
              "      <th></th>\n",
              "      <th>status</th>\n",
              "      <th>age</th>\n",
              "      <th>sex</th>\n",
              "      <th>on_thyroxine</th>\n",
              "      <th>query_on_thyroxine</th>\n",
              "      <th>on_antithyroid_medication</th>\n",
              "      <th>thyroid_surgery</th>\n",
              "      <th>query_hypothyroid</th>\n",
              "      <th>query_hyperthyroid</th>\n",
              "      <th>pregnant</th>\n",
              "      <th>sick</th>\n",
              "      <th>tumor</th>\n",
              "      <th>lithium</th>\n",
              "      <th>goitre</th>\n",
              "      <th>TSH_measured</th>\n",
              "      <th>TSH</th>\n",
              "      <th>T3_measured</th>\n",
              "      <th>T3</th>\n",
              "      <th>TT4_measured</th>\n",
              "      <th>TT4</th>\n",
              "      <th>T4U_measured</th>\n",
              "      <th>T4U</th>\n",
              "      <th>FTI_measured</th>\n",
              "      <th>FTI</th>\n",
              "    </tr>\n",
              "  </thead>\n",
              "  <tbody>\n",
              "    <tr>\n",
              "      <th>0</th>\n",
              "      <td>0</td>\n",
              "      <td>72</td>\n",
              "      <td>2</td>\n",
              "      <td>0</td>\n",
              "      <td>0</td>\n",
              "      <td>0</td>\n",
              "      <td>0</td>\n",
              "      <td>0</td>\n",
              "      <td>0</td>\n",
              "      <td>0</td>\n",
              "      <td>0</td>\n",
              "      <td>0</td>\n",
              "      <td>0</td>\n",
              "      <td>0</td>\n",
              "      <td>1</td>\n",
              "      <td>30.0</td>\n",
              "      <td>1</td>\n",
              "      <td>0.6</td>\n",
              "      <td>1</td>\n",
              "      <td>15</td>\n",
              "      <td>1</td>\n",
              "      <td>1.48</td>\n",
              "      <td>1</td>\n",
              "      <td>10.0</td>\n",
              "    </tr>\n",
              "    <tr>\n",
              "      <th>1</th>\n",
              "      <td>0</td>\n",
              "      <td>15</td>\n",
              "      <td>1</td>\n",
              "      <td>1</td>\n",
              "      <td>0</td>\n",
              "      <td>0</td>\n",
              "      <td>0</td>\n",
              "      <td>0</td>\n",
              "      <td>0</td>\n",
              "      <td>0</td>\n",
              "      <td>0</td>\n",
              "      <td>0</td>\n",
              "      <td>0</td>\n",
              "      <td>0</td>\n",
              "      <td>1</td>\n",
              "      <td>145.0</td>\n",
              "      <td>1</td>\n",
              "      <td>1.7</td>\n",
              "      <td>1</td>\n",
              "      <td>19</td>\n",
              "      <td>1</td>\n",
              "      <td>1.13</td>\n",
              "      <td>1</td>\n",
              "      <td>17.0</td>\n",
              "    </tr>\n",
              "    <tr>\n",
              "      <th>2</th>\n",
              "      <td>0</td>\n",
              "      <td>24</td>\n",
              "      <td>2</td>\n",
              "      <td>0</td>\n",
              "      <td>0</td>\n",
              "      <td>0</td>\n",
              "      <td>0</td>\n",
              "      <td>0</td>\n",
              "      <td>0</td>\n",
              "      <td>0</td>\n",
              "      <td>0</td>\n",
              "      <td>0</td>\n",
              "      <td>0</td>\n",
              "      <td>0</td>\n",
              "      <td>1</td>\n",
              "      <td>0.0</td>\n",
              "      <td>1</td>\n",
              "      <td>0.2</td>\n",
              "      <td>1</td>\n",
              "      <td>4</td>\n",
              "      <td>1</td>\n",
              "      <td>1.00</td>\n",
              "      <td>1</td>\n",
              "      <td>0.0</td>\n",
              "    </tr>\n",
              "    <tr>\n",
              "      <th>4</th>\n",
              "      <td>0</td>\n",
              "      <td>77</td>\n",
              "      <td>2</td>\n",
              "      <td>0</td>\n",
              "      <td>0</td>\n",
              "      <td>0</td>\n",
              "      <td>0</td>\n",
              "      <td>0</td>\n",
              "      <td>0</td>\n",
              "      <td>0</td>\n",
              "      <td>0</td>\n",
              "      <td>0</td>\n",
              "      <td>0</td>\n",
              "      <td>0</td>\n",
              "      <td>1</td>\n",
              "      <td>7.3</td>\n",
              "      <td>1</td>\n",
              "      <td>1.2</td>\n",
              "      <td>1</td>\n",
              "      <td>57</td>\n",
              "      <td>1</td>\n",
              "      <td>1.28</td>\n",
              "      <td>1</td>\n",
              "      <td>44.0</td>\n",
              "    </tr>\n",
              "    <tr>\n",
              "      <th>5</th>\n",
              "      <td>0</td>\n",
              "      <td>85</td>\n",
              "      <td>1</td>\n",
              "      <td>0</td>\n",
              "      <td>0</td>\n",
              "      <td>0</td>\n",
              "      <td>0</td>\n",
              "      <td>1</td>\n",
              "      <td>0</td>\n",
              "      <td>0</td>\n",
              "      <td>0</td>\n",
              "      <td>0</td>\n",
              "      <td>0</td>\n",
              "      <td>0</td>\n",
              "      <td>1</td>\n",
              "      <td>138.0</td>\n",
              "      <td>1</td>\n",
              "      <td>1.1</td>\n",
              "      <td>1</td>\n",
              "      <td>27</td>\n",
              "      <td>1</td>\n",
              "      <td>1.19</td>\n",
              "      <td>1</td>\n",
              "      <td>23.0</td>\n",
              "    </tr>\n",
              "  </tbody>\n",
              "</table>\n",
              "</div>"
            ],
            "text/plain": [
              "   status  age  sex  on_thyroxine  ...  T4U_measured   T4U  FTI_measured   FTI\n",
              "0       0   72    2             0  ...             1  1.48             1  10.0\n",
              "1       0   15    1             1  ...             1  1.13             1  17.0\n",
              "2       0   24    2             0  ...             1  1.00             1   0.0\n",
              "4       0   77    2             0  ...             1  1.28             1  44.0\n",
              "5       0   85    1             0  ...             1  1.19             1  23.0\n",
              "\n",
              "[5 rows x 24 columns]"
            ]
          },
          "metadata": {
            "tags": []
          },
          "execution_count": 88
        }
      ]
    },
    {
      "cell_type": "markdown",
      "metadata": {
        "id": "xouis4W7XFNQ",
        "colab_type": "text"
      },
      "source": [
        "#### Random forest"
      ]
    },
    {
      "cell_type": "code",
      "metadata": {
        "id": "dTR_BXatXPXL",
        "colab_type": "code",
        "colab": {
          "base_uri": "https://localhost:8080/",
          "height": 228
        },
        "outputId": "00b86018-45e6-403c-d795-1c910cb2be98"
      },
      "source": [
        "# splitting data into features and label\n",
        "\n",
        "features = ['age', 'sex', 'on_thyroxine', 'query_on_thyroxine',\n",
        "       'on_antithyroid_medication', 'thyroid_surgery', 'query_hypothyroid',\n",
        "       'query_hyperthyroid', 'pregnant', 'sick', 'tumor', 'lithium', 'goitre',\n",
        "       'TSH_measured', 'TSH', 'T3_measured', 'T3', 'TT4_measured', 'TT4',\n",
        "       'T4U_measured', 'T4U', 'FTI_measured', 'FTI']\n",
        "X = cleaned[features].values\n",
        "y = cleaned['status'].values\n",
        "# training data using 80% of our data\n",
        "X_train, X_test, y_train, y_test = train_test_split(X,y, test_size = 0.2, random_state=0)\n",
        "\n",
        "# assigning number of trees to use to a variable\n",
        "target_number_of_trees =100\n",
        "# fitting to random forest classifier\n",
        "forest = RandomForestClassifier(n_estimators = target_number_of_trees, random_state=42, min_samples_split =20, max_depth=5)\n",
        "forest = forest.fit(X_train, y_train)\n",
        "\n",
        "# making prediction using the model that we have trained\n",
        "\n",
        "status_predict = forest.predict(X_test)\n",
        "comparison = pd.DataFrame({'Actual': y_test.flatten(), 'Prediction': status_predict.flatten()})\n",
        "print(comparison.describe())\n",
        "\n",
        "# evaluating the model using the accuracy score and confusion matrix\n",
        "print('Accuracy score for this random forest where we used 100 trees, max_depth of 5 and min samples split of 20 =', \n",
        "      metrics.accuracy_score(y_test, status_predict) * 100)\n",
        "# using confusion matrix\n",
        "\n",
        "confusion_matrix = confusion_matrix(y_test, status_predict)\n",
        "confusion_matrix\n"
      ],
      "execution_count": null,
      "outputs": [
        {
          "output_type": "stream",
          "text": [
            "           Actual  Prediction\n",
            "count  400.000000  400.000000\n",
            "mean     0.922500    0.930000\n",
            "std      0.267718    0.255467\n",
            "min      0.000000    0.000000\n",
            "25%      1.000000    1.000000\n",
            "50%      1.000000    1.000000\n",
            "75%      1.000000    1.000000\n",
            "max      1.000000    1.000000\n",
            "Accuracy score for this random forest where we used 100 trees, max_depth of 5 and min samples split of 20 = 97.75\n"
          ],
          "name": "stdout"
        },
        {
          "output_type": "execute_result",
          "data": {
            "text/plain": [
              "array([[ 25,   6],\n",
              "       [  3, 366]])"
            ]
          },
          "metadata": {
            "tags": []
          },
          "execution_count": 89
        }
      ]
    },
    {
      "cell_type": "markdown",
      "metadata": {
        "id": "LMEIwa69srgx",
        "colab_type": "text"
      },
      "source": [
        "Achieveing an accuracy of 97.75% is pretty good, but is the accuracy too high to indicate overfitting?"
      ]
    },
    {
      "cell_type": "markdown",
      "metadata": {
        "id": "7L44qdq_w4p9",
        "colab_type": "text"
      },
      "source": [
        "##### hyperparameter tuning of random forest"
      ]
    },
    {
      "cell_type": "code",
      "metadata": {
        "id": "Rcsws_FOw_oL",
        "colab_type": "code",
        "colab": {
          "base_uri": "https://localhost:8080/",
          "height": 193
        },
        "outputId": "6b141747-6c46-4978-e4e7-e14c491c1040"
      },
      "source": [
        "# we will hyperparameter tune this model by changing the number of trees from 100 to 200,\n",
        "# max_depth at 4\n",
        "# and also change the number of trees from 200 to 300, with max depth of 5\n",
        "\n",
        "X = cleaned[features].values\n",
        "y = cleaned['status'].values\n",
        "# training data using 80% of our data\n",
        "X_train, X_test, y_train, y_test = train_test_split(X,y, test_size = 0.2, random_state=0)\n",
        "\n",
        "# assigning number of trees to use to a variable\n",
        "target_number_of_trees =50\n",
        "# fitting to random forest classifier\n",
        "forest = RandomForestClassifier(n_estimators = target_number_of_trees, random_state=42, min_samples_split =20, max_depth=4)\n",
        "forest = forest.fit(X_train, y_train)\n",
        "\n",
        "# making prediction using the model that we have trained\n",
        "\n",
        "status_predict = forest.predict(X_test)\n",
        "comparison = pd.DataFrame({'Actual': y_test.flatten(), 'Prediction': status_predict.flatten()})\n",
        "print(comparison.describe())\n",
        "\n",
        "# evaluating the model using the accuracy score\n",
        "print('Accuracy score for this random forest where we used 300 trees, max_depth of 5 and min samples split of 20 =', \n",
        "      metrics.accuracy_score(y_test, status_predict) * 100)\n"
      ],
      "execution_count": null,
      "outputs": [
        {
          "output_type": "stream",
          "text": [
            "           Actual  Prediction\n",
            "count  400.000000  400.000000\n",
            "mean     0.922500    0.937500\n",
            "std      0.267718    0.242365\n",
            "min      0.000000    0.000000\n",
            "25%      1.000000    1.000000\n",
            "50%      1.000000    1.000000\n",
            "75%      1.000000    1.000000\n",
            "max      1.000000    1.000000\n",
            "Accuracy score for this random forest where we used 300 trees, max_depth of 5 and min samples split of 20 = 98.0\n"
          ],
          "name": "stdout"
        }
      ]
    },
    {
      "cell_type": "markdown",
      "metadata": {
        "id": "S9oAOGZdyvzy",
        "colab_type": "text"
      },
      "source": [
        "Tuning the model with 200 trees and max depth of 4, the accuracy remained at 97.75%, \n",
        "but then when the trees were increased to 300 and a max depth of 5 the accuracy increased to 98%, a 0.25 % increases\n",
        "\n",
        "@ 50 trees and max depth of 4 the accuracy is at 98.0 percent"
      ]
    },
    {
      "cell_type": "markdown",
      "metadata": {
        "id": "n-rtCYDItafk",
        "colab_type": "text"
      },
      "source": [
        "#### Gradient Boosting classifier"
      ]
    },
    {
      "cell_type": "code",
      "metadata": {
        "id": "kONvZHFts8XL",
        "colab_type": "code",
        "colab": {
          "base_uri": "https://localhost:8080/",
          "height": 193
        },
        "outputId": "20efec08-7841-43b9-a221-d483072c4ac8"
      },
      "source": [
        "# splitting data into features and label\n",
        "\n",
        "gradient_features = ['age', 'sex', 'on_thyroxine', 'query_on_thyroxine',\n",
        "       'on_antithyroid_medication', 'thyroid_surgery', 'query_hypothyroid',\n",
        "       'query_hyperthyroid', 'pregnant', 'sick', 'tumor', 'lithium', 'goitre',\n",
        "       'TSH_measured', 'TSH', 'T3_measured', 'T3', 'TT4_measured', 'TT4',\n",
        "       'T4U_measured', 'T4U', 'FTI_measured', 'FTI']\n",
        "X = cleaned[gradient_features].values\n",
        "y = cleaned['status'].values\n",
        "# training data using 80% of our data\n",
        "X_train, X_test, y_train, y_test = train_test_split(X,y, test_size = 0.2, random_state=0)\n",
        "\n",
        "# assigning number of trees to use to a variable\n",
        "target_number_of_trees =100\n",
        "# creating a gradient booster classifier and fitting the model to our data\n",
        "status_gbc = GradientBoostingClassifier(n_estimators = target_number_of_trees, learning_rate = 0.1, max_depth=5, warm_start = True)\n",
        "status_gbc = status_gbc.fit(X_train, y_train)\n",
        "\n",
        "# making prediction using the model that we have trained\n",
        "\n",
        "status_gbc_predict = status_gbc.predict(X_test)\n",
        "comparison = pd.DataFrame({'Actual': y_test.flatten(), 'Prediction': status_gbc_predict.flatten()})\n",
        "print(comparison.describe())\n",
        "\n",
        "# evaluating the model using the accuracy score and confusion matrix\n",
        "print('Accuracy score for this gradient boosting classifier where we used 100 trees, max_depth of 5 and learning rate of 0.1 =', \n",
        "      metrics.accuracy_score(y_test, status_gbc_predict) * 100,'%')\n",
        "# using confusion matrix\n"
      ],
      "execution_count": null,
      "outputs": [
        {
          "output_type": "stream",
          "text": [
            "           Actual  Prediction\n",
            "count  400.000000  400.000000\n",
            "mean     0.922500    0.915000\n",
            "std      0.267718    0.279231\n",
            "min      0.000000    0.000000\n",
            "25%      1.000000    1.000000\n",
            "50%      1.000000    1.000000\n",
            "75%      1.000000    1.000000\n",
            "max      1.000000    1.000000\n",
            "Accuracy score for this gradient boosting classifier where we used 100 trees, max_depth of 5 and learning rate of 0.1 = 98.25 %\n"
          ],
          "name": "stdout"
        }
      ]
    },
    {
      "cell_type": "markdown",
      "metadata": {
        "id": "zlHPGA2BwEAp",
        "colab_type": "text"
      },
      "source": [
        "Comparing the accuracy score of gradient boosting classifier with random \n",
        "forest, the accuracy score of gradient boosting model has improved by 0.25%.\n"
      ]
    },
    {
      "cell_type": "markdown",
      "metadata": {
        "id": "Z6cFwAi7zFM5",
        "colab_type": "text"
      },
      "source": [
        "##### hyperparameter tuning of gradient boosting classifier"
      ]
    },
    {
      "cell_type": "code",
      "metadata": {
        "id": "55X9gTZ6zDOY",
        "colab_type": "code",
        "colab": {
          "base_uri": "https://localhost:8080/",
          "height": 193
        },
        "outputId": "c807aa44-c91e-4f6b-a95e-fd9b7acd2707"
      },
      "source": [
        "# we will hyperparameter tune this model by 1. changing the number of trees from 100 to 50,\n",
        "# max_depth at 5 and icrease the learning rate to 0.5\n",
        "# 2. changing the number of trees from 100 to 50, max_depth at 4 and icrease the learning rate to 0.5\n",
        "# and also change the number of trees from 100 to 300, with max depth of 4 and learning rate of 0.7\n",
        "X = cleaned[gradient_features].values\n",
        "y = cleaned['status'].values\n",
        "# training data using 80% of our data\n",
        "X_train, X_test, y_train, y_test = train_test_split(X,y, test_size = 0.2, random_state=0)\n",
        "\n",
        "# assigning number of trees to use to a variable\n",
        "target_number_of_trees =50\n",
        "# creating a gradient booster classifier and fitting the model to our data\n",
        "status_gbc = GradientBoostingClassifier(n_estimators = target_number_of_trees, learning_rate = 0.1, max_depth=4, warm_start = True)\n",
        "status_gbc = status_gbc.fit(X_train, y_train)\n",
        "\n",
        "# making prediction using the model that we have trained\n",
        "\n",
        "status_gbc_predict = status_gbc.predict(X_test)\n",
        "comparison = pd.DataFrame({'Actual': y_test.flatten(), 'Prediction': status_gbc_predict.flatten()})\n",
        "print(comparison.describe())\n",
        "\n",
        "# evaluating the model using the accuracy score and confusion matrix\n",
        "print('Accuracy score for this gradient boosting classifier where we used 50 trees, max_depth of 4 and learning rate of 0.1 =', \n",
        "      metrics.accuracy_score(y_test, status_gbc_predict) * 100,'%')\n",
        "# using confusion matrix"
      ],
      "execution_count": null,
      "outputs": [
        {
          "output_type": "stream",
          "text": [
            "           Actual  Prediction\n",
            "count  400.000000  400.000000\n",
            "mean     0.922500    0.915000\n",
            "std      0.267718    0.279231\n",
            "min      0.000000    0.000000\n",
            "25%      1.000000    1.000000\n",
            "50%      1.000000    1.000000\n",
            "75%      1.000000    1.000000\n",
            "max      1.000000    1.000000\n",
            "Accuracy score for this gradient boosting classifier where we used 50 trees, max_depth of 4 and learning rate of 0.1 = 98.25 %\n"
          ],
          "name": "stdout"
        }
      ]
    },
    {
      "cell_type": "markdown",
      "metadata": {
        "id": "xbmPmvOP0JTT",
        "colab_type": "text"
      },
      "source": [
        "observations:\n",
        "1. changing the number of trees from 100 to 50, max_depth at 5 and increasing the learning rate to 0.5 increases the accuracy to 98.25%\n",
        "2. changing the number of trees from 100 to 50, max_depth at 4 and increasing the learning rate to 0.5 increases the accuracy to 98.75%\n",
        "3. changing the number of trees from 100 to 300, max_depth at 4 and increasing the learning rate to 0.7 the accuracy is at 98.25%\n",
        "4. changing the number of trees from 100 to 50, max_depth at 4 and leaving a learning rate of 0.1, the accuracy of the model is at 98.25% which is still really good"
      ]
    },
    {
      "cell_type": "markdown",
      "metadata": {
        "id": "t5ydf1ay16Tf",
        "colab_type": "text"
      },
      "source": [
        "Comparing the random forest and gradient boosting models, I do trust gradient boosting model more because it is performing better with smaller parameters. with 50 trees, a 0.1 learning rate and max depth of 4 we are able to achieve an accuracy score of 98.25% compared to 98.0% for random forest when 50 trees are used and max depth of 4. in additin the gradient boosting is perfoming better while minimizing bias and variance "
      ]
    },
    {
      "cell_type": "markdown",
      "metadata": {
        "id": "z5PfgVUaBHfc",
        "colab_type": "text"
      },
      "source": [
        "##### determining most important features"
      ]
    },
    {
      "cell_type": "code",
      "metadata": {
        "id": "ZfFfrEtX7MHi",
        "colab_type": "code",
        "colab": {
          "base_uri": "https://localhost:8080/",
          "height": 477
        },
        "outputId": "e915e675-d8e1-403c-f669-51fa1ba3b8d3"
      },
      "source": [
        "\n",
        "# using gradient boosting mode, get numerical feature importances\n",
        "importances = list(status_gbc.feature_importances_)\n",
        "\n",
        "# using Python we connect each feature with its importance\n",
        "# List of tuples with variable and importance\n",
        "feature_importances = [(feature, round(importance, 2)) for feature, importance in zip(gradient_features, importances)]\n",
        "\n",
        "print(feature_importances) #this already has all the information we need, but it can be tricky to see when there are too many features horizontally.\n",
        "print()\n",
        "\n",
        "# sorting the values in descending order to see the most important features first.\n",
        "feature_importances = sorted(feature_importances, key = lambda x: x[1], reverse = True)\n",
        "\n",
        "# Printing feature and importances \n",
        "[print('Variable: {:20} Importance: {}'.format(*pair)) for pair in feature_importances];\n"
      ],
      "execution_count": null,
      "outputs": [
        {
          "output_type": "stream",
          "text": [
            "[('age', 0.03), ('sex', 0.0), ('on_thyroxine', 0.01), ('query_on_thyroxine', 0.0), ('on_antithyroid_medication', 0.01), ('thyroid_surgery', 0.01), ('query_hypothyroid', 0.01), ('query_hyperthyroid', 0.0), ('pregnant', 0.0), ('sick', 0.0), ('tumor', 0.0), ('lithium', 0.0), ('goitre', 0.0), ('TSH_measured', 0.0), ('TSH', 0.24), ('T3_measured', 0.0), ('T3', 0.02), ('TT4_measured', 0.0), ('TT4', 0.01), ('T4U_measured', 0.0), ('T4U', 0.01), ('FTI_measured', 0.0), ('FTI', 0.66)]\n",
            "\n",
            "Variable: FTI                  Importance: 0.66\n",
            "Variable: TSH                  Importance: 0.24\n",
            "Variable: age                  Importance: 0.03\n",
            "Variable: T3                   Importance: 0.02\n",
            "Variable: on_thyroxine         Importance: 0.01\n",
            "Variable: on_antithyroid_medication Importance: 0.01\n",
            "Variable: thyroid_surgery      Importance: 0.01\n",
            "Variable: query_hypothyroid    Importance: 0.01\n",
            "Variable: TT4                  Importance: 0.01\n",
            "Variable: T4U                  Importance: 0.01\n",
            "Variable: sex                  Importance: 0.0\n",
            "Variable: query_on_thyroxine   Importance: 0.0\n",
            "Variable: query_hyperthyroid   Importance: 0.0\n",
            "Variable: pregnant             Importance: 0.0\n",
            "Variable: sick                 Importance: 0.0\n",
            "Variable: tumor                Importance: 0.0\n",
            "Variable: lithium              Importance: 0.0\n",
            "Variable: goitre               Importance: 0.0\n",
            "Variable: TSH_measured         Importance: 0.0\n",
            "Variable: T3_measured          Importance: 0.0\n",
            "Variable: TT4_measured         Importance: 0.0\n",
            "Variable: T4U_measured         Importance: 0.0\n",
            "Variable: FTI_measured         Importance: 0.0\n"
          ],
          "name": "stdout"
        }
      ]
    },
    {
      "cell_type": "code",
      "metadata": {
        "id": "MvvVLoYL2XqZ",
        "colab_type": "code",
        "colab": {
          "base_uri": "https://localhost:8080/",
          "height": 470
        },
        "outputId": "363f7514-712a-4090-bdce-2b6b30b5729c"
      },
      "source": [
        "# visualization of the feature importances\n",
        "importances = list(status_gbc.feature_importances_)\n",
        "# list of x locations for plotting\n",
        "x_values = list(range(len(importances)))\n",
        "# Making a bar chart\n",
        "plt.bar(x_values, importances, orientation = 'vertical')\n",
        "# Tick labels for x axis\n",
        "plt.xticks(x_values, gradient_features, rotation='vertical')\n",
        "# Axis labels and title\n",
        "plt.ylabel('Importance'); plt.xlabel('Variable'); plt.title('Variable Importances');\n"
      ],
      "execution_count": null,
      "outputs": [
        {
          "output_type": "display_data",
          "data": {
            "image/png": "[encoded data removed]",
            "text/plain": [
              "<Figure size 432x288 with 1 Axes>"
            ]
          },
          "metadata": {
            "tags": []
          }
        }
      ]
    },
    {
      "cell_type": "markdown",
      "metadata": {
        "id": "_TwjeTX8CBhk",
        "colab_type": "text"
      },
      "source": [
        "According to the plot the most important features are FTI, and TSH \n",
        "\n",
        "followed by age, T3,on thyroxine, on_antithyroid_medication, thyroid_surgery, query_hypothyroid, TT4, and T4U. We will create another gradient boosting model model using these features and see if our model accuracy score improves. "
      ]
    },
    {
      "cell_type": "code",
      "metadata": {
        "id": "jVCKCMl8DuaF",
        "colab_type": "code",
        "colab": {
          "base_uri": "https://localhost:8080/",
          "height": 193
        },
        "outputId": "17ca02e3-5b49-4c11-91d4-059af2b7b9e5"
      },
      "source": [
        "important_features = ['FTI', 'TSH', 'age', 'T3', 'on_thyroxine','on_antithyroid_medication', \n",
        "                     'thyroid_surgery', 'query_hypothyroid', 'TT4', 'T4U']\n",
        "X = cleaned[important_features].values\n",
        "y = cleaned['status'].values\n",
        "# training data using 80% of our data\n",
        "X_train, X_test, y_train, y_test = train_test_split(X,y, test_size = 0.2, random_state=0)\n",
        "\n",
        "# assigning number of trees to use to a variable\n",
        "target_number_of_trees =100\n",
        "# creating a gradient booster classifier and fitting the model to our data\n",
        "new_status_gbc = GradientBoostingClassifier(n_estimators = target_number_of_trees, learning_rate = 0.1, max_depth=5, warm_start = True)\n",
        "new_status_gbc = new_status_gbc.fit(X_train, y_train)\n",
        "\n",
        "# making prediction using the model that we have trained\n",
        "\n",
        "new_status_gbc_pred = new_status_gbc.predict(X_test)\n",
        "comparison = pd.DataFrame({'Actual': y_test.flatten(), 'Prediction': new_status_gbc_pred.flatten()})\n",
        "print(comparison.describe())\n",
        "\n",
        "# evaluating the model using the accuracy score and confusion matrix\n",
        "print('Accuracy score for this gradient boosting classifier with important features only =', \n",
        "      metrics.accuracy_score(y_test, new_status_gbc_pred) * 100,'%')\n",
        "# using confusion matrix"
      ],
      "execution_count": null,
      "outputs": [
        {
          "output_type": "stream",
          "text": [
            "           Actual  Prediction\n",
            "count  400.000000   400.00000\n",
            "mean     0.922500     0.91750\n",
            "std      0.267718     0.27547\n",
            "min      0.000000     0.00000\n",
            "25%      1.000000     1.00000\n",
            "50%      1.000000     1.00000\n",
            "75%      1.000000     1.00000\n",
            "max      1.000000     1.00000\n",
            "Accuracy score for this gradient boosting classifier with important features only = 98.0 %\n"
          ],
          "name": "stdout"
        }
      ]
    },
    {
      "cell_type": "markdown",
      "metadata": {
        "id": "pB0cvWioFZi8",
        "colab_type": "text"
      },
      "source": [
        "Comparing the perfomance for the new gradient boosting model (where we used important features only) with the one earlier (where we used the entire dataset), the new gradient boosting model has the same accuracy score as the one earlier. This goes to show that we dont need all the columns from the dataset, the important features are sufficient to build a good predictive model with high accuracy of 98.0%"
      ]
    },
    {
      "cell_type": "markdown",
      "metadata": {
        "id": "L6AZZ7diPucz",
        "colab_type": "text"
      },
      "source": [
        "### Support vector machines"
      ]
    },
    {
      "cell_type": "code",
      "metadata": {
        "id": "sO2c7dtzQSOD",
        "colab_type": "code",
        "colab": {
          "base_uri": "https://localhost:8080/",
          "height": 387
        },
        "outputId": "29b8b10d-6f4a-43ed-c45f-aef3ce62e3e4"
      },
      "source": [
        "# Thorough cleaning of the data is already completed and documented in the cleaning section. our data is ready for SVM\n",
        "# let's create a copy of dataframe for this section\n",
        "\n",
        "svm = cleaned.copy()\n",
        "# Plotting our desired features for visualization\n",
        "sns.lmplot('FTI','TSH', data=svm, hue='status', palette='Set1', fit_reg=False, scatter_kws={\"s\": 80})"
      ],
      "execution_count": null,
      "outputs": [
        {
          "output_type": "execute_result",
          "data": {
            "text/plain": [
              "<seaborn.axisgrid.FacetGrid at 0x7f65cf8bcf60>"
            ]
          },
          "metadata": {
            "tags": []
          },
          "execution_count": 96
        },
        {
          "output_type": "display_data",
          "data": {
            "image/png": "[encoded data removed]",
            "text/plain": [
              "<Figure size 416.02x360 with 1 Axes>"
            ]
          },
          "metadata": {
            "tags": []
          }
        }
      ]
    },
    {
      "cell_type": "code",
      "metadata": {
        "id": "udMKRuMhTJfd",
        "colab_type": "code",
        "colab": {}
      },
      "source": [
        "# Specify the input for the model\n",
        "fti_tsh = svm[['FTI', 'TSH']].to_numpy()\n",
        "label = svm['status']\n",
        "# applying a linear fuction to build the svm model\n",
        "model = SVC(kernel= 'linear')\n",
        "clf_model = model.fit(fti_tsh,label)"
      ],
      "execution_count": null,
      "outputs": []
    },
    {
      "cell_type": "code",
      "metadata": {
        "id": "VpN1ajVGTQHG",
        "colab_type": "code",
        "colab": {}
      },
      "source": [
        "# Create a mesh grid for our graph\n",
        "def make_meshgrid(x, y, h=.02):\n",
        "    x_min, x_max = x.min() - 1, x.max() + 1\n",
        "    y_min, y_max = y.min() - 1, y.max() + 1\n",
        "    xx, yy = np.meshgrid(np.arange(x_min, x_max, h), np.arange(y_min, y_max, h))\n",
        "    return xx, yy\n",
        "\n",
        "# A function that creates the hyperplanes from our model\n",
        "def plot_contours(ax, clf, xx, yy, **params):\n",
        "    Z = clf_model.predict(np.c_[xx.ravel(), yy.ravel()])\n",
        "    Z = Z.reshape(xx.shape)\n",
        "    out = ax.contourf(xx, yy, Z, **params)\n",
        "    return out\n",
        "\n",
        "fig, ax = plt.subplots()\n",
        "# title for the plots\n",
        "title = ('patient with or without hypothyroidism classification with linear SVC')\n",
        "# Set-up grid for plotting.\n",
        "X0, X1 = fti_tsh[:, 0], fti_tsh[:, 1]\n",
        "xx, yy = make_meshgrid(X0, X1)\n",
        "\n",
        "plot_contours(ax, clf_model, xx, yy, cmap=plt.cm.coolwarm, alpha=0.8)\n",
        "ax.scatter(X0, X1, c=type_label, cmap=plt.cm.coolwarm, s=20, edgecolors='k')\n",
        "ax.set_xlabel('FTI')\n",
        "ax.set_ylabel('TSH')\n",
        "ax.set_xticks(())\n",
        "ax.set_yticks(())\n",
        "ax.set_title(title)\n",
        "plt.show()"
      ],
      "execution_count": null,
      "outputs": []
    },
    {
      "cell_type": "markdown",
      "metadata": {
        "id": "RQ-teW6Usbk8",
        "colab_type": "text"
      },
      "source": [
        "I was trying to create a visualization here but everytime I ran the code, my computer would crash"
      ]
    },
    {
      "cell_type": "code",
      "metadata": {
        "id": "SHb0E3C-VYtz",
        "colab_type": "code",
        "colab": {}
      },
      "source": [
        "# making predictions\n",
        "\n",
        "def FTI_or_TSH(FTI, TSH):\n",
        "    if(model.predict([['FTI', 'TSH']]))==0:\n",
        "        print('the status of the patient is negative.')\n",
        "    else:\n",
        "        print('the status of the patient is hypothyroid')\n"
      ],
      "execution_count": null,
      "outputs": []
    },
    {
      "cell_type": "code",
      "metadata": {
        "id": "XLFyNQxyaQ-9",
        "colab_type": "code",
        "colab": {
          "base_uri": "https://localhost:8080/",
          "height": 651
        },
        "outputId": "297a4a2c-f989-430d-d37a-5cd706db71a8"
      },
      "source": [
        "# preparing the data for linear, polynomial and rbf functions\n",
        "\n",
        "# applying reduction algorithm so that we are able to plot the graph on a 2_dimensional graph\n",
        "\n",
        "# Removing the target column\n",
        "svm_data= svm.drop('status', axis=1)\n",
        "print(svm)\n",
        "y = svm['status']\n",
        "print(y)\n",
        "\n",
        "# Applying the reduction algorithm: PCA\n",
        "from sklearn.decomposition import PCA\n",
        "pca = PCA(n_components=2).fit(svm_data)\n",
        "print(pca)\n",
        "X = pca.transform(svm_data)\n",
        "print(X)\n",
        "X.shape"
      ],
      "execution_count": null,
      "outputs": [
        {
          "output_type": "stream",
          "text": [
            "      status  age  sex  on_thyroxine  ...  T4U_measured   T4U  FTI_measured    FTI\n",
            "0          0   72    2             0  ...             1  1.48             1   10.0\n",
            "1          0   15    1             1  ...             1  1.13             1   17.0\n",
            "2          0   24    2             0  ...             1  1.00             1    0.0\n",
            "4          0   77    2             0  ...             1  1.28             1   44.0\n",
            "5          0   85    1             0  ...             1  1.19             1   23.0\n",
            "...      ...  ...  ...           ...  ...           ...   ...           ...    ...\n",
            "3158       1   58    1             0  ...             1  0.91             1   95.0\n",
            "3159       1   29    1             0  ...             1  1.01             1   98.0\n",
            "3160       1   77    2             0  ...             1  0.68             1  104.0\n",
            "3161       1   74    1             0  ...             1  0.48             1  137.0\n",
            "3162       1   56    1             1  ...             1  0.97             1  143.0\n",
            "\n",
            "[1998 rows x 24 columns]\n",
            "0       0\n",
            "1       0\n",
            "2       0\n",
            "4       0\n",
            "5       0\n",
            "       ..\n",
            "3158    1\n",
            "3159    1\n",
            "3160    1\n",
            "3161    1\n",
            "3162    1\n",
            "Name: status, Length: 1998, dtype: int64\n",
            "PCA(copy=True, iterated_power='auto', n_components=2, random_state=None,\n",
            "    svd_solver='auto', tol=0.0, whiten=False)\n",
            "[[-138.22479118    1.44369024]\n",
            " [-146.44732063  -61.38537499]\n",
            " [-147.41646435  -26.61907021]\n",
            " ...\n",
            " [ -30.84252692   31.23975215]\n",
            " [ -13.46554429   47.89416747]\n",
            " [  45.62628154    4.45676262]]\n"
          ],
          "name": "stdout"
        },
        {
          "output_type": "execute_result",
          "data": {
            "text/plain": [
              "(1998, 2)"
            ]
          },
          "metadata": {
            "tags": []
          },
          "execution_count": 99
        }
      ]
    },
    {
      "cell_type": "markdown",
      "metadata": {
        "id": "bLeWxXDDfI1y",
        "colab_type": "text"
      },
      "source": [
        "#### Fitting polynomial function"
      ]
    },
    {
      "cell_type": "code",
      "metadata": {
        "id": "ji2bKrIAb0JR",
        "colab_type": "code",
        "colab": {}
      },
      "source": [
        "#  Splitting the data into train and test set\n",
        "X_train, X_test, y_train, y_test = train_test_split(X, y, test_size = 0.2, random_state = 0)\n"
      ],
      "execution_count": null,
      "outputs": []
    },
    {
      "cell_type": "code",
      "metadata": {
        "id": "O59vFAyQeOJo",
        "colab_type": "code",
        "colab": {}
      },
      "source": [
        "# Building the model with polynomial function\n",
        "polyclassifier = SVC(kernel='poly',degree=3,gamma='auto')"
      ],
      "execution_count": 106,
      "outputs": []
    },
    {
      "cell_type": "code",
      "metadata": {
        "id": "actSPPKBddPM",
        "colab_type": "code",
        "colab": {
          "base_uri": "https://localhost:8080/",
          "height": 87
        },
        "outputId": "a70be3ea-6137-4bcd-db45-cff4fe7c9e5d"
      },
      "source": [
        "# Training the model using the training set\n",
        "polyclassifier.fit(X_train, y_train)"
      ],
      "execution_count": 107,
      "outputs": [
        {
          "output_type": "execute_result",
          "data": {
            "text/plain": [
              "SVC(C=1.0, break_ties=False, cache_size=200, class_weight=None, coef0=0.0,\n",
              "    decision_function_shape='ovr', degree=3, gamma='auto', kernel='poly',\n",
              "    max_iter=-1, probability=False, random_state=None, shrinking=True,\n",
              "    tol=0.001, verbose=False)"
            ]
          },
          "metadata": {
            "tags": []
          },
          "execution_count": 107
        }
      ]
    },
    {
      "cell_type": "code",
      "metadata": {
        "id": "NCbpwUPqeu6F",
        "colab_type": "code",
        "colab": {}
      },
      "source": [
        "# making predictions\n",
        "status_pred = polyclassifier.predict(X_test)"
      ],
      "execution_count": 109,
      "outputs": []
    },
    {
      "cell_type": "code",
      "metadata": {
        "id": "uhFT9ckfe3_f",
        "colab_type": "code",
        "colab": {
          "base_uri": "https://localhost:8080/",
          "height": 35
        },
        "outputId": "09b898d0-f81c-4163-9f17-3d7f5c5d61fe"
      },
      "source": [
        "# Evaluating the model\n",
        "print( accuracy_score(y_test, status_pred))"
      ],
      "execution_count": 110,
      "outputs": [
        {
          "output_type": "stream",
          "text": [
            "0.9675\n"
          ],
          "name": "stdout"
        }
      ]
    },
    {
      "cell_type": "markdown",
      "metadata": {
        "id": "lV7IEF3Jk94A",
        "colab_type": "text"
      },
      "source": [
        "The accuracy score for the polynomial function  is at 96.75%"
      ]
    },
    {
      "cell_type": "markdown",
      "metadata": {
        "id": "WdwDxoWcfPn4",
        "colab_type": "text"
      },
      "source": [
        "#### Fitting radial basis function(rbf)"
      ]
    },
    {
      "cell_type": "code",
      "metadata": {
        "id": "Q8dWlehVfbx6",
        "colab_type": "code",
        "colab": {
          "base_uri": "https://localhost:8080/",
          "height": 87
        },
        "outputId": "0c6370d4-ad57-4d20-e80f-5544ad56d1aa"
      },
      "source": [
        "# Building the model \n",
        "rbfclassifier = SVC(kernel='rbf')\n",
        "# Training the model using the training set\n",
        "rbfclassifier.fit(X_train, y_train)"
      ],
      "execution_count": 108,
      "outputs": [
        {
          "output_type": "execute_result",
          "data": {
            "text/plain": [
              "SVC(C=1.0, break_ties=False, cache_size=200, class_weight=None, coef0=0.0,\n",
              "    decision_function_shape='ovr', degree=3, gamma='scale', kernel='rbf',\n",
              "    max_iter=-1, probability=False, random_state=None, shrinking=True,\n",
              "    tol=0.001, verbose=False)"
            ]
          },
          "metadata": {
            "tags": []
          },
          "execution_count": 108
        }
      ]
    },
    {
      "cell_type": "code",
      "metadata": {
        "id": "d_sYqkNSfjfh",
        "colab_type": "code",
        "colab": {}
      },
      "source": [
        "# making predictions using rbf\n",
        "\n",
        "rbf_status_pred = rbfclassifier.predict(X_test)"
      ],
      "execution_count": 111,
      "outputs": []
    },
    {
      "cell_type": "code",
      "metadata": {
        "id": "-jqOmVmvfwf2",
        "colab_type": "code",
        "colab": {
          "base_uri": "https://localhost:8080/",
          "height": 35
        },
        "outputId": "81d76f16-1c4d-4efe-e6d9-bcf721d119ea"
      },
      "source": [
        "# evaluating the model using accuracy score\n",
        "print('rbf accuracy score =',accuracy_score(y_test, rbf_status_pred)*100,'%')"
      ],
      "execution_count": 112,
      "outputs": [
        {
          "output_type": "stream",
          "text": [
            "rbf accuracy score = 96.75 %\n"
          ],
          "name": "stdout"
        }
      ]
    },
    {
      "cell_type": "markdown",
      "metadata": {
        "id": "OayCFFYUs7Ly",
        "colab_type": "text"
      },
      "source": [
        "the accuracy score for rbf function is also at 96.75%"
      ]
    },
    {
      "cell_type": "markdown",
      "metadata": {
        "id": "8ZEdMdVDmhvr",
        "colab_type": "text"
      },
      "source": [
        "#### Fitting a linear function"
      ]
    },
    {
      "cell_type": "code",
      "metadata": {
        "id": "2RXAtXwclwjG",
        "colab_type": "code",
        "colab": {
          "base_uri": "https://localhost:8080/",
          "height": 87
        },
        "outputId": "5ba1aa80-f5cf-4ddd-ac95-ce5f7cf5b440"
      },
      "source": [
        "# Building the model \n",
        "linear = SVC(kernel='linear')\n",
        "# Training the model using the training set\n",
        "linear.fit(X_train, y_train)\n"
      ],
      "execution_count": 115,
      "outputs": [
        {
          "output_type": "execute_result",
          "data": {
            "text/plain": [
              "SVC(C=1.0, break_ties=False, cache_size=200, class_weight=None, coef0=0.0,\n",
              "    decision_function_shape='ovr', degree=3, gamma='scale', kernel='linear',\n",
              "    max_iter=-1, probability=False, random_state=None, shrinking=True,\n",
              "    tol=0.001, verbose=False)"
            ]
          },
          "metadata": {
            "tags": []
          },
          "execution_count": 115
        }
      ]
    },
    {
      "cell_type": "code",
      "metadata": {
        "id": "BdofJ8iMmFvd",
        "colab_type": "code",
        "colab": {}
      },
      "source": [
        "# making predictions using rbf\n",
        "\n",
        "linear_status_pred = linear.predict(X_test)"
      ],
      "execution_count": 116,
      "outputs": []
    },
    {
      "cell_type": "code",
      "metadata": {
        "id": "5EW2xWkbmJ5h",
        "colab_type": "code",
        "colab": {
          "base_uri": "https://localhost:8080/",
          "height": 35
        },
        "outputId": "9bc78ec1-1f5c-4349-a3de-f3d2956acdab"
      },
      "source": [
        "# evaluating the model using accuracy score\n",
        "print('linear accuracy score =',accuracy_score(y_test, linear_status_pred)*100,'%')"
      ],
      "execution_count": 117,
      "outputs": [
        {
          "output_type": "stream",
          "text": [
            "linear accuracy score = 97.25 %\n"
          ],
          "name": "stdout"
        }
      ]
    },
    {
      "cell_type": "markdown",
      "metadata": {
        "id": "7rPxRi3egZPz",
        "colab_type": "text"
      },
      "source": [
        "linear model is perfoming the best with an accuracy score of 97.25% followed by rbf and polynomial which have the same accuracy score of 96.75%. Eventhough polynomial and rbf had the same accuracy score, running rbf was much faster than polynomial. My best model choice among SVM models would be rbf because of how fast it is compared to linear and polynomial."
      ]
    },
    {
      "cell_type": "markdown",
      "metadata": {
        "id": "WOPBq_a9j_GW",
        "colab_type": "text"
      },
      "source": [
        "## challenging the solution"
      ]
    },
    {
      "cell_type": "markdown",
      "metadata": {
        "id": "_RPlE4gjkGZY",
        "colab_type": "text"
      },
      "source": [
        "My models from decison trees performed really well with very high accuracies of up to 98.75 %, is this too high to suggest overfitting? To improve on these models, I would test the model with a larger test size sample maybe 30% and then evaluate it's perfomance\n",
        "\n",
        "As for support vector machines, I also got good percent accuracies of up to 97.25% which is great but building the models took a long time to complete running the codes time, except for rbf which was faster. To improve on running time for polynomial and linear functions, I would use the most important features from decision trees to build these models. This might also improve on the accuracies."
      ]
    },
    {
      "cell_type": "markdown",
      "metadata": {
        "id": "z1Ag_1CEqUid",
        "colab_type": "text"
      },
      "source": [
        "## Conclusion\n",
        "\n",
        "After exploring on different models with decision trees and support vector machines. I would recommend gradient boosting model as the best model to use for this particular problem. It had the highest accuracy. In addition, the model could be improved further with more hyperparameter tuning . "
      ]
    }
  ]
}