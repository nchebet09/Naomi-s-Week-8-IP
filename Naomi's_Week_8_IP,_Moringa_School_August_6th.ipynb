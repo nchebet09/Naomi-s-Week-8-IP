{
  "nbformat": 4,
  "nbformat_minor": 0,
  "metadata": {
    "colab": {
      "name": "Naomi's Week 8 IP, Moringa School August 6th",
      "provenance": [],
      "collapsed_sections": [],
      "toc_visible": true,
      "authorship_tag": "ABX9TyOSTw4119Qjill1Owv6mApA",
      "include_colab_link": true
    },
    "kernelspec": {
      "name": "python3",
      "display_name": "Python 3"
    }
  },
  "cells": [
    {
      "cell_type": "markdown",
      "metadata": {
        "id": "view-in-github",
        "colab_type": "text"
      },
      "source": [
        "<a href=\"https://colab.research.google.com/github/nchebet09/Naomi-s-Week-8-IP/blob/master/Naomi's_Week_8_IP%2C_Moringa_School_August_6th.ipynb\" target=\"_parent\"><img src=\"https://colab.research.google.com/assets/colab-badge.svg\" alt=\"Open In Colab\"/></a>"
      ]
    },
    {
      "cell_type": "markdown",
      "metadata": {
        "id": "OlQWHgV1rvjZ",
        "colab_type": "text"
      },
      "source": [
        "## Documentation"
      ]
    },
    {
      "cell_type": "markdown",
      "metadata": {
        "id": "Ut7XFDzWr1WD",
        "colab_type": "text"
      },
      "source": [
        "### a.) Specifying the question\n",
        "\n",
        "Do the patient's previous symptoms indicate that the patient has hypothyroid?"
      ]
    },
    {
      "cell_type": "markdown",
      "metadata": {
        "id": "c2RMG1a-sbrb",
        "colab_type": "text"
      },
      "source": [
        "### b.) Metrics for success\n",
        "\n",
        "Successfully creating a model that can predict if the patient's previous symptoms indicate that the patient has hypothyroid. To achieve this, we will test our data on different models focusing on decision trees and support vector machines and use accuracy scores to determine the best model."
      ]
    },
    {
      "cell_type": "markdown",
      "metadata": {
        "id": "5FQhyhOMsUok",
        "colab_type": "text"
      },
      "source": [
        "### c.) Understanding the business context\n",
        "\n",
        "As a data scientist you are given health data from Nairobi hospital about hypothyroidism. Hypothyroidism is a condition in which thyroid gland does not produce enough of certain crucial hormones. These hormones include: triiodothyronine (T3) and thyroxine (T4). The hormones have a big impact on health which affects the aspects of metabolism and the control of vital functions such as body temperature and heart rate. \n",
        "\n",
        "Your responsibility is to create a model that would predict whether or not the patient's symptoms indicate if that patient has hypothyroid based on the given dataset.\n",
        "\n",
        "The dataset given contains 3,163 records and 26 columns. The columns are shown below:\n",
        "\n",
        "#### **Dataset columns**\n",
        "\n",
        "1. status — hypothyroid positive or negative\n",
        "2. age — age of patient\n",
        "3. sex — gender of patient\n",
        "4. on_thyroxine — is the patient using thyroxine or not\n",
        "5. query_on_thyroxine — \n",
        "6. on_antithyroid_medication\n",
        "7. thyroid_surgery — have had thyroid surgery or not\n",
        "8. query_hypothyroid\n",
        "9. query_hyperthyroid — a condition of producing too much thyroid hormone\n",
        "10. pregnant — some women could develop hypthyroidism during or after prograncy\n",
        "11. sick\n",
        "12. tumor\n",
        "13. lithium — medication used to treat certain psychiatric disorders can contribute to hypothyroidism\n",
        "14. goitre — does the patient have goitre or not?\n",
        "15. TSH_measured\n",
        "16. TSH — thyroid Stimulating Hormone (test for hypothyroidism, you measure the level of TSH) failure of pituitary gland to produce enough TSH could lead to Hypothyroidism\n",
        "17. T3_measured — measure of T3 (yes or no)\n",
        "18. T3 — triiodothyronine (hormone produced by thyroid gland)\n",
        "19. TT4_measured\n",
        "20. TT4 — total thyroxine\n",
        "21. T4U_measured\n",
        "22. T4U\n",
        "23. FTI_measured\n",
        "24. FTI — free thyroxine index\n",
        "25. TBG_measured\n",
        "26. TBG"
      ]
    },
    {
      "cell_type": "markdown",
      "metadata": {
        "id": "JocWe3PCsj9N",
        "colab_type": "text"
      },
      "source": [
        "### d.) Experimental design\n",
        "\n",
        "The approach for this project will include:\n",
        "\n",
        "1. Reading material online to better understand on hypothyroidism\n",
        "\n",
        "2. Reading and Initial Data Exploration\n",
        "\n",
        "3. Data cleaning\n",
        "\n",
        "4. EDA\n",
        "\n",
        "5. Impelementing the solution with decision trees and support vector machines\n",
        "\n",
        "6. Challenging the solution"
      ]
    },
    {
      "cell_type": "markdown",
      "metadata": {
        "id": "W_gWoKN_BWPs",
        "colab_type": "text"
      },
      "source": [
        "## Importing libraries"
      ]
    },
    {
      "cell_type": "code",
      "metadata": {
        "id": "4LVQSWM_Bfci",
        "colab_type": "code",
        "colab": {
          "base_uri": "https://localhost:8080/",
          "height": 72
        },
        "outputId": "b9bebe42-79a8-40e1-e572-0300948544ea"
      },
      "source": [
        "import pandas as pd\n",
        "import numpy as np\n",
        "import seaborn as sns\n",
        "import warnings\n",
        "warnings.filterwarnings('ignore')\n",
        "\n",
        "\n"
      ],
      "execution_count": 1,
      "outputs": [
        {
          "output_type": "stream",
          "text": [
            "/usr/local/lib/python3.6/dist-packages/statsmodels/tools/_testing.py:19: FutureWarning: pandas.util.testing is deprecated. Use the functions in the public API at pandas.testing instead.\n",
            "  import pandas.util.testing as tm\n"
          ],
          "name": "stderr"
        }
      ]
    },
    {
      "cell_type": "markdown",
      "metadata": {
        "id": "w0WvX_NcBJ7l",
        "colab_type": "text"
      },
      "source": [
        "## Reading and Initial Data Exploration"
      ]
    },
    {
      "cell_type": "code",
      "metadata": {
        "id": "eAI6YailA7HI",
        "colab_type": "code",
        "colab": {
          "base_uri": "https://localhost:8080/",
          "height": 223
        },
        "outputId": "1d559e02-ab76-485e-af26-bc0cc270c759"
      },
      "source": [
        "# loading data and previewing the first 5 rows\n",
        "\n",
        "thyroid_df = pd.read_csv('hypothyroid.csv')\n",
        "thyroid_df.head()"
      ],
      "execution_count": 2,
      "outputs": [
        {
          "output_type": "execute_result",
          "data": {
            "text/html": [
              "<div>\n",
              "<style scoped>\n",
              "    .dataframe tbody tr th:only-of-type {\n",
              "        vertical-align: middle;\n",
              "    }\n",
              "\n",
              "    .dataframe tbody tr th {\n",
              "        vertical-align: top;\n",
              "    }\n",
              "\n",
              "    .dataframe thead th {\n",
              "        text-align: right;\n",
              "    }\n",
              "</style>\n",
              "<table border=\"1\" class=\"dataframe\">\n",
              "  <thead>\n",
              "    <tr style=\"text-align: right;\">\n",
              "      <th></th>\n",
              "      <th>status</th>\n",
              "      <th>age</th>\n",
              "      <th>sex</th>\n",
              "      <th>on_thyroxine</th>\n",
              "      <th>query_on_thyroxine</th>\n",
              "      <th>on_antithyroid_medication</th>\n",
              "      <th>thyroid_surgery</th>\n",
              "      <th>query_hypothyroid</th>\n",
              "      <th>query_hyperthyroid</th>\n",
              "      <th>pregnant</th>\n",
              "      <th>sick</th>\n",
              "      <th>tumor</th>\n",
              "      <th>lithium</th>\n",
              "      <th>goitre</th>\n",
              "      <th>TSH_measured</th>\n",
              "      <th>TSH</th>\n",
              "      <th>T3_measured</th>\n",
              "      <th>T3</th>\n",
              "      <th>TT4_measured</th>\n",
              "      <th>TT4</th>\n",
              "      <th>T4U_measured</th>\n",
              "      <th>T4U</th>\n",
              "      <th>FTI_measured</th>\n",
              "      <th>FTI</th>\n",
              "      <th>TBG_measured</th>\n",
              "      <th>TBG</th>\n",
              "    </tr>\n",
              "  </thead>\n",
              "  <tbody>\n",
              "    <tr>\n",
              "      <th>0</th>\n",
              "      <td>hypothyroid</td>\n",
              "      <td>72</td>\n",
              "      <td>M</td>\n",
              "      <td>f</td>\n",
              "      <td>f</td>\n",
              "      <td>f</td>\n",
              "      <td>f</td>\n",
              "      <td>f</td>\n",
              "      <td>f</td>\n",
              "      <td>f</td>\n",
              "      <td>f</td>\n",
              "      <td>f</td>\n",
              "      <td>f</td>\n",
              "      <td>f</td>\n",
              "      <td>y</td>\n",
              "      <td>30</td>\n",
              "      <td>y</td>\n",
              "      <td>0.60</td>\n",
              "      <td>y</td>\n",
              "      <td>15</td>\n",
              "      <td>y</td>\n",
              "      <td>1.48</td>\n",
              "      <td>y</td>\n",
              "      <td>10</td>\n",
              "      <td>n</td>\n",
              "      <td>?</td>\n",
              "    </tr>\n",
              "    <tr>\n",
              "      <th>1</th>\n",
              "      <td>hypothyroid</td>\n",
              "      <td>15</td>\n",
              "      <td>F</td>\n",
              "      <td>t</td>\n",
              "      <td>f</td>\n",
              "      <td>f</td>\n",
              "      <td>f</td>\n",
              "      <td>f</td>\n",
              "      <td>f</td>\n",
              "      <td>f</td>\n",
              "      <td>f</td>\n",
              "      <td>f</td>\n",
              "      <td>f</td>\n",
              "      <td>f</td>\n",
              "      <td>y</td>\n",
              "      <td>145</td>\n",
              "      <td>y</td>\n",
              "      <td>1.70</td>\n",
              "      <td>y</td>\n",
              "      <td>19</td>\n",
              "      <td>y</td>\n",
              "      <td>1.13</td>\n",
              "      <td>y</td>\n",
              "      <td>17</td>\n",
              "      <td>n</td>\n",
              "      <td>?</td>\n",
              "    </tr>\n",
              "    <tr>\n",
              "      <th>2</th>\n",
              "      <td>hypothyroid</td>\n",
              "      <td>24</td>\n",
              "      <td>M</td>\n",
              "      <td>f</td>\n",
              "      <td>f</td>\n",
              "      <td>f</td>\n",
              "      <td>f</td>\n",
              "      <td>f</td>\n",
              "      <td>f</td>\n",
              "      <td>f</td>\n",
              "      <td>f</td>\n",
              "      <td>f</td>\n",
              "      <td>f</td>\n",
              "      <td>f</td>\n",
              "      <td>y</td>\n",
              "      <td>0</td>\n",
              "      <td>y</td>\n",
              "      <td>0.20</td>\n",
              "      <td>y</td>\n",
              "      <td>4</td>\n",
              "      <td>y</td>\n",
              "      <td>1</td>\n",
              "      <td>y</td>\n",
              "      <td>0</td>\n",
              "      <td>n</td>\n",
              "      <td>?</td>\n",
              "    </tr>\n",
              "    <tr>\n",
              "      <th>3</th>\n",
              "      <td>hypothyroid</td>\n",
              "      <td>24</td>\n",
              "      <td>F</td>\n",
              "      <td>f</td>\n",
              "      <td>f</td>\n",
              "      <td>f</td>\n",
              "      <td>f</td>\n",
              "      <td>f</td>\n",
              "      <td>f</td>\n",
              "      <td>f</td>\n",
              "      <td>f</td>\n",
              "      <td>f</td>\n",
              "      <td>f</td>\n",
              "      <td>f</td>\n",
              "      <td>y</td>\n",
              "      <td>430</td>\n",
              "      <td>y</td>\n",
              "      <td>0.40</td>\n",
              "      <td>y</td>\n",
              "      <td>6</td>\n",
              "      <td>y</td>\n",
              "      <td>1.04</td>\n",
              "      <td>y</td>\n",
              "      <td>6</td>\n",
              "      <td>n</td>\n",
              "      <td>?</td>\n",
              "    </tr>\n",
              "    <tr>\n",
              "      <th>4</th>\n",
              "      <td>hypothyroid</td>\n",
              "      <td>77</td>\n",
              "      <td>M</td>\n",
              "      <td>f</td>\n",
              "      <td>f</td>\n",
              "      <td>f</td>\n",
              "      <td>f</td>\n",
              "      <td>f</td>\n",
              "      <td>f</td>\n",
              "      <td>f</td>\n",
              "      <td>f</td>\n",
              "      <td>f</td>\n",
              "      <td>f</td>\n",
              "      <td>f</td>\n",
              "      <td>y</td>\n",
              "      <td>7.30</td>\n",
              "      <td>y</td>\n",
              "      <td>1.20</td>\n",
              "      <td>y</td>\n",
              "      <td>57</td>\n",
              "      <td>y</td>\n",
              "      <td>1.28</td>\n",
              "      <td>y</td>\n",
              "      <td>44</td>\n",
              "      <td>n</td>\n",
              "      <td>?</td>\n",
              "    </tr>\n",
              "  </tbody>\n",
              "</table>\n",
              "</div>"
            ],
            "text/plain": [
              "        status age sex on_thyroxine  ... FTI_measured FTI TBG_measured TBG\n",
              "0  hypothyroid  72   M            f  ...            y  10            n   ?\n",
              "1  hypothyroid  15   F            t  ...            y  17            n   ?\n",
              "2  hypothyroid  24   M            f  ...            y   0            n   ?\n",
              "3  hypothyroid  24   F            f  ...            y   6            n   ?\n",
              "4  hypothyroid  77   M            f  ...            y  44            n   ?\n",
              "\n",
              "[5 rows x 26 columns]"
            ]
          },
          "metadata": {
            "tags": []
          },
          "execution_count": 2
        }
      ]
    },
    {
      "cell_type": "code",
      "metadata": {
        "id": "VM8rjnF1CcjC",
        "colab_type": "code",
        "colab": {
          "base_uri": "https://localhost:8080/",
          "height": 223
        },
        "outputId": "38db6fe6-0c22-4972-b346-7afa2415d640"
      },
      "source": [
        "# previewing the tail\n",
        "\n",
        "thyroid_df.tail()"
      ],
      "execution_count": 3,
      "outputs": [
        {
          "output_type": "execute_result",
          "data": {
            "text/html": [
              "<div>\n",
              "<style scoped>\n",
              "    .dataframe tbody tr th:only-of-type {\n",
              "        vertical-align: middle;\n",
              "    }\n",
              "\n",
              "    .dataframe tbody tr th {\n",
              "        vertical-align: top;\n",
              "    }\n",
              "\n",
              "    .dataframe thead th {\n",
              "        text-align: right;\n",
              "    }\n",
              "</style>\n",
              "<table border=\"1\" class=\"dataframe\">\n",
              "  <thead>\n",
              "    <tr style=\"text-align: right;\">\n",
              "      <th></th>\n",
              "      <th>status</th>\n",
              "      <th>age</th>\n",
              "      <th>sex</th>\n",
              "      <th>on_thyroxine</th>\n",
              "      <th>query_on_thyroxine</th>\n",
              "      <th>on_antithyroid_medication</th>\n",
              "      <th>thyroid_surgery</th>\n",
              "      <th>query_hypothyroid</th>\n",
              "      <th>query_hyperthyroid</th>\n",
              "      <th>pregnant</th>\n",
              "      <th>sick</th>\n",
              "      <th>tumor</th>\n",
              "      <th>lithium</th>\n",
              "      <th>goitre</th>\n",
              "      <th>TSH_measured</th>\n",
              "      <th>TSH</th>\n",
              "      <th>T3_measured</th>\n",
              "      <th>T3</th>\n",
              "      <th>TT4_measured</th>\n",
              "      <th>TT4</th>\n",
              "      <th>T4U_measured</th>\n",
              "      <th>T4U</th>\n",
              "      <th>FTI_measured</th>\n",
              "      <th>FTI</th>\n",
              "      <th>TBG_measured</th>\n",
              "      <th>TBG</th>\n",
              "    </tr>\n",
              "  </thead>\n",
              "  <tbody>\n",
              "    <tr>\n",
              "      <th>3158</th>\n",
              "      <td>negative</td>\n",
              "      <td>58</td>\n",
              "      <td>F</td>\n",
              "      <td>f</td>\n",
              "      <td>f</td>\n",
              "      <td>f</td>\n",
              "      <td>f</td>\n",
              "      <td>f</td>\n",
              "      <td>f</td>\n",
              "      <td>f</td>\n",
              "      <td>f</td>\n",
              "      <td>f</td>\n",
              "      <td>f</td>\n",
              "      <td>f</td>\n",
              "      <td>y</td>\n",
              "      <td>5.80</td>\n",
              "      <td>y</td>\n",
              "      <td>1.70</td>\n",
              "      <td>y</td>\n",
              "      <td>86</td>\n",
              "      <td>y</td>\n",
              "      <td>0.91</td>\n",
              "      <td>y</td>\n",
              "      <td>95</td>\n",
              "      <td>n</td>\n",
              "      <td>?</td>\n",
              "    </tr>\n",
              "    <tr>\n",
              "      <th>3159</th>\n",
              "      <td>negative</td>\n",
              "      <td>29</td>\n",
              "      <td>F</td>\n",
              "      <td>f</td>\n",
              "      <td>f</td>\n",
              "      <td>f</td>\n",
              "      <td>f</td>\n",
              "      <td>f</td>\n",
              "      <td>f</td>\n",
              "      <td>f</td>\n",
              "      <td>f</td>\n",
              "      <td>f</td>\n",
              "      <td>f</td>\n",
              "      <td>f</td>\n",
              "      <td>y</td>\n",
              "      <td>0.80</td>\n",
              "      <td>y</td>\n",
              "      <td>1.80</td>\n",
              "      <td>y</td>\n",
              "      <td>99</td>\n",
              "      <td>y</td>\n",
              "      <td>1.01</td>\n",
              "      <td>y</td>\n",
              "      <td>98</td>\n",
              "      <td>n</td>\n",
              "      <td>?</td>\n",
              "    </tr>\n",
              "    <tr>\n",
              "      <th>3160</th>\n",
              "      <td>negative</td>\n",
              "      <td>77</td>\n",
              "      <td>M</td>\n",
              "      <td>f</td>\n",
              "      <td>f</td>\n",
              "      <td>f</td>\n",
              "      <td>f</td>\n",
              "      <td>f</td>\n",
              "      <td>f</td>\n",
              "      <td>f</td>\n",
              "      <td>f</td>\n",
              "      <td>f</td>\n",
              "      <td>f</td>\n",
              "      <td>f</td>\n",
              "      <td>y</td>\n",
              "      <td>1.20</td>\n",
              "      <td>y</td>\n",
              "      <td>0.60</td>\n",
              "      <td>y</td>\n",
              "      <td>71</td>\n",
              "      <td>y</td>\n",
              "      <td>0.68</td>\n",
              "      <td>y</td>\n",
              "      <td>104</td>\n",
              "      <td>n</td>\n",
              "      <td>?</td>\n",
              "    </tr>\n",
              "    <tr>\n",
              "      <th>3161</th>\n",
              "      <td>negative</td>\n",
              "      <td>74</td>\n",
              "      <td>F</td>\n",
              "      <td>f</td>\n",
              "      <td>f</td>\n",
              "      <td>f</td>\n",
              "      <td>f</td>\n",
              "      <td>f</td>\n",
              "      <td>f</td>\n",
              "      <td>f</td>\n",
              "      <td>f</td>\n",
              "      <td>f</td>\n",
              "      <td>f</td>\n",
              "      <td>f</td>\n",
              "      <td>y</td>\n",
              "      <td>1.30</td>\n",
              "      <td>y</td>\n",
              "      <td>0.10</td>\n",
              "      <td>y</td>\n",
              "      <td>65</td>\n",
              "      <td>y</td>\n",
              "      <td>0.48</td>\n",
              "      <td>y</td>\n",
              "      <td>137</td>\n",
              "      <td>n</td>\n",
              "      <td>?</td>\n",
              "    </tr>\n",
              "    <tr>\n",
              "      <th>3162</th>\n",
              "      <td>negative</td>\n",
              "      <td>56</td>\n",
              "      <td>F</td>\n",
              "      <td>t</td>\n",
              "      <td>f</td>\n",
              "      <td>f</td>\n",
              "      <td>f</td>\n",
              "      <td>f</td>\n",
              "      <td>f</td>\n",
              "      <td>f</td>\n",
              "      <td>f</td>\n",
              "      <td>f</td>\n",
              "      <td>f</td>\n",
              "      <td>f</td>\n",
              "      <td>y</td>\n",
              "      <td>0</td>\n",
              "      <td>y</td>\n",
              "      <td>1.80</td>\n",
              "      <td>y</td>\n",
              "      <td>139</td>\n",
              "      <td>y</td>\n",
              "      <td>0.97</td>\n",
              "      <td>y</td>\n",
              "      <td>143</td>\n",
              "      <td>n</td>\n",
              "      <td>?</td>\n",
              "    </tr>\n",
              "  </tbody>\n",
              "</table>\n",
              "</div>"
            ],
            "text/plain": [
              "        status age sex on_thyroxine  ... FTI_measured  FTI TBG_measured TBG\n",
              "3158  negative  58   F            f  ...            y   95            n   ?\n",
              "3159  negative  29   F            f  ...            y   98            n   ?\n",
              "3160  negative  77   M            f  ...            y  104            n   ?\n",
              "3161  negative  74   F            f  ...            y  137            n   ?\n",
              "3162  negative  56   F            t  ...            y  143            n   ?\n",
              "\n",
              "[5 rows x 26 columns]"
            ]
          },
          "metadata": {
            "tags": []
          },
          "execution_count": 3
        }
      ]
    },
    {
      "cell_type": "code",
      "metadata": {
        "id": "TkjI_v69B8bR",
        "colab_type": "code",
        "colab": {
          "base_uri": "https://localhost:8080/",
          "height": 35
        },
        "outputId": "e1083762-4fca-458d-c22b-ec9bfc4389f9"
      },
      "source": [
        "# checking for the shape\n",
        "\n",
        "thyroid_df.shape\n",
        "\n",
        "# our dataset has 3,163 records and 26 columns"
      ],
      "execution_count": 4,
      "outputs": [
        {
          "output_type": "execute_result",
          "data": {
            "text/plain": [
              "(3163, 26)"
            ]
          },
          "metadata": {
            "tags": []
          },
          "execution_count": 4
        }
      ]
    },
    {
      "cell_type": "code",
      "metadata": {
        "id": "WCQdIwP_CJT4",
        "colab_type": "code",
        "colab": {
          "base_uri": "https://localhost:8080/",
          "height": 123
        },
        "outputId": "0044797c-03b5-4586-db17-72a58b343991"
      },
      "source": [
        "# previewing column names\n",
        "\n",
        "thyroid_df.columns"
      ],
      "execution_count": 5,
      "outputs": [
        {
          "output_type": "execute_result",
          "data": {
            "text/plain": [
              "Index(['status', 'age', 'sex', 'on_thyroxine', 'query_on_thyroxine',\n",
              "       'on_antithyroid_medication', 'thyroid_surgery', 'query_hypothyroid',\n",
              "       'query_hyperthyroid', 'pregnant', 'sick', 'tumor', 'lithium', 'goitre',\n",
              "       'TSH_measured', 'TSH', 'T3_measured', 'T3', 'TT4_measured', 'TT4',\n",
              "       'T4U_measured', 'T4U', 'FTI_measured', 'FTI', 'TBG_measured', 'TBG'],\n",
              "      dtype='object')"
            ]
          },
          "metadata": {
            "tags": []
          },
          "execution_count": 5
        }
      ]
    },
    {
      "cell_type": "code",
      "metadata": {
        "id": "cn3AtZOOeq8x",
        "colab_type": "code",
        "colab": {
          "base_uri": "https://localhost:8080/",
          "height": 492
        },
        "outputId": "fd544743-87f4-481a-f640-c689e43d0bbf"
      },
      "source": [
        "# checking for data types\n",
        "\n",
        "thyroid_df.dtypes\n",
        "\n",
        "# all the columns datatypes are listed as object,\n",
        "# during cleaning we will need to change the columns whose data types have been listed incorrectly"
      ],
      "execution_count": 6,
      "outputs": [
        {
          "output_type": "execute_result",
          "data": {
            "text/plain": [
              "status                       object\n",
              "age                          object\n",
              "sex                          object\n",
              "on_thyroxine                 object\n",
              "query_on_thyroxine           object\n",
              "on_antithyroid_medication    object\n",
              "thyroid_surgery              object\n",
              "query_hypothyroid            object\n",
              "query_hyperthyroid           object\n",
              "pregnant                     object\n",
              "sick                         object\n",
              "tumor                        object\n",
              "lithium                      object\n",
              "goitre                       object\n",
              "TSH_measured                 object\n",
              "TSH                          object\n",
              "T3_measured                  object\n",
              "T3                           object\n",
              "TT4_measured                 object\n",
              "TT4                          object\n",
              "T4U_measured                 object\n",
              "T4U                          object\n",
              "FTI_measured                 object\n",
              "FTI                          object\n",
              "TBG_measured                 object\n",
              "TBG                          object\n",
              "dtype: object"
            ]
          },
          "metadata": {
            "tags": []
          },
          "execution_count": 6
        }
      ]
    },
    {
      "cell_type": "code",
      "metadata": {
        "id": "47sD11H7CvWW",
        "colab_type": "code",
        "colab": {
          "base_uri": "https://localhost:8080/",
          "height": 492
        },
        "outputId": "32c2032e-8fc5-4b75-ee49-bd06d95a26f0"
      },
      "source": [
        "# checking for unique values in each column\n",
        "\n",
        "thyroid_df.nunique()"
      ],
      "execution_count": 7,
      "outputs": [
        {
          "output_type": "execute_result",
          "data": {
            "text/plain": [
              "status                         2\n",
              "age                           93\n",
              "sex                            3\n",
              "on_thyroxine                   2\n",
              "query_on_thyroxine             2\n",
              "on_antithyroid_medication      2\n",
              "thyroid_surgery                2\n",
              "query_hypothyroid              2\n",
              "query_hyperthyroid             2\n",
              "pregnant                       2\n",
              "sick                           2\n",
              "tumor                          2\n",
              "lithium                        2\n",
              "goitre                         2\n",
              "TSH_measured                   2\n",
              "TSH                          240\n",
              "T3_measured                    2\n",
              "T3                            70\n",
              "TT4_measured                   2\n",
              "TT4                          269\n",
              "T4U_measured                   2\n",
              "T4U                          159\n",
              "FTI_measured                   2\n",
              "FTI                          281\n",
              "TBG_measured                   2\n",
              "TBG                           53\n",
              "dtype: int64"
            ]
          },
          "metadata": {
            "tags": []
          },
          "execution_count": 7
        }
      ]
    },
    {
      "cell_type": "code",
      "metadata": {
        "id": "FV3wIBsEDQW_",
        "colab_type": "code",
        "colab": {
          "base_uri": "https://localhost:8080/",
          "height": 35
        },
        "outputId": "b6028d21-10b5-4c9b-e381-a34adf6448bf"
      },
      "source": [
        "# checking for unique values in categorical columns\n",
        "\n",
        "thyroid_df['status'].unique()\n",
        "# this is our target variable. it has two categories: hypothyroid and negative"
      ],
      "execution_count": 8,
      "outputs": [
        {
          "output_type": "execute_result",
          "data": {
            "text/plain": [
              "array(['hypothyroid', 'negative'], dtype=object)"
            ]
          },
          "metadata": {
            "tags": []
          },
          "execution_count": 8
        }
      ]
    },
    {
      "cell_type": "code",
      "metadata": {
        "id": "CJaLeVtlD3zd",
        "colab_type": "code",
        "colab": {
          "base_uri": "https://localhost:8080/",
          "height": 35
        },
        "outputId": "d19d0e74-d8d3-4437-9794-a2352ceb86ae"
      },
      "source": [
        "thyroid_df['sex'].unique()\n",
        "\n",
        "# there is a question mark on sex column that we will need to take care of during cleaning"
      ],
      "execution_count": 9,
      "outputs": [
        {
          "output_type": "execute_result",
          "data": {
            "text/plain": [
              "array(['M', 'F', '?'], dtype=object)"
            ]
          },
          "metadata": {
            "tags": []
          },
          "execution_count": 9
        }
      ]
    },
    {
      "cell_type": "code",
      "metadata": {
        "id": "C69dXdSJF3pn",
        "colab_type": "code",
        "colab": {
          "base_uri": "https://localhost:8080/",
          "height": 35
        },
        "outputId": "d70840f5-b56b-42a9-cad4-fd68e552e3d3"
      },
      "source": [
        "thyroid_df['on_thyroxine'].unique()"
      ],
      "execution_count": 10,
      "outputs": [
        {
          "output_type": "execute_result",
          "data": {
            "text/plain": [
              "array(['f', 't'], dtype=object)"
            ]
          },
          "metadata": {
            "tags": []
          },
          "execution_count": 10
        }
      ]
    },
    {
      "cell_type": "code",
      "metadata": {
        "id": "LuDCC-_rU7aj",
        "colab_type": "code",
        "colab": {
          "base_uri": "https://localhost:8080/",
          "height": 35
        },
        "outputId": "bf6ce8c4-2f04-4a27-8d34-e8fd618a4932"
      },
      "source": [
        "thyroid_df['query_on_thyroxine'].unique()"
      ],
      "execution_count": 11,
      "outputs": [
        {
          "output_type": "execute_result",
          "data": {
            "text/plain": [
              "array(['f', 't'], dtype=object)"
            ]
          },
          "metadata": {
            "tags": []
          },
          "execution_count": 11
        }
      ]
    },
    {
      "cell_type": "code",
      "metadata": {
        "id": "0el7B46SU-jE",
        "colab_type": "code",
        "colab": {
          "base_uri": "https://localhost:8080/",
          "height": 35
        },
        "outputId": "89172ee6-c358-42e0-aaff-333638fdd37d"
      },
      "source": [
        "thyroid_df['on_antithyroid_medication'].unique()"
      ],
      "execution_count": 12,
      "outputs": [
        {
          "output_type": "execute_result",
          "data": {
            "text/plain": [
              "array(['f', 't'], dtype=object)"
            ]
          },
          "metadata": {
            "tags": []
          },
          "execution_count": 12
        }
      ]
    },
    {
      "cell_type": "code",
      "metadata": {
        "id": "D3KlPmmXVKL1",
        "colab_type": "code",
        "colab": {
          "base_uri": "https://localhost:8080/",
          "height": 35
        },
        "outputId": "79b13aeb-6a90-4266-f989-24abdc93b0bf"
      },
      "source": [
        "thyroid_df['thyroid_surgery'].unique()"
      ],
      "execution_count": 13,
      "outputs": [
        {
          "output_type": "execute_result",
          "data": {
            "text/plain": [
              "array(['f', 't'], dtype=object)"
            ]
          },
          "metadata": {
            "tags": []
          },
          "execution_count": 13
        }
      ]
    },
    {
      "cell_type": "code",
      "metadata": {
        "id": "YIjDG18_VTVr",
        "colab_type": "code",
        "colab": {
          "base_uri": "https://localhost:8080/",
          "height": 35
        },
        "outputId": "36fa2673-d06d-48e0-b98a-4d76c962cc8a"
      },
      "source": [
        "thyroid_df['query_hypothyroid'].unique()"
      ],
      "execution_count": 14,
      "outputs": [
        {
          "output_type": "execute_result",
          "data": {
            "text/plain": [
              "array(['f', 't'], dtype=object)"
            ]
          },
          "metadata": {
            "tags": []
          },
          "execution_count": 14
        }
      ]
    },
    {
      "cell_type": "code",
      "metadata": {
        "id": "ZK4kGWjAVQEI",
        "colab_type": "code",
        "colab": {
          "base_uri": "https://localhost:8080/",
          "height": 35
        },
        "outputId": "7ddb4657-713e-44d3-9dc6-a0f6f1574d77"
      },
      "source": [
        "thyroid_df['query_hyperthyroid'].unique()"
      ],
      "execution_count": 15,
      "outputs": [
        {
          "output_type": "execute_result",
          "data": {
            "text/plain": [
              "array(['f', 't'], dtype=object)"
            ]
          },
          "metadata": {
            "tags": []
          },
          "execution_count": 15
        }
      ]
    },
    {
      "cell_type": "code",
      "metadata": {
        "id": "OWvKgVqkVcfK",
        "colab_type": "code",
        "colab": {
          "base_uri": "https://localhost:8080/",
          "height": 35
        },
        "outputId": "85574129-3d88-447d-c726-03fb6f9914e2"
      },
      "source": [
        "thyroid_df['pregnant'].unique()"
      ],
      "execution_count": 16,
      "outputs": [
        {
          "output_type": "execute_result",
          "data": {
            "text/plain": [
              "array(['f', 't'], dtype=object)"
            ]
          },
          "metadata": {
            "tags": []
          },
          "execution_count": 16
        }
      ]
    },
    {
      "cell_type": "code",
      "metadata": {
        "id": "nx9r893AVma5",
        "colab_type": "code",
        "colab": {
          "base_uri": "https://localhost:8080/",
          "height": 35
        },
        "outputId": "5db06b22-a7fe-4746-b960-77024e1aedfa"
      },
      "source": [
        "thyroid_df['sick'].unique()"
      ],
      "execution_count": 17,
      "outputs": [
        {
          "output_type": "execute_result",
          "data": {
            "text/plain": [
              "array(['f', 't'], dtype=object)"
            ]
          },
          "metadata": {
            "tags": []
          },
          "execution_count": 17
        }
      ]
    },
    {
      "cell_type": "code",
      "metadata": {
        "id": "uV_ntlIiVpTT",
        "colab_type": "code",
        "colab": {
          "base_uri": "https://localhost:8080/",
          "height": 35
        },
        "outputId": "e90449ca-a100-40fe-df73-4f2776b68925"
      },
      "source": [
        "thyroid_df['tumor'].unique()"
      ],
      "execution_count": 18,
      "outputs": [
        {
          "output_type": "execute_result",
          "data": {
            "text/plain": [
              "array(['f', 't'], dtype=object)"
            ]
          },
          "metadata": {
            "tags": []
          },
          "execution_count": 18
        }
      ]
    },
    {
      "cell_type": "code",
      "metadata": {
        "id": "qBNYgj6vVsKU",
        "colab_type": "code",
        "colab": {
          "base_uri": "https://localhost:8080/",
          "height": 35
        },
        "outputId": "df7bab47-a4a7-4bf3-eebd-122143aebab2"
      },
      "source": [
        "thyroid_df['lithium'].unique()"
      ],
      "execution_count": 19,
      "outputs": [
        {
          "output_type": "execute_result",
          "data": {
            "text/plain": [
              "array(['f', 't'], dtype=object)"
            ]
          },
          "metadata": {
            "tags": []
          },
          "execution_count": 19
        }
      ]
    },
    {
      "cell_type": "code",
      "metadata": {
        "id": "Nx5djyBIVvMV",
        "colab_type": "code",
        "colab": {
          "base_uri": "https://localhost:8080/",
          "height": 35
        },
        "outputId": "5632d045-aea0-4374-e92e-3218bfbcedca"
      },
      "source": [
        "thyroid_df['goitre'].unique()"
      ],
      "execution_count": 20,
      "outputs": [
        {
          "output_type": "execute_result",
          "data": {
            "text/plain": [
              "array(['f', 't'], dtype=object)"
            ]
          },
          "metadata": {
            "tags": []
          },
          "execution_count": 20
        }
      ]
    },
    {
      "cell_type": "code",
      "metadata": {
        "id": "XRTDPZxzV4mD",
        "colab_type": "code",
        "colab": {
          "base_uri": "https://localhost:8080/",
          "height": 35
        },
        "outputId": "eb4040ec-4eb1-43c3-d253-071dcb0f251f"
      },
      "source": [
        "thyroid_df['TSH_measured'].unique()"
      ],
      "execution_count": 21,
      "outputs": [
        {
          "output_type": "execute_result",
          "data": {
            "text/plain": [
              "array(['y', 'n'], dtype=object)"
            ]
          },
          "metadata": {
            "tags": []
          },
          "execution_count": 21
        }
      ]
    },
    {
      "cell_type": "code",
      "metadata": {
        "id": "WZ3aPgQNWQog",
        "colab_type": "code",
        "colab": {
          "base_uri": "https://localhost:8080/",
          "height": 35
        },
        "outputId": "8574abf7-763f-4f00-b980-7860759e145b"
      },
      "source": [
        "thyroid_df['T3_measured'].unique()"
      ],
      "execution_count": 22,
      "outputs": [
        {
          "output_type": "execute_result",
          "data": {
            "text/plain": [
              "array(['y', 'n'], dtype=object)"
            ]
          },
          "metadata": {
            "tags": []
          },
          "execution_count": 22
        }
      ]
    },
    {
      "cell_type": "code",
      "metadata": {
        "id": "MXA0-yXcWVv_",
        "colab_type": "code",
        "colab": {
          "base_uri": "https://localhost:8080/",
          "height": 35
        },
        "outputId": "9c006e64-2960-4763-ed09-f99d7b209c1f"
      },
      "source": [
        "thyroid_df['TT4_measured'].unique()"
      ],
      "execution_count": 23,
      "outputs": [
        {
          "output_type": "execute_result",
          "data": {
            "text/plain": [
              "array(['y', 'n'], dtype=object)"
            ]
          },
          "metadata": {
            "tags": []
          },
          "execution_count": 23
        }
      ]
    },
    {
      "cell_type": "code",
      "metadata": {
        "id": "bP6q1qd2Wa8R",
        "colab_type": "code",
        "colab": {
          "base_uri": "https://localhost:8080/",
          "height": 35
        },
        "outputId": "f2233532-daeb-44c4-d33e-a6a0f444fae2"
      },
      "source": [
        "thyroid_df['T4U_measured'].unique()"
      ],
      "execution_count": 24,
      "outputs": [
        {
          "output_type": "execute_result",
          "data": {
            "text/plain": [
              "array(['y', 'n'], dtype=object)"
            ]
          },
          "metadata": {
            "tags": []
          },
          "execution_count": 24
        }
      ]
    },
    {
      "cell_type": "code",
      "metadata": {
        "id": "o7S9NpeQWfpR",
        "colab_type": "code",
        "colab": {
          "base_uri": "https://localhost:8080/",
          "height": 35
        },
        "outputId": "f81a2c47-0fdf-4879-82bf-9c19f6ae8c27"
      },
      "source": [
        "thyroid_df['FTI_measured'].unique()"
      ],
      "execution_count": 25,
      "outputs": [
        {
          "output_type": "execute_result",
          "data": {
            "text/plain": [
              "array(['y', 'n'], dtype=object)"
            ]
          },
          "metadata": {
            "tags": []
          },
          "execution_count": 25
        }
      ]
    },
    {
      "cell_type": "code",
      "metadata": {
        "id": "b-nDXh1dWlA-",
        "colab_type": "code",
        "colab": {
          "base_uri": "https://localhost:8080/",
          "height": 35
        },
        "outputId": "6e2d5034-e6ed-46fc-b983-5007d21c3c01"
      },
      "source": [
        "thyroid_df['TBG_measured'].unique()"
      ],
      "execution_count": 26,
      "outputs": [
        {
          "output_type": "execute_result",
          "data": {
            "text/plain": [
              "array(['n', 'y'], dtype=object)"
            ]
          },
          "metadata": {
            "tags": []
          },
          "execution_count": 26
        }
      ]
    },
    {
      "cell_type": "code",
      "metadata": {
        "id": "-0enzJP7O-tl",
        "colab_type": "code",
        "colab": {
          "base_uri": "https://localhost:8080/",
          "height": 175
        },
        "outputId": "d7f53d9b-c7da-4b0e-b8ef-a74a5cdcd646"
      },
      "source": [
        "# checking for unique values in numerical columns\n",
        "\n",
        "thyroid_df['age'].unique()\n",
        "\n",
        "# we see values as integers except for the question mark which will be taken care of during cleaning"
      ],
      "execution_count": 27,
      "outputs": [
        {
          "output_type": "execute_result",
          "data": {
            "text/plain": [
              "array(['72', '15', '24', '77', '85', '64', '20', '42', '69', '75', '53',\n",
              "       '59', '68', '50', '78', '65', '28', '43', '40', '84', '?', '83',\n",
              "       '63', '73', '36', '27', '48', '71', '60', '34', '79', '62', '74',\n",
              "       '32', '41', '70', '29', '5', '58', '35', '51', '22', '16', '44',\n",
              "       '39', '47', '18', '17', '88', '56', '30', '45', '66', '52', '54',\n",
              "       '80', '33', '38', '92', '67', '46', '13', '89', '61', '49', '26',\n",
              "       '57', '31', '90', '81', '25', '37', '76', '87', '23', '55', '86',\n",
              "       '98', '21', '97', '1', '6', '14', '82', '11', '19', '9', '12',\n",
              "       '10', '8', '7', '4', '93'], dtype=object)"
            ]
          },
          "metadata": {
            "tags": []
          },
          "execution_count": 27
        }
      ]
    },
    {
      "cell_type": "code",
      "metadata": {
        "id": "o_m_NtCpRHWg",
        "colab_type": "code",
        "colab": {
          "base_uri": "https://localhost:8080/",
          "height": 175
        },
        "outputId": "aac1c8af-90d6-41da-fb56-e69fae3e3d61"
      },
      "source": [
        "thyroid_df['T3'].unique()\n",
        "\n",
        "# all the records are floats except for the question. it will be handled during cleaning"
      ],
      "execution_count": 28,
      "outputs": [
        {
          "output_type": "execute_result",
          "data": {
            "text/plain": [
              "array(['0.60', '1.70', '0.20', '0.40', '1.20', '1.10', '1.30', '1.90',\n",
              "       '?', '0.80', '2.20', '1.50', '2.70', '2', '0.30', '2.10', '0.50',\n",
              "       '0.70', '1', '1.40', '2.30', '2.40', '0.90', '1.80', '0', '2.80',\n",
              "       '1.60', '6.70', '3.30', '3', '2.50', '2.60', '4', '9.80', '3.90',\n",
              "       '3.40', '3.80', '4.50', '3.20', '3.70', '4.30', '2.90', '3.10',\n",
              "       '3.50', '3.60', '6.60', '4.90', '8.90', '4.10', '5', '5.30',\n",
              "       '7.60', '7.30', '4.20', '4.40', '5.10', '7', '0.10', '0.05',\n",
              "       '4.70', '6.20', '5.50', '4.60', '6.10', '8.10', '5.20', '5.60',\n",
              "       '4.80', '10.20', '8.60'], dtype=object)"
            ]
          },
          "metadata": {
            "tags": []
          },
          "execution_count": 28
        }
      ]
    },
    {
      "cell_type": "code",
      "metadata": {
        "id": "Y2e-M3iGR2uo",
        "colab_type": "code",
        "colab": {
          "base_uri": "https://localhost:8080/",
          "height": 527
        },
        "outputId": "0ca634bb-4d9b-44cb-98d7-f51d59e80ee5"
      },
      "source": [
        "thyroid_df['TT4'].unique()\n",
        "\n",
        "# all the values are integers except for question mark which will be handled during cleaning"
      ],
      "execution_count": 29,
      "outputs": [
        {
          "output_type": "execute_result",
          "data": {
            "text/plain": [
              "array(['15', '19', '4', '6', '57', '27', '54', '34', '39', '7.60', '53',\n",
              "       '38', '98', '44', '37', '81', '13', '17', '12', '50', '23', '14',\n",
              "       '3.90', '52', '32', '30', '84', '10', '55', '24', '28', '11',\n",
              "       '6.60', '31', '33', '41', '9', '78', '42', '8.10', '65', '16',\n",
              "       '9.70', '46', '22', '61', '2.30', '21', '7.50', '18', '66', '25',\n",
              "       '43', '2', '3', '58', '59', '71', '74', '56', '40', '20', '48',\n",
              "       '230', '70', '4.10', '63', '5.30', '2.90', '62', '75', '68', '45',\n",
              "       '47', '36', '80', '109', '8.60', '83', '82', '101', '76', '103',\n",
              "       '112', '206', '110', '93', '79', '121', '?', '107', '88', '187',\n",
              "       '254', '115', '113', '260', '117', '164', '97', '64', '129', '111',\n",
              "       '106', '95', '87', '105', '90', '67', '134', '35', '193', '143',\n",
              "       '130', '108', '86', '96', '92', '99', '216', '152', '125', '138',\n",
              "       '194', '91', '120', '102', '170', '126', '116', '140', '94', '159',\n",
              "       '85', '210', '89', '151', '247', '139', '153', '178', '123', '137',\n",
              "       '161', '7.30', '72', '202', '122', '124', '157', '118', '104',\n",
              "       '135', '186', '241', '131', '119', '100', '220', '176', '136',\n",
              "       '183', '155', '208', '199', '154', '169', '128', '235', '195',\n",
              "       '267', '232', '197', '212', '149', '127', '245', '132', '162',\n",
              "       '77', '142', '69', '173', '141', '156', '181', '189', '60', '114',\n",
              "       '198', '147', '191', '177', '174', '207', '168', '73', '160',\n",
              "       '145', '200', '182', '158', '203', '209', '217', '430', '213',\n",
              "       '218', '163', '296', '167', '148', '166', '185', '248', '172',\n",
              "       '144', '150', '165', '196', '308', '146', '426', '224', '29',\n",
              "       '204', '201', '133', '180', '184', '450', '244', '301', '255',\n",
              "       '252', '396', '223', '261', '250', '179', '219', '190', '51',\n",
              "       '221', '171', '242', '275', '211', '49', '239', '205', '222',\n",
              "       '256', '214', '282', '287', '253', '269', '175', '228', '333',\n",
              "       '258', '236', '225', '263', '283', '359', '188', '240'],\n",
              "      dtype=object)"
            ]
          },
          "metadata": {
            "tags": []
          },
          "execution_count": 29
        }
      ]
    },
    {
      "cell_type": "code",
      "metadata": {
        "id": "YMl7LoVjSQET",
        "colab_type": "code",
        "colab": {
          "base_uri": "https://localhost:8080/",
          "height": 369
        },
        "outputId": "0979bc60-00e9-4c09-88d3-e82cb60caace"
      },
      "source": [
        "thyroid_df['T4U'].unique()\n",
        "\n",
        "# we see majority of the values are floats,\n",
        "# but we also have a few integers and the presence of the question mark which will be handled during cleaning"
      ],
      "execution_count": 30,
      "outputs": [
        {
          "output_type": "execute_result",
          "data": {
            "text/plain": [
              "array(['1.48', '1.13', '1', '1.04', '1.28', '1.19', '0.86', '1.05',\n",
              "       '1.21', '1.02', '0.92', '1.29', '0.98', '1.08', '1.01', '1.18',\n",
              "       '1.10', '1.27', '0.83', '1.11', '0.78', '1.39', '1.12', '0.93',\n",
              "       '0.99', '0.90', '1.06', '0.68', '0.67', '1.14', '0.80', '0.96',\n",
              "       '0.95', '1.46', '1.03', '0.97', '0.94', '1.09', '1.24', '1.23',\n",
              "       '1.53', '1.26', '1.40', '1.17', '0.87', '0.61', '0.70', '1.07',\n",
              "       '1.73', '1.45', '1.20', '0.89', '0.84', '0.91', '0.85', '1.35',\n",
              "       '0.82', '1.50', '0.74', '1.71', '1.79', '0.73', '0.77', '1.25',\n",
              "       '?', '0.88', '0.72', '0.31', '0', '0.79', '0.81', '0.71', '1.93',\n",
              "       '1.32', '0.66', '1.68', '1.42', '1.70', '1.83', '1.41', '1.34',\n",
              "       '1.65', '1.22', '0.75', '1.74', '0.69', '1.51', '0.76', '1.16',\n",
              "       '0.35', '0.62', '0.54', '1.36', '1.33', '1.30', '0.48', '1.59',\n",
              "       '1.75', '1.86', '1.38', '1.43', '1.62', '2.01', '0.30', '1.31',\n",
              "       '1.15', '1.57', '0.55', '1.66', '0.52', '1.97', '1.47', '0.36',\n",
              "       '1.88', '1.55', '0.34', '1.67', '0.58', '0.60', '0.59', '1.37',\n",
              "       '1.76', '0.64', '1.80', '0.41', '0.20', '1.77', '0.33', '1.54',\n",
              "       '0.46', '0.32', '1.44', '1.56', '0.56', '1.52', '2.03', '0.65',\n",
              "       '0.63', '1.96', '0.53', '0.47', '0.29', '2.21', '1.69', '1.64',\n",
              "       '1.49', '1.72', '1.58', '0.57', '1.61', '0.28', '2', '1.63',\n",
              "       '0.27', '1.94', '0.50', '0.49', '0.40', '0.38'], dtype=object)"
            ]
          },
          "metadata": {
            "tags": []
          },
          "execution_count": 30
        }
      ]
    },
    {
      "cell_type": "code",
      "metadata": {
        "id": "6LWrg1jvSoNO",
        "colab_type": "code",
        "colab": {
          "base_uri": "https://localhost:8080/",
          "height": 545
        },
        "outputId": "543000d7-431d-4aa8-e50e-c88721f67391"
      },
      "source": [
        "thyroid_df['FTI'].unique()\n",
        "\n",
        "# there is a combination of floats and integers. we will convert the integers to float during cleaning.\n",
        "# we also have question mark as a unique value, we will handle this during cleaning."
      ],
      "execution_count": 31,
      "outputs": [
        {
          "output_type": "execute_result",
          "data": {
            "text/plain": [
              "array(['10', '17', '0', '6', '44', '23', '63', '32', '7.50', '61', '41',\n",
              "       '76', '45', '34', '81', '11', '16', '46', '22', '12', '5', '47',\n",
              "       '29', '37', '60', '8.40', '8.50', '24', '28', '7', '49', '36',\n",
              "       '15', '9', '80', '53', '7.20', '68', '6.60', '48', '21', '14', '2',\n",
              "       '20', '1.40', '56', '3', '51', '13', '43', '78', '52', '64', '26',\n",
              "       '35', '31', '133', '3.40', '54', '8.90', '57', '5.50', '58', '55',\n",
              "       '2.80', '66', '4', '40', '50', '8.70', '87', '89', '112', '123',\n",
              "       '99', '92', '104', '69', '196', '107', '106', '74', '97', '?',\n",
              "       '122', '84', '114', '124', '241', '119', '120', '136', '85', '127',\n",
              "       '839', '137', '197', '96', '77', '108', '82', '72', '94', '91',\n",
              "       '240', '121', '109', '79', '100', '98', '73', '117', '165', '103',\n",
              "       '88', '101', '126', '132', '128', '143', '152', '141', '186',\n",
              "       '113', '102', '125', '93', '105', '159', '188', '71', '149', '116',\n",
              "       '83', '176', '161', '86', '140', '111', '158', '115', '171', '90',\n",
              "       '95', '70', '135', '134', '178', '110', '170', '205', '695', '155',\n",
              "       '118', '741', '131', '129', '142', '153', '75', '254', '246',\n",
              "       '139', '185', '157', '147', '164', '130', '222', '650', '174',\n",
              "       '182', '144', '169', '257', '145', '345', '180', '167', '151',\n",
              "       '154', '150', '219', '228', '65', '187', '166', '195', '208',\n",
              "       '138', '33', '173', '146', '211', '181', '190', '247', '221',\n",
              "       '395', '216', '212', '148', '162', '220', '370', '450', '160',\n",
              "       '59', '189', '203', '168', '179', '264', '470', '184', '163', '67',\n",
              "       '213', '354', '292', '359', '172', '156', '334', '177', '214',\n",
              "       '194', '192', '215', '217', '271', '250', '244', '308', '881',\n",
              "       '258', '316', '200', '711', '256', '232', '202', '39', '248',\n",
              "       '237', '259', '445', '19', '852', '42', '235', '634', '283', '305',\n",
              "       '204', '229', '332', '550', '249', '263', '615', '266', '198',\n",
              "       '175', '209', '299', '193', '227', '223', '337', '210', '272',\n",
              "       '702', '218', '239', '355', '482', '347', '485', '612', '428'],\n",
              "      dtype=object)"
            ]
          },
          "metadata": {
            "tags": []
          },
          "execution_count": 31
        }
      ]
    },
    {
      "cell_type": "code",
      "metadata": {
        "id": "Btt36Z0pTB0L",
        "colab_type": "code",
        "colab": {
          "base_uri": "https://localhost:8080/",
          "height": 123
        },
        "outputId": "9304f7eb-29cd-4d1b-b813-48a6b257b335"
      },
      "source": [
        "thyroid_df['TBG'].unique()\n",
        "\n",
        "# TBG consists of a question mark (to be handled during cleaning) and the rest are integers"
      ],
      "execution_count": 32,
      "outputs": [
        {
          "output_type": "execute_result",
          "data": {
            "text/plain": [
              "array(['?', '28', '34', '0', '19', '30', '25', '48', '39', '31', '16',\n",
              "       '21', '37', '40', '27', '3.10', '38', '108', '20', '36', '17',\n",
              "       '23', '35', '32', '63', '9.30', '15', '26', '33', '41', '110',\n",
              "       '22', '43', '53', '80', '47', '29', '13', '24', '18', '45', '86',\n",
              "       '50', '8.40', '52', '11', '12', '14', '65', '7.30', '8.50', '69',\n",
              "       '122'], dtype=object)"
            ]
          },
          "metadata": {
            "tags": []
          },
          "execution_count": 32
        }
      ]
    },
    {
      "cell_type": "markdown",
      "metadata": {
        "id": "s0j_33vib85q",
        "colab_type": "text"
      },
      "source": [
        "After checking the unique values in all the columns, let's check what is the total number of records that have question marks in all the columns. See the code below."
      ]
    },
    {
      "cell_type": "code",
      "metadata": {
        "id": "5gmskVwTUbT7",
        "colab_type": "code",
        "colab": {
          "base_uri": "https://localhost:8080/",
          "height": 492
        },
        "outputId": "145d8b7f-8acd-4feb-855a-eb3732e5a3af"
      },
      "source": [
        "print(thyroid_df[thyroid_df == '?'].count())"
      ],
      "execution_count": 33,
      "outputs": [
        {
          "output_type": "stream",
          "text": [
            "status                          0\n",
            "age                           446\n",
            "sex                            73\n",
            "on_thyroxine                    0\n",
            "query_on_thyroxine              0\n",
            "on_antithyroid_medication       0\n",
            "thyroid_surgery                 0\n",
            "query_hypothyroid               0\n",
            "query_hyperthyroid              0\n",
            "pregnant                        0\n",
            "sick                            0\n",
            "tumor                           0\n",
            "lithium                         0\n",
            "goitre                          0\n",
            "TSH_measured                    0\n",
            "TSH                           468\n",
            "T3_measured                     0\n",
            "T3                            695\n",
            "TT4_measured                    0\n",
            "TT4                           249\n",
            "T4U_measured                    0\n",
            "T4U                           248\n",
            "FTI_measured                    0\n",
            "FTI                           247\n",
            "TBG_measured                    0\n",
            "TBG                          2903\n",
            "dtype: int64\n"
          ],
          "name": "stdout"
        }
      ]
    },
    {
      "cell_type": "markdown",
      "metadata": {
        "id": "TkLZ1FyRVOF2",
        "colab_type": "text"
      },
      "source": [
        "Here are the records that have question marks with the total number of question marks in each column.\n",
        "\n",
        "age = 446\n",
        "\n",
        "sex = 73\n",
        "\n",
        "TSH = 468\n",
        "\n",
        "T3 = 695\n",
        "\n",
        "TT4 = 249\n",
        "\n",
        "T4U = 248\n",
        "\n",
        "FTI = 247\n",
        "\n",
        "TBG = 2,903\n",
        "\n",
        "Based on these observations, we quickly notice that TBG has the most question marks. It's total number of records with question marks is more than 75% of the total records. We will delete this column given that the records with question marks is too many and it doesn't make sense to impute more than 75% of the records.\n",
        "\n",
        "As for the other records with question marks, we will find a way to deal with the question marks by either imputing them or deleting them if it doesn't make sense to impute.\n",
        "\n",
        "\n"
      ]
    },
    {
      "cell_type": "code",
      "metadata": {
        "id": "RvHUVoLOHHBf",
        "colab_type": "code",
        "colab": {
          "base_uri": "https://localhost:8080/",
          "height": 35
        },
        "outputId": "91964f69-478d-4208-8f3e-e821cb9506c6"
      },
      "source": [
        "# I am interested to see the total number of records for each category (negative and hypothyroid) in \n",
        "# status column. \n",
        "\n",
        "thyroid_df[thyroid_df['status']=='negative'].shape\n",
        "\n",
        "# we see that the records that have status equal to negative is 3,012"
      ],
      "execution_count": 34,
      "outputs": [
        {
          "output_type": "execute_result",
          "data": {
            "text/plain": [
              "(3012, 26)"
            ]
          },
          "metadata": {
            "tags": []
          },
          "execution_count": 34
        }
      ]
    },
    {
      "cell_type": "code",
      "metadata": {
        "id": "19tM2cPtRgms",
        "colab_type": "code",
        "colab": {
          "base_uri": "https://localhost:8080/",
          "height": 35
        },
        "outputId": "9b2b1887-007f-42d9-a01b-94194697085b"
      },
      "source": [
        "thyroid_df[thyroid_df['status']=='hypothyroid'].shape\n",
        "# records that have hypothyroid on status column equals to 151"
      ],
      "execution_count": 35,
      "outputs": [
        {
          "output_type": "execute_result",
          "data": {
            "text/plain": [
              "(151, 26)"
            ]
          },
          "metadata": {
            "tags": []
          },
          "execution_count": 35
        }
      ]
    },
    {
      "cell_type": "markdown",
      "metadata": {
        "id": "4ML3_rXZx90P",
        "colab_type": "text"
      },
      "source": [
        "## Data cleaning  "
      ]
    },
    {
      "cell_type": "code",
      "metadata": {
        "id": "fSj9poo2f-5f",
        "colab_type": "code",
        "colab": {
          "base_uri": "https://localhost:8080/",
          "height": 492
        },
        "outputId": "aea8cacd-be28-4dc2-b802-8fa073c8e847"
      },
      "source": [
        "# checking for completeness. Are there any missing values in our dataset?\n",
        "\n",
        "print(thyroid_df.isnull().sum())\n",
        "\n",
        "# there are no missing values in our dataset"
      ],
      "execution_count": 36,
      "outputs": [
        {
          "output_type": "stream",
          "text": [
            "status                       0\n",
            "age                          0\n",
            "sex                          0\n",
            "on_thyroxine                 0\n",
            "query_on_thyroxine           0\n",
            "on_antithyroid_medication    0\n",
            "thyroid_surgery              0\n",
            "query_hypothyroid            0\n",
            "query_hyperthyroid           0\n",
            "pregnant                     0\n",
            "sick                         0\n",
            "tumor                        0\n",
            "lithium                      0\n",
            "goitre                       0\n",
            "TSH_measured                 0\n",
            "TSH                          0\n",
            "T3_measured                  0\n",
            "T3                           0\n",
            "TT4_measured                 0\n",
            "TT4                          0\n",
            "T4U_measured                 0\n",
            "T4U                          0\n",
            "FTI_measured                 0\n",
            "FTI                          0\n",
            "TBG_measured                 0\n",
            "TBG                          0\n",
            "dtype: int64\n"
          ],
          "name": "stdout"
        }
      ]
    },
    {
      "cell_type": "code",
      "metadata": {
        "id": "4s4zNbwjgRFT",
        "colab_type": "code",
        "colab": {
          "base_uri": "https://localhost:8080/",
          "height": 70
        },
        "outputId": "ec5a57d5-415f-4a5a-8a2f-d8633ad2325e"
      },
      "source": [
        "# checking for duplicates (consitency)\n",
        "\n",
        "thyroid_df.duplicated().value_counts()\n",
        "# we see 77 listed records as duplicates, let's explore further in the next cell"
      ],
      "execution_count": 37,
      "outputs": [
        {
          "output_type": "execute_result",
          "data": {
            "text/plain": [
              "False    3086\n",
              "True       77\n",
              "dtype: int64"
            ]
          },
          "metadata": {
            "tags": []
          },
          "execution_count": 37
        }
      ]
    },
    {
      "cell_type": "code",
      "metadata": {
        "id": "iuXoTKTkgm96",
        "colab_type": "code",
        "colab": {
          "base_uri": "https://localhost:8080/",
          "height": 437
        },
        "outputId": "101dda66-e616-4729-e0df-1c91e99077d0"
      },
      "source": [
        "# exploring further on the duplicated records\n",
        "duplicated = thyroid_df[thyroid_df.duplicated()]\n",
        "duplicated\n",
        "\n",
        "# given that we dont have a unique ID, it's hard to tell if these columns are actually duplicated. \n",
        "# All the records shown below are different, hence we wont be deleting any of these records."
      ],
      "execution_count": 38,
      "outputs": [
        {
          "output_type": "execute_result",
          "data": {
            "text/html": [
              "<div>\n",
              "<style scoped>\n",
              "    .dataframe tbody tr th:only-of-type {\n",
              "        vertical-align: middle;\n",
              "    }\n",
              "\n",
              "    .dataframe tbody tr th {\n",
              "        vertical-align: top;\n",
              "    }\n",
              "\n",
              "    .dataframe thead th {\n",
              "        text-align: right;\n",
              "    }\n",
              "</style>\n",
              "<table border=\"1\" class=\"dataframe\">\n",
              "  <thead>\n",
              "    <tr style=\"text-align: right;\">\n",
              "      <th></th>\n",
              "      <th>status</th>\n",
              "      <th>age</th>\n",
              "      <th>sex</th>\n",
              "      <th>on_thyroxine</th>\n",
              "      <th>query_on_thyroxine</th>\n",
              "      <th>on_antithyroid_medication</th>\n",
              "      <th>thyroid_surgery</th>\n",
              "      <th>query_hypothyroid</th>\n",
              "      <th>query_hyperthyroid</th>\n",
              "      <th>pregnant</th>\n",
              "      <th>sick</th>\n",
              "      <th>tumor</th>\n",
              "      <th>lithium</th>\n",
              "      <th>goitre</th>\n",
              "      <th>TSH_measured</th>\n",
              "      <th>TSH</th>\n",
              "      <th>T3_measured</th>\n",
              "      <th>T3</th>\n",
              "      <th>TT4_measured</th>\n",
              "      <th>TT4</th>\n",
              "      <th>T4U_measured</th>\n",
              "      <th>T4U</th>\n",
              "      <th>FTI_measured</th>\n",
              "      <th>FTI</th>\n",
              "      <th>TBG_measured</th>\n",
              "      <th>TBG</th>\n",
              "    </tr>\n",
              "  </thead>\n",
              "  <tbody>\n",
              "    <tr>\n",
              "      <th>53</th>\n",
              "      <td>hypothyroid</td>\n",
              "      <td>69</td>\n",
              "      <td>F</td>\n",
              "      <td>f</td>\n",
              "      <td>f</td>\n",
              "      <td>f</td>\n",
              "      <td>f</td>\n",
              "      <td>f</td>\n",
              "      <td>f</td>\n",
              "      <td>f</td>\n",
              "      <td>f</td>\n",
              "      <td>f</td>\n",
              "      <td>f</td>\n",
              "      <td>f</td>\n",
              "      <td>y</td>\n",
              "      <td>21</td>\n",
              "      <td>y</td>\n",
              "      <td>0.80</td>\n",
              "      <td>y</td>\n",
              "      <td>53</td>\n",
              "      <td>y</td>\n",
              "      <td>0.86</td>\n",
              "      <td>y</td>\n",
              "      <td>61</td>\n",
              "      <td>n</td>\n",
              "      <td>?</td>\n",
              "    </tr>\n",
              "    <tr>\n",
              "      <th>66</th>\n",
              "      <td>hypothyroid</td>\n",
              "      <td>62</td>\n",
              "      <td>M</td>\n",
              "      <td>f</td>\n",
              "      <td>f</td>\n",
              "      <td>f</td>\n",
              "      <td>f</td>\n",
              "      <td>f</td>\n",
              "      <td>f</td>\n",
              "      <td>f</td>\n",
              "      <td>f</td>\n",
              "      <td>f</td>\n",
              "      <td>f</td>\n",
              "      <td>f</td>\n",
              "      <td>y</td>\n",
              "      <td>100</td>\n",
              "      <td>y</td>\n",
              "      <td>0.40</td>\n",
              "      <td>y</td>\n",
              "      <td>10</td>\n",
              "      <td>y</td>\n",
              "      <td>1</td>\n",
              "      <td>y</td>\n",
              "      <td>10</td>\n",
              "      <td>n</td>\n",
              "      <td>?</td>\n",
              "    </tr>\n",
              "    <tr>\n",
              "      <th>124</th>\n",
              "      <td>hypothyroid</td>\n",
              "      <td>77</td>\n",
              "      <td>F</td>\n",
              "      <td>f</td>\n",
              "      <td>f</td>\n",
              "      <td>f</td>\n",
              "      <td>f</td>\n",
              "      <td>f</td>\n",
              "      <td>f</td>\n",
              "      <td>f</td>\n",
              "      <td>f</td>\n",
              "      <td>f</td>\n",
              "      <td>f</td>\n",
              "      <td>f</td>\n",
              "      <td>y</td>\n",
              "      <td>23</td>\n",
              "      <td>y</td>\n",
              "      <td>0.50</td>\n",
              "      <td>y</td>\n",
              "      <td>33</td>\n",
              "      <td>y</td>\n",
              "      <td>0.67</td>\n",
              "      <td>y</td>\n",
              "      <td>49</td>\n",
              "      <td>n</td>\n",
              "      <td>?</td>\n",
              "    </tr>\n",
              "    <tr>\n",
              "      <th>128</th>\n",
              "      <td>hypothyroid</td>\n",
              "      <td>79</td>\n",
              "      <td>F</td>\n",
              "      <td>f</td>\n",
              "      <td>f</td>\n",
              "      <td>f</td>\n",
              "      <td>f</td>\n",
              "      <td>f</td>\n",
              "      <td>f</td>\n",
              "      <td>f</td>\n",
              "      <td>f</td>\n",
              "      <td>f</td>\n",
              "      <td>f</td>\n",
              "      <td>f</td>\n",
              "      <td>y</td>\n",
              "      <td>29</td>\n",
              "      <td>y</td>\n",
              "      <td>1.60</td>\n",
              "      <td>y</td>\n",
              "      <td>47</td>\n",
              "      <td>y</td>\n",
              "      <td>0.97</td>\n",
              "      <td>y</td>\n",
              "      <td>48</td>\n",
              "      <td>n</td>\n",
              "      <td>?</td>\n",
              "    </tr>\n",
              "    <tr>\n",
              "      <th>131</th>\n",
              "      <td>hypothyroid</td>\n",
              "      <td>50</td>\n",
              "      <td>F</td>\n",
              "      <td>t</td>\n",
              "      <td>f</td>\n",
              "      <td>f</td>\n",
              "      <td>f</td>\n",
              "      <td>f</td>\n",
              "      <td>f</td>\n",
              "      <td>f</td>\n",
              "      <td>f</td>\n",
              "      <td>f</td>\n",
              "      <td>f</td>\n",
              "      <td>f</td>\n",
              "      <td>y</td>\n",
              "      <td>34</td>\n",
              "      <td>n</td>\n",
              "      <td>?</td>\n",
              "      <td>y</td>\n",
              "      <td>55</td>\n",
              "      <td>y</td>\n",
              "      <td>0.93</td>\n",
              "      <td>y</td>\n",
              "      <td>60</td>\n",
              "      <td>n</td>\n",
              "      <td>?</td>\n",
              "    </tr>\n",
              "    <tr>\n",
              "      <th>...</th>\n",
              "      <td>...</td>\n",
              "      <td>...</td>\n",
              "      <td>...</td>\n",
              "      <td>...</td>\n",
              "      <td>...</td>\n",
              "      <td>...</td>\n",
              "      <td>...</td>\n",
              "      <td>...</td>\n",
              "      <td>...</td>\n",
              "      <td>...</td>\n",
              "      <td>...</td>\n",
              "      <td>...</td>\n",
              "      <td>...</td>\n",
              "      <td>...</td>\n",
              "      <td>...</td>\n",
              "      <td>...</td>\n",
              "      <td>...</td>\n",
              "      <td>...</td>\n",
              "      <td>...</td>\n",
              "      <td>...</td>\n",
              "      <td>...</td>\n",
              "      <td>...</td>\n",
              "      <td>...</td>\n",
              "      <td>...</td>\n",
              "      <td>...</td>\n",
              "      <td>...</td>\n",
              "    </tr>\n",
              "    <tr>\n",
              "      <th>3048</th>\n",
              "      <td>negative</td>\n",
              "      <td>28</td>\n",
              "      <td>M</td>\n",
              "      <td>f</td>\n",
              "      <td>f</td>\n",
              "      <td>f</td>\n",
              "      <td>f</td>\n",
              "      <td>f</td>\n",
              "      <td>f</td>\n",
              "      <td>f</td>\n",
              "      <td>f</td>\n",
              "      <td>f</td>\n",
              "      <td>f</td>\n",
              "      <td>f</td>\n",
              "      <td>y</td>\n",
              "      <td>1</td>\n",
              "      <td>y</td>\n",
              "      <td>3.10</td>\n",
              "      <td>y</td>\n",
              "      <td>107</td>\n",
              "      <td>y</td>\n",
              "      <td>1.05</td>\n",
              "      <td>y</td>\n",
              "      <td>103</td>\n",
              "      <td>n</td>\n",
              "      <td>?</td>\n",
              "    </tr>\n",
              "    <tr>\n",
              "      <th>3055</th>\n",
              "      <td>negative</td>\n",
              "      <td>33</td>\n",
              "      <td>F</td>\n",
              "      <td>f</td>\n",
              "      <td>f</td>\n",
              "      <td>f</td>\n",
              "      <td>f</td>\n",
              "      <td>f</td>\n",
              "      <td>f</td>\n",
              "      <td>f</td>\n",
              "      <td>f</td>\n",
              "      <td>f</td>\n",
              "      <td>f</td>\n",
              "      <td>f</td>\n",
              "      <td>n</td>\n",
              "      <td>?</td>\n",
              "      <td>y</td>\n",
              "      <td>0.80</td>\n",
              "      <td>y</td>\n",
              "      <td>88</td>\n",
              "      <td>y</td>\n",
              "      <td>1.02</td>\n",
              "      <td>y</td>\n",
              "      <td>86</td>\n",
              "      <td>n</td>\n",
              "      <td>?</td>\n",
              "    </tr>\n",
              "    <tr>\n",
              "      <th>3066</th>\n",
              "      <td>negative</td>\n",
              "      <td>74</td>\n",
              "      <td>F</td>\n",
              "      <td>t</td>\n",
              "      <td>f</td>\n",
              "      <td>f</td>\n",
              "      <td>f</td>\n",
              "      <td>f</td>\n",
              "      <td>f</td>\n",
              "      <td>f</td>\n",
              "      <td>f</td>\n",
              "      <td>f</td>\n",
              "      <td>f</td>\n",
              "      <td>f</td>\n",
              "      <td>y</td>\n",
              "      <td>21</td>\n",
              "      <td>y</td>\n",
              "      <td>1.80</td>\n",
              "      <td>y</td>\n",
              "      <td>126</td>\n",
              "      <td>y</td>\n",
              "      <td>1.18</td>\n",
              "      <td>y</td>\n",
              "      <td>107</td>\n",
              "      <td>n</td>\n",
              "      <td>?</td>\n",
              "    </tr>\n",
              "    <tr>\n",
              "      <th>3111</th>\n",
              "      <td>negative</td>\n",
              "      <td>89</td>\n",
              "      <td>M</td>\n",
              "      <td>f</td>\n",
              "      <td>f</td>\n",
              "      <td>f</td>\n",
              "      <td>f</td>\n",
              "      <td>f</td>\n",
              "      <td>f</td>\n",
              "      <td>f</td>\n",
              "      <td>f</td>\n",
              "      <td>f</td>\n",
              "      <td>f</td>\n",
              "      <td>f</td>\n",
              "      <td>y</td>\n",
              "      <td>1.30</td>\n",
              "      <td>y</td>\n",
              "      <td>0.90</td>\n",
              "      <td>y</td>\n",
              "      <td>82</td>\n",
              "      <td>y</td>\n",
              "      <td>0.80</td>\n",
              "      <td>y</td>\n",
              "      <td>103</td>\n",
              "      <td>n</td>\n",
              "      <td>?</td>\n",
              "    </tr>\n",
              "    <tr>\n",
              "      <th>3151</th>\n",
              "      <td>negative</td>\n",
              "      <td>58</td>\n",
              "      <td>F</td>\n",
              "      <td>f</td>\n",
              "      <td>f</td>\n",
              "      <td>f</td>\n",
              "      <td>f</td>\n",
              "      <td>f</td>\n",
              "      <td>f</td>\n",
              "      <td>f</td>\n",
              "      <td>f</td>\n",
              "      <td>f</td>\n",
              "      <td>f</td>\n",
              "      <td>f</td>\n",
              "      <td>y</td>\n",
              "      <td>0.30</td>\n",
              "      <td>y</td>\n",
              "      <td>3.10</td>\n",
              "      <td>y</td>\n",
              "      <td>151</td>\n",
              "      <td>y</td>\n",
              "      <td>1.40</td>\n",
              "      <td>y</td>\n",
              "      <td>108</td>\n",
              "      <td>n</td>\n",
              "      <td>?</td>\n",
              "    </tr>\n",
              "  </tbody>\n",
              "</table>\n",
              "<p>77 rows × 26 columns</p>\n",
              "</div>"
            ],
            "text/plain": [
              "           status age sex on_thyroxine  ... FTI_measured  FTI TBG_measured TBG\n",
              "53    hypothyroid  69   F            f  ...            y   61            n   ?\n",
              "66    hypothyroid  62   M            f  ...            y   10            n   ?\n",
              "124   hypothyroid  77   F            f  ...            y   49            n   ?\n",
              "128   hypothyroid  79   F            f  ...            y   48            n   ?\n",
              "131   hypothyroid  50   F            t  ...            y   60            n   ?\n",
              "...           ...  ..  ..          ...  ...          ...  ...          ...  ..\n",
              "3048     negative  28   M            f  ...            y  103            n   ?\n",
              "3055     negative  33   F            f  ...            y   86            n   ?\n",
              "3066     negative  74   F            t  ...            y  107            n   ?\n",
              "3111     negative  89   M            f  ...            y  103            n   ?\n",
              "3151     negative  58   F            f  ...            y  108            n   ?\n",
              "\n",
              "[77 rows x 26 columns]"
            ]
          },
          "metadata": {
            "tags": []
          },
          "execution_count": 38
        }
      ]
    },
    {
      "cell_type": "code",
      "metadata": {
        "id": "Xh-1smXmoDHj",
        "colab_type": "code",
        "colab": {}
      },
      "source": [
        "# Next we drop TBG column, this is the column with more than 75% records as question marks\n",
        "\n",
        "thyroid_df.drop('TBG', axis=1, inplace=True)"
      ],
      "execution_count": 39,
      "outputs": []
    },
    {
      "cell_type": "code",
      "metadata": {
        "id": "En-o5GxCoVJE",
        "colab_type": "code",
        "colab": {
          "base_uri": "https://localhost:8080/",
          "height": 123
        },
        "outputId": "8f5be1d6-65e6-45d1-afc6-2d96f1f6e70a"
      },
      "source": [
        "# confirming that TBG has been dropped\n",
        "thyroid_df.columns\n",
        "\n",
        "# TBG has been dropped"
      ],
      "execution_count": 40,
      "outputs": [
        {
          "output_type": "execute_result",
          "data": {
            "text/plain": [
              "Index(['status', 'age', 'sex', 'on_thyroxine', 'query_on_thyroxine',\n",
              "       'on_antithyroid_medication', 'thyroid_surgery', 'query_hypothyroid',\n",
              "       'query_hyperthyroid', 'pregnant', 'sick', 'tumor', 'lithium', 'goitre',\n",
              "       'TSH_measured', 'TSH', 'T3_measured', 'T3', 'TT4_measured', 'TT4',\n",
              "       'T4U_measured', 'T4U', 'FTI_measured', 'FTI', 'TBG_measured'],\n",
              "      dtype='object')"
            ]
          },
          "metadata": {
            "tags": []
          },
          "execution_count": 40
        }
      ]
    },
    {
      "cell_type": "code",
      "metadata": {
        "id": "VGHbVW2wpjRm",
        "colab_type": "code",
        "colab": {
          "base_uri": "https://localhost:8080/",
          "height": 35
        },
        "outputId": "7e118864-d832-4a2a-de64-6fb03667e53f"
      },
      "source": [
        "thyroid_df.shape"
      ],
      "execution_count": 41,
      "outputs": [
        {
          "output_type": "execute_result",
          "data": {
            "text/plain": [
              "(3163, 25)"
            ]
          },
          "metadata": {
            "tags": []
          },
          "execution_count": 41
        }
      ]
    },
    {
      "cell_type": "code",
      "metadata": {
        "id": "fCg5-3jAjiEd",
        "colab_type": "code",
        "colab": {}
      },
      "source": [
        "# during the data initial exploration we saw that all the columns were listed as objects, but they are not all objects.\n",
        "# in this section we will convert the columns to their appropriate datatypes.\n",
        "# let's start by converting categorical variables to category\n",
        "\n",
        "thyroid_df['status'] = thyroid_df['status'].astype('category')\n",
        "thyroid_df['sex'] = thyroid_df['sex'].astype('category')\n",
        "thyroid_df['on_thyroxine'] = thyroid_df['on_thyroxine'].astype('category')\n",
        "thyroid_df['query_on_thyroxine'] = thyroid_df['query_on_thyroxine'].astype('category')\n",
        "thyroid_df['on_antithyroid_medication'] = thyroid_df['on_antithyroid_medication'].astype('category')\n",
        "thyroid_df['thyroid_surgery'] = thyroid_df['thyroid_surgery'].astype('category')\n",
        "thyroid_df['query_hypothyroid'] = thyroid_df['query_hypothyroid'].astype('category')\n",
        "\n",
        "thyroid_df['query_hyperthyroid'] = thyroid_df['query_hyperthyroid'].astype('category')\n",
        "thyroid_df['pregnant'] = thyroid_df['pregnant'].astype('category')\n",
        "thyroid_df['sick'] = thyroid_df['sick'].astype('category')\n",
        "thyroid_df['tumor'] = thyroid_df['tumor'].astype('category')\n",
        "thyroid_df['lithium'] = thyroid_df['lithium'].astype('category')\n",
        "thyroid_df['goitre'] = thyroid_df['goitre'].astype('category')\n",
        "thyroid_df['TSH_measured'] = thyroid_df['TSH_measured'].astype('category')\n",
        "\n",
        "thyroid_df['T3_measured'] = thyroid_df['T3_measured'].astype('category')\n",
        "thyroid_df['TT4_measured'] = thyroid_df['TT4_measured'].astype('category')\n",
        "thyroid_df['T4U_measured'] = thyroid_df['T4U_measured'].astype('category')\n",
        "thyroid_df['FTI_measured'] = thyroid_df['FTI_measured'].astype('category')\n",
        "thyroid_df['TBG_measured'] = thyroid_df['TBG_measured'].astype('category')\n"
      ],
      "execution_count": 42,
      "outputs": []
    },
    {
      "cell_type": "code",
      "metadata": {
        "id": "zR7YJZEOrh3D",
        "colab_type": "code",
        "colab": {
          "base_uri": "https://localhost:8080/",
          "height": 475
        },
        "outputId": "68cc13f1-1ad4-4b52-cc19-7db88341cba1"
      },
      "source": [
        "# confirming that the categorical variables have been converted to category datatypes\n",
        "\n",
        "thyroid_df.dtypes\n",
        "\n",
        "# yes they have"
      ],
      "execution_count": 43,
      "outputs": [
        {
          "output_type": "execute_result",
          "data": {
            "text/plain": [
              "status                       category\n",
              "age                            object\n",
              "sex                          category\n",
              "on_thyroxine                 category\n",
              "query_on_thyroxine           category\n",
              "on_antithyroid_medication    category\n",
              "thyroid_surgery              category\n",
              "query_hypothyroid            category\n",
              "query_hyperthyroid           category\n",
              "pregnant                     category\n",
              "sick                         category\n",
              "tumor                        category\n",
              "lithium                      category\n",
              "goitre                       category\n",
              "TSH_measured                 category\n",
              "TSH                            object\n",
              "T3_measured                  category\n",
              "T3                             object\n",
              "TT4_measured                 category\n",
              "TT4                            object\n",
              "T4U_measured                 category\n",
              "T4U                            object\n",
              "FTI_measured                 category\n",
              "FTI                            object\n",
              "TBG_measured                 category\n",
              "dtype: object"
            ]
          },
          "metadata": {
            "tags": []
          },
          "execution_count": 43
        }
      ]
    },
    {
      "cell_type": "code",
      "metadata": {
        "id": "k6bf5BpXqUdS",
        "colab_type": "code",
        "colab": {
          "base_uri": "https://localhost:8080/",
          "height": 475
        },
        "outputId": "b76b7bae-2f1a-4b2e-8ab9-912e5ce01f2b"
      },
      "source": [
        "# let's convert numerical variables to numerical datatypes and replace question marks nan\n",
        "thyroid_df['age'] = pd.to_numeric(thyroid_df['age'], errors = 'coerce') #‘coerce’ converts invalid parsing in this case '?' to NaN.\n",
        "thyroid_df['TSH'] = pd.to_numeric(thyroid_df['TSH'], errors = 'coerce')\n",
        "thyroid_df['T3'] = pd.to_numeric(thyroid_df['T3'], errors = 'coerce')\n",
        "thyroid_df['TT4'] = pd.to_numeric(thyroid_df['TT4'], errors = 'coerce')\n",
        "thyroid_df['T4U'] = pd.to_numeric(thyroid_df['T4U'], errors = 'coerce')\n",
        "thyroid_df['FTI'] = pd.to_numeric(thyroid_df['FTI'], errors = 'coerce')\n",
        "\n",
        "print(thyroid_df.dtypes)\n",
        "# we see that all the columns have been converted to float, but some of the columns are not floats. \n",
        "# We will change the non-float columns to appropriate datatypes"
      ],
      "execution_count": 44,
      "outputs": [
        {
          "output_type": "stream",
          "text": [
            "status                       category\n",
            "age                           float64\n",
            "sex                          category\n",
            "on_thyroxine                 category\n",
            "query_on_thyroxine           category\n",
            "on_antithyroid_medication    category\n",
            "thyroid_surgery              category\n",
            "query_hypothyroid            category\n",
            "query_hyperthyroid           category\n",
            "pregnant                     category\n",
            "sick                         category\n",
            "tumor                        category\n",
            "lithium                      category\n",
            "goitre                       category\n",
            "TSH_measured                 category\n",
            "TSH                           float64\n",
            "T3_measured                  category\n",
            "T3                            float64\n",
            "TT4_measured                 category\n",
            "TT4                           float64\n",
            "T4U_measured                 category\n",
            "T4U                           float64\n",
            "FTI_measured                 category\n",
            "FTI                           float64\n",
            "TBG_measured                 category\n",
            "dtype: object\n"
          ],
          "name": "stdout"
        }
      ]
    },
    {
      "cell_type": "code",
      "metadata": {
        "id": "ax078NFBwXSl",
        "colab_type": "code",
        "colab": {
          "base_uri": "https://localhost:8080/",
          "height": 475
        },
        "outputId": "82acc7a0-770f-4dd0-e64a-1936fec0a828"
      },
      "source": [
        "# checking for null values\n",
        "print(thyroid_df.isnull().sum())"
      ],
      "execution_count": 45,
      "outputs": [
        {
          "output_type": "stream",
          "text": [
            "status                         0\n",
            "age                          446\n",
            "sex                            0\n",
            "on_thyroxine                   0\n",
            "query_on_thyroxine             0\n",
            "on_antithyroid_medication      0\n",
            "thyroid_surgery                0\n",
            "query_hypothyroid              0\n",
            "query_hyperthyroid             0\n",
            "pregnant                       0\n",
            "sick                           0\n",
            "tumor                          0\n",
            "lithium                        0\n",
            "goitre                         0\n",
            "TSH_measured                   0\n",
            "TSH                          468\n",
            "T3_measured                    0\n",
            "T3                           695\n",
            "TT4_measured                   0\n",
            "TT4                          249\n",
            "T4U_measured                   0\n",
            "T4U                          248\n",
            "FTI_measured                   0\n",
            "FTI                          247\n",
            "TBG_measured                   0\n",
            "dtype: int64\n"
          ],
          "name": "stdout"
        }
      ]
    },
    {
      "cell_type": "code",
      "metadata": {
        "id": "qKxiC5vfw5nj",
        "colab_type": "code",
        "colab": {}
      },
      "source": [
        "# dropping the null values\n",
        "\n",
        "thyroid_df.dropna(inplace=True)"
      ],
      "execution_count": 46,
      "outputs": []
    },
    {
      "cell_type": "code",
      "metadata": {
        "id": "3YHsd8ccxZjR",
        "colab_type": "code",
        "colab": {
          "base_uri": "https://localhost:8080/",
          "height": 475
        },
        "outputId": "efc3faa4-cc98-4ce5-caf0-52c7a13a5165"
      },
      "source": [
        "# confirming that the missing values have been dropped\n",
        "\n",
        "print(thyroid_df.isnull().sum())"
      ],
      "execution_count": 47,
      "outputs": [
        {
          "output_type": "stream",
          "text": [
            "status                       0\n",
            "age                          0\n",
            "sex                          0\n",
            "on_thyroxine                 0\n",
            "query_on_thyroxine           0\n",
            "on_antithyroid_medication    0\n",
            "thyroid_surgery              0\n",
            "query_hypothyroid            0\n",
            "query_hyperthyroid           0\n",
            "pregnant                     0\n",
            "sick                         0\n",
            "tumor                        0\n",
            "lithium                      0\n",
            "goitre                       0\n",
            "TSH_measured                 0\n",
            "TSH                          0\n",
            "T3_measured                  0\n",
            "T3                           0\n",
            "TT4_measured                 0\n",
            "TT4                          0\n",
            "T4U_measured                 0\n",
            "T4U                          0\n",
            "FTI_measured                 0\n",
            "FTI                          0\n",
            "TBG_measured                 0\n",
            "dtype: int64\n"
          ],
          "name": "stdout"
        }
      ]
    },
    {
      "cell_type": "code",
      "metadata": {
        "id": "9P6G0Viqx-AW",
        "colab_type": "code",
        "colab": {}
      },
      "source": [
        "# earlier we had seen that age, and TT4 were listed as floats but they are integers. we will fix that here\n",
        "\n",
        "thyroid_df['age'] = thyroid_df['age'].astype(int)\n",
        "thyroid_df['TT4'] = thyroid_df['TT4'].astype(int)"
      ],
      "execution_count": 48,
      "outputs": []
    },
    {
      "cell_type": "code",
      "metadata": {
        "id": "nd5p5IVxyqS6",
        "colab_type": "code",
        "colab": {
          "base_uri": "https://localhost:8080/",
          "height": 475
        },
        "outputId": "5b14398e-ba70-4743-ac53-235ebeb9acdf"
      },
      "source": [
        "# checking if all the columns have the correct data types\n",
        "\n",
        "thyroid_df.dtypes"
      ],
      "execution_count": 49,
      "outputs": [
        {
          "output_type": "execute_result",
          "data": {
            "text/plain": [
              "status                       category\n",
              "age                             int64\n",
              "sex                          category\n",
              "on_thyroxine                 category\n",
              "query_on_thyroxine           category\n",
              "on_antithyroid_medication    category\n",
              "thyroid_surgery              category\n",
              "query_hypothyroid            category\n",
              "query_hyperthyroid           category\n",
              "pregnant                     category\n",
              "sick                         category\n",
              "tumor                        category\n",
              "lithium                      category\n",
              "goitre                       category\n",
              "TSH_measured                 category\n",
              "TSH                           float64\n",
              "T3_measured                  category\n",
              "T3                            float64\n",
              "TT4_measured                 category\n",
              "TT4                             int64\n",
              "T4U_measured                 category\n",
              "T4U                           float64\n",
              "FTI_measured                 category\n",
              "FTI                           float64\n",
              "TBG_measured                 category\n",
              "dtype: object"
            ]
          },
          "metadata": {
            "tags": []
          },
          "execution_count": 49
        }
      ]
    },
    {
      "cell_type": "code",
      "metadata": {
        "id": "wZ9vlvNo-bxq",
        "colab_type": "code",
        "colab": {
          "base_uri": "https://localhost:8080/",
          "height": 475
        },
        "outputId": "c00174f5-46a4-4f30-945d-67b317ba2681"
      },
      "source": [
        "#  let's check if we still have any columns with question marks\n",
        "\n",
        "print(thyroid_df[thyroid_df == '?'].count())\n",
        "\n",
        "# all the columns have no question marks except for the sex column. we will take care of that next"
      ],
      "execution_count": 50,
      "outputs": [
        {
          "output_type": "stream",
          "text": [
            "status                        0\n",
            "age                           0\n",
            "sex                          12\n",
            "on_thyroxine                  0\n",
            "query_on_thyroxine            0\n",
            "on_antithyroid_medication     0\n",
            "thyroid_surgery               0\n",
            "query_hypothyroid             0\n",
            "query_hyperthyroid            0\n",
            "pregnant                      0\n",
            "sick                          0\n",
            "tumor                         0\n",
            "lithium                       0\n",
            "goitre                        0\n",
            "TSH_measured                  0\n",
            "TSH                           0\n",
            "T3_measured                   0\n",
            "T3                            0\n",
            "TT4_measured                  0\n",
            "TT4                           0\n",
            "T4U_measured                  0\n",
            "T4U                           0\n",
            "FTI_measured                  0\n",
            "FTI                           0\n",
            "TBG_measured                  0\n",
            "dtype: int64\n"
          ],
          "name": "stdout"
        }
      ]
    },
    {
      "cell_type": "code",
      "metadata": {
        "id": "vufIB-Jv-pln",
        "colab_type": "code",
        "colab": {
          "base_uri": "https://localhost:8080/",
          "height": 281
        },
        "outputId": "eb3671df-124f-4482-b02d-2c5f6f87f6dd"
      },
      "source": [
        "# the sex column has only 12 records with '?', we will drop these records to avoid any errors during the analysis\n",
        "\n",
        "df = thyroid_df.loc[thyroid_df['sex']=='?']\n",
        "print(df)\n",
        "thyroid_df = thyroid_df.drop([402, 721, 984, 1337, 1675, 1739, 1863, 2077, 2080, 2107, 2595, 2895], axis ='index')"
      ],
      "execution_count": 51,
      "outputs": [
        {
          "output_type": "stream",
          "text": [
            "        status  age sex on_thyroxine  ...   T4U FTI_measured    FTI TBG_measured\n",
            "402   negative   42   ?            t  ...  1.02            y  126.0            n\n",
            "721   negative   46   ?            t  ...  0.91            y  162.0            n\n",
            "984   negative   37   ?            f  ...  1.05            y  134.0            n\n",
            "1337  negative   38   ?            f  ...  0.83            y  104.0            n\n",
            "1675  negative   27   ?            f  ...  0.95            y   99.0            n\n",
            "1739  negative   64   ?            f  ...  0.85            y  110.0            n\n",
            "1863  negative   38   ?            f  ...  0.70            y  117.0            n\n",
            "2077  negative   47   ?            f  ...  1.31            y   78.0            n\n",
            "2080  negative   55   ?            f  ...  0.89            y   92.0            n\n",
            "2107  negative   65   ?            f  ...  0.77            y  168.0            n\n",
            "2595  negative   18   ?            t  ...  1.12            y  107.0            n\n",
            "2895  negative   46   ?            t  ...  0.91            y  192.0            n\n",
            "\n",
            "[12 rows x 25 columns]\n"
          ],
          "name": "stdout"
        }
      ]
    },
    {
      "cell_type": "code",
      "metadata": {
        "id": "P0mJwsxRBwxH",
        "colab_type": "code",
        "colab": {
          "base_uri": "https://localhost:8080/",
          "height": 492
        },
        "outputId": "10561177-a538-49c7-d973-ccca278e1a5a"
      },
      "source": [
        "# confirming that the rows in the sex columns with question marks have been dropped\n",
        "print(thyroid_df[thyroid_df == '?'].count())\n",
        "\n",
        "# checking the current shape of our data frame\n",
        "print(thyroid_df.shape)\n",
        "# our data set has 2,000 records and 25 columns "
      ],
      "execution_count": 52,
      "outputs": [
        {
          "output_type": "stream",
          "text": [
            "status                       0\n",
            "age                          0\n",
            "sex                          0\n",
            "on_thyroxine                 0\n",
            "query_on_thyroxine           0\n",
            "on_antithyroid_medication    0\n",
            "thyroid_surgery              0\n",
            "query_hypothyroid            0\n",
            "query_hyperthyroid           0\n",
            "pregnant                     0\n",
            "sick                         0\n",
            "tumor                        0\n",
            "lithium                      0\n",
            "goitre                       0\n",
            "TSH_measured                 0\n",
            "TSH                          0\n",
            "T3_measured                  0\n",
            "T3                           0\n",
            "TT4_measured                 0\n",
            "TT4                          0\n",
            "T4U_measured                 0\n",
            "T4U                          0\n",
            "FTI_measured                 0\n",
            "FTI                          0\n",
            "TBG_measured                 0\n",
            "dtype: int64\n",
            "(2000, 25)\n"
          ],
          "name": "stdout"
        }
      ]
    },
    {
      "cell_type": "code",
      "metadata": {
        "id": "3PGKJTV4Q95o",
        "colab_type": "code",
        "colab": {
          "base_uri": "https://localhost:8080/",
          "height": 505
        },
        "outputId": "36f01f6d-02f6-436b-c6ab-241e4b6a134c"
      },
      "source": [
        "# checking for outliers in numerical variables\n",
        "# plotting boxplots for age, TT4 and FTI\n",
        "thyroid_df.boxplot(['age', 'TT4', 'FTI'], grid=False, figsize=(12,8), fontsize=15)"
      ],
      "execution_count": 53,
      "outputs": [
        {
          "output_type": "execute_result",
          "data": {
            "text/plain": [
              "<matplotlib.axes._subplots.AxesSubplot at 0x7fbe855d1f60>"
            ]
          },
          "metadata": {
            "tags": []
          },
          "execution_count": 53
        },
        {
          "output_type": "display_data",
          "data": {
            "image/png": "[encoded data removed]",
            "text/plain": [
              "<Figure size 864x576 with 1 Axes>"
            ]
          },
          "metadata": {
            "tags": [],
            "needs_background": "light"
          }
        }
      ]
    },
    {
      "cell_type": "markdown",
      "metadata": {
        "id": "L5N90O-7ViID",
        "colab_type": "text"
      },
      "source": [
        "Age has no outliers. TT4 and FTI have some outliers but based in research we establish that it is possible to have very high or low levels of TT4 and FTI so we wont be deleting these outliers"
      ]
    },
    {
      "cell_type": "code",
      "metadata": {
        "id": "whvb2RplWkJg",
        "colab_type": "code",
        "colab": {
          "base_uri": "https://localhost:8080/",
          "height": 397
        },
        "outputId": "1c61d40b-1ecf-4e4c-abfc-2eedbdd30865"
      },
      "source": [
        "# plotting boxplots for T3 and T4U\n",
        "thyroid_df.boxplot(['T3', 'T4U'], grid=False, figsize=(10,6), fontsize=15)"
      ],
      "execution_count": 55,
      "outputs": [
        {
          "output_type": "execute_result",
          "data": {
            "text/plain": [
              "<matplotlib.axes._subplots.AxesSubplot at 0x7fbe85008f98>"
            ]
          },
          "metadata": {
            "tags": []
          },
          "execution_count": 55
        },
        {
          "output_type": "display_data",
          "data": {
            "image/png": "[encoded data removed]",
            "text/plain": [
              "<Figure size 720x432 with 1 Axes>"
            ]
          },
          "metadata": {
            "tags": [],
            "needs_background": "light"
          }
        }
      ]
    },
    {
      "cell_type": "markdown",
      "metadata": {
        "id": "2TvUvBUGaQ56",
        "colab_type": "text"
      },
      "source": [
        "We see some outliers on both columns, but we will keep them as well"
      ]
    },
    {
      "cell_type": "code",
      "metadata": {
        "id": "yt6R52p3Zjen",
        "colab_type": "code",
        "colab": {
          "base_uri": "https://localhost:8080/",
          "height": 505
        },
        "outputId": "3ce23799-c8da-4f3d-ce59-667ba745f109"
      },
      "source": [
        "# plotting boxplots for TSH\n",
        "thyroid_df.boxplot(['TSH'], grid=False, figsize=(4,8), fontsize=15)"
      ],
      "execution_count": 58,
      "outputs": [
        {
          "output_type": "execute_result",
          "data": {
            "text/plain": [
              "<matplotlib.axes._subplots.AxesSubplot at 0x7fbe84f1f128>"
            ]
          },
          "metadata": {
            "tags": []
          },
          "execution_count": 58
        },
        {
          "output_type": "display_data",
          "data": {
            "image/png": "[encoded data removed]",
            "text/plain": [
              "<Figure size 288x576 with 1 Axes>"
            ]
          },
          "metadata": {
            "tags": [],
            "needs_background": "light"
          }
        }
      ]
    },
    {
      "cell_type": "markdown",
      "metadata": {
        "id": "hV6aRRGZahiD",
        "colab_type": "text"
      },
      "source": [
        "There are outliers, and we have two points that are clearly away from the rest. These two points might affect our data so we will get rid of them"
      ]
    }
  ]
}